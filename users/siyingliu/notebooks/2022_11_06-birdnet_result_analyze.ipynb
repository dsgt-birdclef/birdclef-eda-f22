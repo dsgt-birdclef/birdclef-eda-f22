{
 "cells": [
  {
   "cell_type": "markdown",
   "metadata": {},
   "source": [
    "High level analysis:"
   ]
  },
  {
   "cell_type": "code",
   "execution_count": 33,
   "metadata": {},
   "outputs": [
    {
     "data": {
      "text/html": [
       "<div>\n",
       "<style scoped>\n",
       "    .dataframe tbody tr th:only-of-type {\n",
       "        vertical-align: middle;\n",
       "    }\n",
       "\n",
       "    .dataframe tbody tr th {\n",
       "        vertical-align: top;\n",
       "    }\n",
       "\n",
       "    .dataframe thead th {\n",
       "        text-align: right;\n",
       "    }\n",
       "</style>\n",
       "<table border=\"1\" class=\"dataframe\">\n",
       "  <thead>\n",
       "    <tr style=\"text-align: right;\">\n",
       "      <th></th>\n",
       "      <th>start_sec</th>\n",
       "      <th>end_sec</th>\n",
       "      <th>confidence</th>\n",
       "      <th>birdnet_label</th>\n",
       "      <th>birdnet_common_name</th>\n",
       "      <th>filename</th>\n",
       "    </tr>\n",
       "  </thead>\n",
       "  <tbody>\n",
       "    <tr>\n",
       "      <th>0</th>\n",
       "      <td>0.0</td>\n",
       "      <td>3.0</td>\n",
       "      <td>0.9030</td>\n",
       "      <td>afrsil1</td>\n",
       "      <td>African Silverbill</td>\n",
       "      <td>afrsil1/XC125458.ogg</td>\n",
       "    </tr>\n",
       "    <tr>\n",
       "      <th>1</th>\n",
       "      <td>0.0</td>\n",
       "      <td>3.0</td>\n",
       "      <td>0.4720</td>\n",
       "      <td>indsil</td>\n",
       "      <td>Indian Silverbill</td>\n",
       "      <td>afrsil1/XC125458.ogg</td>\n",
       "    </tr>\n",
       "    <tr>\n",
       "      <th>2</th>\n",
       "      <td>3.0</td>\n",
       "      <td>6.0</td>\n",
       "      <td>0.7311</td>\n",
       "      <td>afrsil1</td>\n",
       "      <td>African Silverbill</td>\n",
       "      <td>afrsil1/XC125458.ogg</td>\n",
       "    </tr>\n",
       "    <tr>\n",
       "      <th>3</th>\n",
       "      <td>6.0</td>\n",
       "      <td>9.0</td>\n",
       "      <td>0.5888</td>\n",
       "      <td>afrsil1</td>\n",
       "      <td>African Silverbill</td>\n",
       "      <td>afrsil1/XC125458.ogg</td>\n",
       "    </tr>\n",
       "    <tr>\n",
       "      <th>0</th>\n",
       "      <td>0.0</td>\n",
       "      <td>3.0</td>\n",
       "      <td>0.7585</td>\n",
       "      <td>whsflu1</td>\n",
       "      <td>White-spotted Flufftail</td>\n",
       "      <td>afrsil1/XC175522.ogg</td>\n",
       "    </tr>\n",
       "  </tbody>\n",
       "</table>\n",
       "</div>"
      ],
      "text/plain": [
       "   start_sec  end_sec  confidence birdnet_label      birdnet_common_name  \\\n",
       "0        0.0      3.0      0.9030       afrsil1       African Silverbill   \n",
       "1        0.0      3.0      0.4720        indsil        Indian Silverbill   \n",
       "2        3.0      6.0      0.7311       afrsil1       African Silverbill   \n",
       "3        6.0      9.0      0.5888       afrsil1       African Silverbill   \n",
       "0        0.0      3.0      0.7585       whsflu1  White-spotted Flufftail   \n",
       "\n",
       "               filename  \n",
       "0  afrsil1/XC125458.ogg  \n",
       "1  afrsil1/XC125458.ogg  \n",
       "2  afrsil1/XC125458.ogg  \n",
       "3  afrsil1/XC125458.ogg  \n",
       "0  afrsil1/XC175522.ogg  "
      ]
     },
     "metadata": {},
     "output_type": "display_data"
    },
    {
     "name": "stdout",
     "output_type": "stream",
     "text": [
      "Total number of small 3 second piece audio: 280252\n",
      "Total number of individual file: 14608\n"
     ]
    }
   ],
   "source": [
    "import pandas as pd\n",
    "import matplotlib.pyplot as plt\n",
    "\n",
    "df = pd.read_parquet(\n",
    "    \"https://storage.googleapis.com/birdclef-eda-f22/data/processed/birdnet/birdnet_analyze_v1.parquet\"\n",
    ")\n",
    "display(df.head())\n",
    "print(\n",
    "    f\"Total number of small 3 second piece audio: {len(df)}\"\n",
    ")  # 280252 small pieces of audio\n",
    "print(f\"Total number of individual file:\", df[\"filename\"].nunique())"
   ]
  },
  {
   "cell_type": "markdown",
   "metadata": {},
   "source": [
    "Bird species anlaysis:"
   ]
  },
  {
   "cell_type": "code",
   "execution_count": 34,
   "metadata": {},
   "outputs": [
    {
     "data": {
      "text/html": [
       "<div>\n",
       "<style scoped>\n",
       "    .dataframe tbody tr th:only-of-type {\n",
       "        vertical-align: middle;\n",
       "    }\n",
       "\n",
       "    .dataframe tbody tr th {\n",
       "        vertical-align: top;\n",
       "    }\n",
       "\n",
       "    .dataframe thead th {\n",
       "        text-align: right;\n",
       "    }\n",
       "</style>\n",
       "<table border=\"1\" class=\"dataframe\">\n",
       "  <thead>\n",
       "    <tr style=\"text-align: right;\">\n",
       "      <th></th>\n",
       "      <th>birdnet_common_name</th>\n",
       "      <th>count</th>\n",
       "    </tr>\n",
       "  </thead>\n",
       "  <tbody>\n",
       "    <tr>\n",
       "      <th>1345</th>\n",
       "      <td>House Sparrow</td>\n",
       "      <td>9126</td>\n",
       "    </tr>\n",
       "    <tr>\n",
       "      <th>953</th>\n",
       "      <td>Eurasian Skylark</td>\n",
       "      <td>6925</td>\n",
       "    </tr>\n",
       "    <tr>\n",
       "      <th>1738</th>\n",
       "      <td>Northern Mockingbird</td>\n",
       "      <td>5868</td>\n",
       "    </tr>\n",
       "    <tr>\n",
       "      <th>1725</th>\n",
       "      <td>Northern Cardinal</td>\n",
       "      <td>4680</td>\n",
       "    </tr>\n",
       "    <tr>\n",
       "      <th>165</th>\n",
       "      <td>Barn Owl</td>\n",
       "      <td>4137</td>\n",
       "    </tr>\n",
       "    <tr>\n",
       "      <th>544</th>\n",
       "      <td>Canada Goose</td>\n",
       "      <td>4125</td>\n",
       "    </tr>\n",
       "    <tr>\n",
       "      <th>1587</th>\n",
       "      <td>Mallard</td>\n",
       "      <td>4096</td>\n",
       "    </tr>\n",
       "    <tr>\n",
       "      <th>2756</th>\n",
       "      <td>Western Meadowlark</td>\n",
       "      <td>4021</td>\n",
       "    </tr>\n",
       "    <tr>\n",
       "      <th>1344</th>\n",
       "      <td>House Finch</td>\n",
       "      <td>3758</td>\n",
       "    </tr>\n",
       "    <tr>\n",
       "      <th>755</th>\n",
       "      <td>Common Sandpiper</td>\n",
       "      <td>3686</td>\n",
       "    </tr>\n",
       "  </tbody>\n",
       "</table>\n",
       "</div>"
      ],
      "text/plain": [
       "       birdnet_common_name  count\n",
       "1345         House Sparrow   9126\n",
       "953       Eurasian Skylark   6925\n",
       "1738  Northern Mockingbird   5868\n",
       "1725     Northern Cardinal   4680\n",
       "165               Barn Owl   4137\n",
       "544           Canada Goose   4125\n",
       "1587               Mallard   4096\n",
       "2756    Western Meadowlark   4021\n",
       "1344           House Finch   3758\n",
       "755       Common Sandpiper   3686"
      ]
     },
     "metadata": {},
     "output_type": "display_data"
    },
    {
     "data": {
      "image/png": "[encoded data removed]",
      "text/plain": [
       "<Figure size 640x480 with 1 Axes>"
      ]
     },
     "metadata": {},
     "output_type": "display_data"
    }
   ],
   "source": [
    "# Bird species anlaysis:\n",
    "bird_spe = (\n",
    "    df.groupby(\"birdnet_common_name\")\n",
    "    .size()\n",
    "    .reset_index(name=\"count\")\n",
    "    .sort_values(by=[\"count\"], ascending=False)\n",
    ")\n",
    "display(bird_spe.head(10))\n",
    "plt.hist(bird_spe[bird_spe[\"count\"] < 2000][\"count\"])\n",
    "plt.show()\n",
    "# Comment:\n",
    "# traning data contains 3083 unique species, top 3 common species are House Sparrow, Eurasian Skylark, Northern Mockingbird\n",
    "# the identification frequency of most bird species is under 250"
   ]
  },
  {
   "cell_type": "markdown",
   "metadata": {},
   "source": [
    "Confidence anlaysis"
   ]
  },
  {
   "cell_type": "code",
   "execution_count": 60,
   "metadata": {},
   "outputs": [
    {
     "data": {
      "image/png": "[encoded data removed]",
      "text/plain": [
       "<Figure size 640x480 with 1 Axes>"
      ]
     },
     "metadata": {},
     "output_type": "display_data"
    },
    {
     "name": "stdout",
     "output_type": "stream",
     "text": [
      " 4.25 % of bird species whose confidence is larger than 0.5\n"
     ]
    }
   ],
   "source": [
    "bird_conf = (\n",
    "    df.groupby(\"birdnet_common_name\")[\"confidence\"]\n",
    "    .mean()\n",
    "    .reset_index(name=\"avg conf\")\n",
    "    .sort_values(by=[\"avg conf\"], ascending=False)\n",
    ")\n",
    "plt.hist(bird_conf[\"avg conf\"])\n",
    "plt.show()\n",
    "conf05 = len(bird_conf[bird_conf[\"avg conf\"] > 0.5]) / len(\n",
    "    bird_spe\n",
    ")  # proportion of bird species whose confidence is larger than 0.5\n",
    "print(f\"{conf05*100: .2f} % of bird species whose confidence is larger than 0.5\")"
   ]
  },
  {
   "cell_type": "code",
   "execution_count": 75,
   "metadata": {},
   "outputs": [
    {
     "data": {
      "text/html": [
       "<div>\n",
       "<style scoped>\n",
       "    .dataframe tbody tr th:only-of-type {\n",
       "        vertical-align: middle;\n",
       "    }\n",
       "\n",
       "    .dataframe tbody tr th {\n",
       "        vertical-align: top;\n",
       "    }\n",
       "\n",
       "    .dataframe thead th {\n",
       "        text-align: right;\n",
       "    }\n",
       "</style>\n",
       "<table border=\"1\" class=\"dataframe\">\n",
       "  <thead>\n",
       "    <tr style=\"text-align: right;\">\n",
       "      <th></th>\n",
       "      <th>birdnet_common_name</th>\n",
       "      <th>count</th>\n",
       "      <th>avg conf</th>\n",
       "    </tr>\n",
       "  </thead>\n",
       "  <tbody>\n",
       "    <tr>\n",
       "      <th>0</th>\n",
       "      <td>House Sparrow</td>\n",
       "      <td>9126</td>\n",
       "      <td>0.424709</td>\n",
       "    </tr>\n",
       "    <tr>\n",
       "      <th>1</th>\n",
       "      <td>Eurasian Skylark</td>\n",
       "      <td>6925</td>\n",
       "      <td>0.629225</td>\n",
       "    </tr>\n",
       "    <tr>\n",
       "      <th>2</th>\n",
       "      <td>Northern Mockingbird</td>\n",
       "      <td>5868</td>\n",
       "      <td>0.412637</td>\n",
       "    </tr>\n",
       "    <tr>\n",
       "      <th>3</th>\n",
       "      <td>Northern Cardinal</td>\n",
       "      <td>4680</td>\n",
       "      <td>0.559305</td>\n",
       "    </tr>\n",
       "    <tr>\n",
       "      <th>4</th>\n",
       "      <td>Barn Owl</td>\n",
       "      <td>4137</td>\n",
       "      <td>0.747095</td>\n",
       "    </tr>\n",
       "    <tr>\n",
       "      <th>5</th>\n",
       "      <td>Canada Goose</td>\n",
       "      <td>4125</td>\n",
       "      <td>0.625478</td>\n",
       "    </tr>\n",
       "    <tr>\n",
       "      <th>6</th>\n",
       "      <td>Mallard</td>\n",
       "      <td>4096</td>\n",
       "      <td>0.561048</td>\n",
       "    </tr>\n",
       "    <tr>\n",
       "      <th>7</th>\n",
       "      <td>Western Meadowlark</td>\n",
       "      <td>4021</td>\n",
       "      <td>0.549890</td>\n",
       "    </tr>\n",
       "    <tr>\n",
       "      <th>8</th>\n",
       "      <td>House Finch</td>\n",
       "      <td>3758</td>\n",
       "      <td>0.556682</td>\n",
       "    </tr>\n",
       "    <tr>\n",
       "      <th>9</th>\n",
       "      <td>Common Sandpiper</td>\n",
       "      <td>3686</td>\n",
       "      <td>0.857731</td>\n",
       "    </tr>\n",
       "  </tbody>\n",
       "</table>\n",
       "</div>"
      ],
      "text/plain": [
       "    birdnet_common_name  count  avg conf\n",
       "0         House Sparrow   9126  0.424709\n",
       "1      Eurasian Skylark   6925  0.629225\n",
       "2  Northern Mockingbird   5868  0.412637\n",
       "3     Northern Cardinal   4680  0.559305\n",
       "4              Barn Owl   4137  0.747095\n",
       "5          Canada Goose   4125  0.625478\n",
       "6               Mallard   4096  0.561048\n",
       "7    Western Meadowlark   4021  0.549890\n",
       "8           House Finch   3758  0.556682\n",
       "9      Common Sandpiper   3686  0.857731"
      ]
     },
     "metadata": {},
     "output_type": "display_data"
    },
    {
     "data": {
      "image/png": "[encoded data removed]",
      "text/plain": [
       "<Figure size 640x480 with 1 Axes>"
      ]
     },
     "metadata": {},
     "output_type": "display_data"
    }
   ],
   "source": [
    "top10bird = bird_spe.head(10)\n",
    "bird_conf10 = bird_conf[\n",
    "    bird_conf[\"birdnet_common_name\"].isin(top10bird[\"birdnet_common_name\"].values)\n",
    "]\n",
    "top10bird = top10bird.merge(bird_conf10, on=\"birdnet_common_name\")\n",
    "display(top10bird)\n",
    "\n",
    "plt.scatter(top10bird[\"count\"], top10bird[\"avg conf\"])\n",
    "for i, txt in enumerate(top10bird[\"birdnet_common_name\"].values):\n",
    "    plt.annotate(txt, (top10bird[\"count\"][i], top10bird[\"avg conf\"][i]))\n",
    "plt.show()"
   ]
  },
  {
   "cell_type": "code",
   "execution_count": null,
   "metadata": {},
   "outputs": [],
   "source": []
  }
 ],
 "metadata": {
  "kernelspec": {
   "display_name": "Python 3.9.7 ('base')",
   "language": "python",
   "name": "python3"
  },
  "language_info": {
   "codemirror_mode": {
    "name": "ipython",
    "version": 3
   },
   "file_extension": ".py",
   "mimetype": "text/x-python",
   "name": "python",
   "nbconvert_exporter": "python",
   "pygments_lexer": "ipython3",
   "version": "3.9.7"
  },
  "orig_nbformat": 4,
  "vscode": {
   "interpreter": {
    "hash": "82ed2ae668ffed6ac6d7b2acb65f4cc1f0ddfa4144baf21fa74f3500808f240f"
   }
  }
 },
 "nbformat": 4,
 "nbformat_minor": 2
}
