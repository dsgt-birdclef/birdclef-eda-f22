{
  "nbformat": 4,
  "nbformat_minor": 0,
  "metadata": {
    "colab": {
      "provenance": [],
      "machine_shape": "hm"
    },
    "kernelspec": {
      "name": "python3",
      "display_name": "Python 3"
    },
    "language_info": {
      "name": "python"
    },
    "accelerator": "GPU",
    "gpuClass": "standard"
  },
  "cells": [
    {
      "cell_type": "code",
      "execution_count": 37,
      "metadata": {
        "id": "lf4v8eUWUPPr"
      },
      "outputs": [],
      "source": [
        "import numpy as np\n",
        "import pandas as pd\n",
        "import seaborn as sns"
      ]
    },
    {
      "cell_type": "code",
      "source": [
        "from sklearn.metrics import precision_score, recall_score, f1_score, roc_auc_score\n",
        "from sklearn.model_selection import train_test_split\n",
        "from sklearn.decomposition import PCA\n",
        "from sklearn.pipeline import Pipeline\n",
        "from lightgbm import LGBMClassifier"
      ],
      "metadata": {
        "id": "5aIxjRPBASkM"
      },
      "execution_count": 97,
      "outputs": []
    },
    {
      "cell_type": "code",
      "source": [
        "import torch\n",
        "import torch.nn as nn\n",
        "from torch.nn.utils.rnn import pack_padded_sequence\n",
        "from copy import deepcopy\n",
        "from torch.utils.data import Dataset, DataLoader"
      ],
      "metadata": {
        "id": "qfAZpWYraoTf"
      },
      "execution_count": 1,
      "outputs": []
    },
    {
      "cell_type": "code",
      "source": [
        "from google.colab import drive\n",
        "drive.mount('/content/drive')"
      ],
      "metadata": {
        "colab": {
          "base_uri": "https://localhost:8080/"
        },
        "id": "4W1chF6IU1XN",
        "outputId": "4778d067-4d9c-4e50-c954-ab97dd04764c"
      },
      "execution_count": 3,
      "outputs": [
        {
          "output_type": "stream",
          "name": "stdout",
          "text": [
            "Mounted at /content/drive\n"
          ]
        }
      ]
    },
    {
      "cell_type": "code",
      "source": [
        "with open('drive/MyDrive/data/birdnet_clef/emb_cube.npy', 'rb') as f:\n",
        "    emb_cube = np.load(f)\n"
      ],
      "metadata": {
        "id": "EUogusQYUwTX"
      },
      "execution_count": 4,
      "outputs": []
    },
    {
      "cell_type": "code",
      "source": [
        "emb_cube.shape"
      ],
      "metadata": {
        "colab": {
          "base_uri": "https://localhost:8080/"
        },
        "id": "hkoFd77cU7H3",
        "outputId": "9e96b464-e633-4fc4-eefa-5886949780ac"
      },
      "execution_count": 5,
      "outputs": [
        {
          "output_type": "execute_result",
          "data": {
            "text/plain": [
              "(1841, 25, 320)"
            ]
          },
          "metadata": {},
          "execution_count": 5
        }
      ]
    },
    {
      "cell_type": "code",
      "source": [
        "meta_df_cut = pd.read_parquet(\"drive/MyDrive/data/birdnet_clef/meta_df_cut.pq\")\n",
        "meta_df_cut.drop(columns=[\"license\", \"sample_rate\", \"author\", \"details\"], inplace=True)\n",
        "print(meta_df_cut.shape)\n",
        "meta_df_cut.head()"
      ],
      "metadata": {
        "colab": {
          "base_uri": "https://localhost:8080/",
          "height": 223
        },
        "id": "Ed3f_w6nU86d",
        "outputId": "bc248633-253b-46a0-f859-0bdef84b1392"
      },
      "execution_count": 6,
      "outputs": [
        {
          "output_type": "stream",
          "name": "stdout",
          "text": [
            "(1841, 12)\n"
          ]
        },
        {
          "output_type": "execute_result",
          "data": {
            "text/plain": [
              "  primary_label              secondary_labels      type  latitude  longitude  \\\n",
              "0       afrsil1                            []  ['call']   21.3561  -158.0205   \n",
              "1       afrsil1                            []  ['call']   17.1003    54.2844   \n",
              "2        akiapo  ['apapan', 'hawama', 'iiwi']  ['song']   19.6294  -155.3615   \n",
              "3        akiapo                            []  ['song']   19.6294  -155.3615   \n",
              "4        aniani                            []  ['call']   22.1467  -159.6134   \n",
              "\n",
              "       scientific_name         common_name  rating   time  \\\n",
              "0      Euodice cantans  African Silverbill     4.0  11:00   \n",
              "1      Euodice cantans  African Silverbill     4.5  06:35   \n",
              "2  Hemignathus wilsoni          Akiapolaau     4.5  12:31   \n",
              "3  Hemignathus wilsoni          Akiapolaau     5.0  12:00   \n",
              "4        Magumma parva            Anianiau     4.0  09:00   \n",
              "\n",
              "                                 url              filename     length  \n",
              "0  https://www.xeno-canto.org/209513  afrsil1/XC209513.ogg  42.866937  \n",
              "1  https://www.xeno-canto.org/395771  afrsil1/XC395771.ogg  27.219000  \n",
              "2  https://www.xeno-canto.org/122399   akiapo/XC122399.ogg  29.328000  \n",
              "3  https://www.xeno-canto.org/306424   akiapo/XC306424.ogg  29.910219  \n",
              "4  https://www.xeno-canto.org/210203   aniani/XC210203.ogg  42.083250  "
            ],
            "text/html": [
              "\n",
              "  <div id=\"df-de148c7b-b241-412c-883d-c37e7834fde3\">\n",
              "    <div class=\"colab-df-container\">\n",
              "      <div>\n",
              "<style scoped>\n",
              "    .dataframe tbody tr th:only-of-type {\n",
              "        vertical-align: middle;\n",
              "    }\n",
              "\n",
              "    .dataframe tbody tr th {\n",
              "        vertical-align: top;\n",
              "    }\n",
              "\n",
              "    .dataframe thead th {\n",
              "        text-align: right;\n",
              "    }\n",
              "</style>\n",
              "<table border=\"1\" class=\"dataframe\">\n",
              "  <thead>\n",
              "    <tr style=\"text-align: right;\">\n",
              "      <th></th>\n",
              "      <th>primary_label</th>\n",
              "      <th>secondary_labels</th>\n",
              "      <th>type</th>\n",
              "      <th>latitude</th>\n",
              "      <th>longitude</th>\n",
              "      <th>scientific_name</th>\n",
              "      <th>common_name</th>\n",
              "      <th>rating</th>\n",
              "      <th>time</th>\n",
              "      <th>url</th>\n",
              "      <th>filename</th>\n",
              "      <th>length</th>\n",
              "    </tr>\n",
              "  </thead>\n",
              "  <tbody>\n",
              "    <tr>\n",
              "      <th>0</th>\n",
              "      <td>afrsil1</td>\n",
              "      <td>[]</td>\n",
              "      <td>['call']</td>\n",
              "      <td>21.3561</td>\n",
              "      <td>-158.0205</td>\n",
              "      <td>Euodice cantans</td>\n",
              "      <td>African Silverbill</td>\n",
              "      <td>4.0</td>\n",
              "      <td>11:00</td>\n",
              "      <td>https://www.xeno-canto.org/209513</td>\n",
              "      <td>afrsil1/XC209513.ogg</td>\n",
              "      <td>42.866937</td>\n",
              "    </tr>\n",
              "    <tr>\n",
              "      <th>1</th>\n",
              "      <td>afrsil1</td>\n",
              "      <td>[]</td>\n",
              "      <td>['call']</td>\n",
              "      <td>17.1003</td>\n",
              "      <td>54.2844</td>\n",
              "      <td>Euodice cantans</td>\n",
              "      <td>African Silverbill</td>\n",
              "      <td>4.5</td>\n",
              "      <td>06:35</td>\n",
              "      <td>https://www.xeno-canto.org/395771</td>\n",
              "      <td>afrsil1/XC395771.ogg</td>\n",
              "      <td>27.219000</td>\n",
              "    </tr>\n",
              "    <tr>\n",
              "      <th>2</th>\n",
              "      <td>akiapo</td>\n",
              "      <td>['apapan', 'hawama', 'iiwi']</td>\n",
              "      <td>['song']</td>\n",
              "      <td>19.6294</td>\n",
              "      <td>-155.3615</td>\n",
              "      <td>Hemignathus wilsoni</td>\n",
              "      <td>Akiapolaau</td>\n",
              "      <td>4.5</td>\n",
              "      <td>12:31</td>\n",
              "      <td>https://www.xeno-canto.org/122399</td>\n",
              "      <td>akiapo/XC122399.ogg</td>\n",
              "      <td>29.328000</td>\n",
              "    </tr>\n",
              "    <tr>\n",
              "      <th>3</th>\n",
              "      <td>akiapo</td>\n",
              "      <td>[]</td>\n",
              "      <td>['song']</td>\n",
              "      <td>19.6294</td>\n",
              "      <td>-155.3615</td>\n",
              "      <td>Hemignathus wilsoni</td>\n",
              "      <td>Akiapolaau</td>\n",
              "      <td>5.0</td>\n",
              "      <td>12:00</td>\n",
              "      <td>https://www.xeno-canto.org/306424</td>\n",
              "      <td>akiapo/XC306424.ogg</td>\n",
              "      <td>29.910219</td>\n",
              "    </tr>\n",
              "    <tr>\n",
              "      <th>4</th>\n",
              "      <td>aniani</td>\n",
              "      <td>[]</td>\n",
              "      <td>['call']</td>\n",
              "      <td>22.1467</td>\n",
              "      <td>-159.6134</td>\n",
              "      <td>Magumma parva</td>\n",
              "      <td>Anianiau</td>\n",
              "      <td>4.0</td>\n",
              "      <td>09:00</td>\n",
              "      <td>https://www.xeno-canto.org/210203</td>\n",
              "      <td>aniani/XC210203.ogg</td>\n",
              "      <td>42.083250</td>\n",
              "    </tr>\n",
              "  </tbody>\n",
              "</table>\n",
              "</div>\n",
              "      <button class=\"colab-df-convert\" onclick=\"convertToInteractive('df-de148c7b-b241-412c-883d-c37e7834fde3')\"\n",
              "              title=\"Convert this dataframe to an interactive table.\"\n",
              "              style=\"display:none;\">\n",
              "        \n",
              "  <svg xmlns=\"http://www.w3.org/2000/svg\" height=\"24px\"viewBox=\"0 0 24 24\"\n",
              "       width=\"24px\">\n",
              "    <path d=\"M0 0h24v24H0V0z\" fill=\"none\"/>\n",
              "    <path d=\"M18.56 5.44l.94 2.06.94-2.06 2.06-.94-2.06-.94-.94-2.06-.94 2.06-2.06.94zm-11 1L8.5 8.5l.94-2.06 2.06-.94-2.06-.94L8.5 2.5l-.94 2.06-2.06.94zm10 10l.94 2.06.94-2.06 2.06-.94-2.06-.94-.94-2.06-.94 2.06-2.06.94z\"/><path d=\"M17.41 7.96l-1.37-1.37c-.4-.4-.92-.59-1.43-.59-.52 0-1.04.2-1.43.59L10.3 9.45l-7.72 7.72c-.78.78-.78 2.05 0 2.83L4 21.41c.39.39.9.59 1.41.59.51 0 1.02-.2 1.41-.59l7.78-7.78 2.81-2.81c.8-.78.8-2.07 0-2.86zM5.41 20L4 18.59l7.72-7.72 1.47 1.35L5.41 20z\"/>\n",
              "  </svg>\n",
              "      </button>\n",
              "      \n",
              "  <style>\n",
              "    .colab-df-container {\n",
              "      display:flex;\n",
              "      flex-wrap:wrap;\n",
              "      gap: 12px;\n",
              "    }\n",
              "\n",
              "    .colab-df-convert {\n",
              "      background-color: #E8F0FE;\n",
              "      border: none;\n",
              "      border-radius: 50%;\n",
              "      cursor: pointer;\n",
              "      display: none;\n",
              "      fill: #1967D2;\n",
              "      height: 32px;\n",
              "      padding: 0 0 0 0;\n",
              "      width: 32px;\n",
              "    }\n",
              "\n",
              "    .colab-df-convert:hover {\n",
              "      background-color: #E2EBFA;\n",
              "      box-shadow: 0px 1px 2px rgba(60, 64, 67, 0.3), 0px 1px 3px 1px rgba(60, 64, 67, 0.15);\n",
              "      fill: #174EA6;\n",
              "    }\n",
              "\n",
              "    [theme=dark] .colab-df-convert {\n",
              "      background-color: #3B4455;\n",
              "      fill: #D2E3FC;\n",
              "    }\n",
              "\n",
              "    [theme=dark] .colab-df-convert:hover {\n",
              "      background-color: #434B5C;\n",
              "      box-shadow: 0px 1px 3px 1px rgba(0, 0, 0, 0.15);\n",
              "      filter: drop-shadow(0px 1px 2px rgba(0, 0, 0, 0.3));\n",
              "      fill: #FFFFFF;\n",
              "    }\n",
              "  </style>\n",
              "\n",
              "      <script>\n",
              "        const buttonEl =\n",
              "          document.querySelector('#df-de148c7b-b241-412c-883d-c37e7834fde3 button.colab-df-convert');\n",
              "        buttonEl.style.display =\n",
              "          google.colab.kernel.accessAllowed ? 'block' : 'none';\n",
              "\n",
              "        async function convertToInteractive(key) {\n",
              "          const element = document.querySelector('#df-de148c7b-b241-412c-883d-c37e7834fde3');\n",
              "          const dataTable =\n",
              "            await google.colab.kernel.invokeFunction('convertToInteractive',\n",
              "                                                     [key], {});\n",
              "          if (!dataTable) return;\n",
              "\n",
              "          const docLinkHtml = 'Like what you see? Visit the ' +\n",
              "            '<a target=\"_blank\" href=https://colab.research.google.com/notebooks/data_table.ipynb>data table notebook</a>'\n",
              "            + ' to learn more about interactive tables.';\n",
              "          element.innerHTML = '';\n",
              "          dataTable['output_type'] = 'display_data';\n",
              "          await google.colab.output.renderOutput(dataTable, element);\n",
              "          const docLink = document.createElement('div');\n",
              "          docLink.innerHTML = docLinkHtml;\n",
              "          element.appendChild(docLink);\n",
              "        }\n",
              "      </script>\n",
              "    </div>\n",
              "  </div>\n",
              "  "
            ]
          },
          "metadata": {},
          "execution_count": 6
        }
      ]
    },
    {
      "cell_type": "code",
      "source": [
        "df = pd.read_parquet(\n",
        "    \"https://storage.googleapis.com/birdclef-eda-f22/data/processed/birdnet/birdnet_analyze_v1.parquet\"\n",
        ")\n",
        "label = df[(df[\"end_sec\"]<=27)&(df.confidence >= 0.0)].groupby(\"filename\").agg({\n",
        "    'birdnet_label':'nunique',\n",
        "    'start_sec': 'nunique',\n",
        "    'confidence': 'max'\n",
        "})"
      ],
      "metadata": {
        "id": "6ed89HNzVKZF"
      },
      "execution_count": 7,
      "outputs": []
    },
    {
      "cell_type": "code",
      "source": [
        "meta_df_cut = meta_df_cut.join(label, on=\"filename\", how=\"left\")"
      ],
      "metadata": {
        "id": "kx2isyxUXYAa"
      },
      "execution_count": 8,
      "outputs": []
    },
    {
      "cell_type": "code",
      "source": [
        "meta_df_cut.fillna(0, inplace=True)"
      ],
      "metadata": {
        "id": "TzEpAB8eXx8y"
      },
      "execution_count": 9,
      "outputs": []
    },
    {
      "cell_type": "code",
      "source": [
        "meta_df_cut.confidence.hist()"
      ],
      "metadata": {
        "colab": {
          "base_uri": "https://localhost:8080/",
          "height": 282
        },
        "id": "97twVg6qZwIT",
        "outputId": "35bdadba-8986-4845-8c94-42299aee6ddd"
      },
      "execution_count": 10,
      "outputs": [
        {
          "output_type": "execute_result",
          "data": {
            "text/plain": [
              "<matplotlib.axes._subplots.AxesSubplot at 0x7f9ee4a56460>"
            ]
          },
          "metadata": {},
          "execution_count": 10
        },
        {
          "output_type": "display_data",
          "data": {
            "text/plain": [
              "<Figure size 432x288 with 1 Axes>"
            ],
            "image/png": "[encoded data removed]"
          },
          "metadata": {
            "needs_background": "light"
          }
        }
      ]
    },
    {
      "cell_type": "code",
      "source": [
        "meta_df_cut[\"have_bird\"] = (meta_df_cut[\"confidence\"] >= 0.9).astype(int)"
      ],
      "metadata": {
        "id": "rP_fTmQvZACb"
      },
      "execution_count": 11,
      "outputs": []
    },
    {
      "cell_type": "code",
      "source": [
        "meta_df_cut[\"have_bird\"].value_counts()"
      ],
      "metadata": {
        "colab": {
          "base_uri": "https://localhost:8080/"
        },
        "id": "kJzS8otcYpg9",
        "outputId": "013ef003-2fde-461c-c5fd-be172c0d5f92"
      },
      "execution_count": 12,
      "outputs": [
        {
          "output_type": "execute_result",
          "data": {
            "text/plain": [
              "1    1283\n",
              "0     558\n",
              "Name: have_bird, dtype: int64"
            ]
          },
          "metadata": {},
          "execution_count": 12
        }
      ]
    },
    {
      "cell_type": "code",
      "source": [
        "emb_cube.shape"
      ],
      "metadata": {
        "colab": {
          "base_uri": "https://localhost:8080/"
        },
        "id": "K0i-P3iNhO78",
        "outputId": "61d086d9-05ad-4968-d0b1-8f666c1f662e"
      },
      "execution_count": 13,
      "outputs": [
        {
          "output_type": "execute_result",
          "data": {
            "text/plain": [
              "(1841, 25, 320)"
            ]
          },
          "metadata": {},
          "execution_count": 13
        }
      ]
    },
    {
      "cell_type": "code",
      "source": [],
      "metadata": {
        "id": "G2J53IkhhZ3Z"
      },
      "execution_count": 13,
      "outputs": []
    },
    {
      "cell_type": "code",
      "source": [
        "meta_df_cut[\"emb_2d\"] = pd.Series(meta_df_cut.index.to_list()).apply(lambda x: emb_cube[x,:,:])\n",
        "meta_df_cut"
      ],
      "metadata": {
        "colab": {
          "base_uri": "https://localhost:8080/",
          "height": 1000
        },
        "id": "TxUIO67nhKez",
        "outputId": "e5bda2fd-b825-401a-b906-beff731bfa56"
      },
      "execution_count": 14,
      "outputs": [
        {
          "output_type": "execute_result",
          "data": {
            "text/plain": [
              "     primary_label              secondary_labels  \\\n",
              "0          afrsil1                            []   \n",
              "1          afrsil1                            []   \n",
              "2           akiapo  ['apapan', 'hawama', 'iiwi']   \n",
              "3           akiapo                            []   \n",
              "4           aniani                            []   \n",
              "...            ...                           ...   \n",
              "1836        zebdov                            []   \n",
              "1837        zebdov                            []   \n",
              "1838        zebdov                            []   \n",
              "1839        zebdov                            []   \n",
              "1840        zebdov                            []   \n",
              "\n",
              "                                    type   latitude   longitude  \\\n",
              "0                               ['call']  21.356100 -158.020500   \n",
              "1                               ['call']  17.100300   54.284400   \n",
              "2                               ['song']  19.629400 -155.361500   \n",
              "3                               ['song']  19.629400 -155.361500   \n",
              "4                               ['call']  22.146700 -159.613400   \n",
              "...                                  ...        ...         ...   \n",
              "1836                            ['song']  18.670800   98.655000   \n",
              "1837                            ['call']  12.554200  102.047200   \n",
              "1838                            ['Call']  -7.831191  114.387551   \n",
              "1839                            ['song']  18.293500   99.500700   \n",
              "1840  ['adult', 'call', 'sex uncertain']   1.434700  103.704300   \n",
              "\n",
              "          scientific_name         common_name  rating   time  \\\n",
              "0         Euodice cantans  African Silverbill     4.0  11:00   \n",
              "1         Euodice cantans  African Silverbill     4.5  06:35   \n",
              "2     Hemignathus wilsoni          Akiapolaau     4.5  12:31   \n",
              "3     Hemignathus wilsoni          Akiapolaau     5.0  12:00   \n",
              "4           Magumma parva            Anianiau     4.0  09:00   \n",
              "...                   ...                 ...     ...    ...   \n",
              "1836     Geopelia striata          Zebra Dove     4.0  10:30   \n",
              "1837     Geopelia striata          Zebra Dove     4.0  10:30   \n",
              "1838     Geopelia striata          Zebra Dove     5.0  10:21   \n",
              "1839     Geopelia striata          Zebra Dove     5.0  08:00   \n",
              "1840     Geopelia striata          Zebra Dove     4.0  09:00   \n",
              "\n",
              "                                    url              filename     length  \\\n",
              "0     https://www.xeno-canto.org/209513  afrsil1/XC209513.ogg  42.866937   \n",
              "1     https://www.xeno-canto.org/395771  afrsil1/XC395771.ogg  27.219000   \n",
              "2     https://www.xeno-canto.org/122399   akiapo/XC122399.ogg  29.328000   \n",
              "3     https://www.xeno-canto.org/306424   akiapo/XC306424.ogg  29.910219   \n",
              "4     https://www.xeno-canto.org/210203   aniani/XC210203.ogg  42.083250   \n",
              "...                                 ...                   ...        ...   \n",
              "1836  https://www.xeno-canto.org/447638   zebdov/XC447638.ogg  40.568156   \n",
              "1837  https://www.xeno-canto.org/559916   zebdov/XC559916.ogg  33.985000   \n",
              "1838  https://www.xeno-canto.org/578384   zebdov/XC578384.ogg  31.555000   \n",
              "1839  https://www.xeno-canto.org/598171   zebdov/XC598171.ogg  33.358000   \n",
              "1840  https://www.xeno-canto.org/665873   zebdov/XC665873.ogg  45.576000   \n",
              "\n",
              "      birdnet_label  start_sec  confidence  have_bird  \\\n",
              "0               8.0        9.0      0.9973          1   \n",
              "1               4.0        9.0      0.9633          1   \n",
              "2               5.0        6.0      0.9284          1   \n",
              "3               6.0        9.0      0.9844          1   \n",
              "4               3.0        5.0      0.8021          0   \n",
              "...             ...        ...         ...        ...   \n",
              "1836            3.0        7.0      0.9038          1   \n",
              "1837            4.0        9.0      0.8735          0   \n",
              "1838           10.0        8.0      0.9239          1   \n",
              "1839            2.0        7.0      0.9381          1   \n",
              "1840            9.0        8.0      0.9866          1   \n",
              "\n",
              "                                                 emb_2d  \n",
              "0     [[2.397629, 1.2727937, 1.6924118, 0.96529645, ...  \n",
              "1     [[1.7683223, 1.600648, 0.18377368, 1.3941551, ...  \n",
              "2     [[1.8520132, 0.5456287, 1.445063, 1.0568457, 0...  \n",
              "3     [[2.087037, 0.18106456, 0.10568639, 1.3522729,...  \n",
              "4     [[1.4449097, 0.52302724, 0.900517, 0.8686587, ...  \n",
              "...                                                 ...  \n",
              "1836  [[1.0385655, 1.0618016, 1.1200749, 0.37138078,...  \n",
              "1837  [[1.0912341, 1.216385, 1.4629607, 1.2032481, 0...  \n",
              "1838  [[1.1606328, 1.2192922, 0.89963084, 0.9660534,...  \n",
              "1839  [[1.0999609, 0.80271655, 0.6590689, 0.6796887,...  \n",
              "1840  [[1.7094342, 0.87730724, 1.418903, 0.8761172, ...  \n",
              "\n",
              "[1841 rows x 17 columns]"
            ],
            "text/html": [
              "\n",
              "  <div id=\"df-8b206382-ef54-426f-a487-dd8f0556cdf8\">\n",
              "    <div class=\"colab-df-container\">\n",
              "      <div>\n",
              "<style scoped>\n",
              "    .dataframe tbody tr th:only-of-type {\n",
              "        vertical-align: middle;\n",
              "    }\n",
              "\n",
              "    .dataframe tbody tr th {\n",
              "        vertical-align: top;\n",
              "    }\n",
              "\n",
              "    .dataframe thead th {\n",
              "        text-align: right;\n",
              "    }\n",
              "</style>\n",
              "<table border=\"1\" class=\"dataframe\">\n",
              "  <thead>\n",
              "    <tr style=\"text-align: right;\">\n",
              "      <th></th>\n",
              "      <th>primary_label</th>\n",
              "      <th>secondary_labels</th>\n",
              "      <th>type</th>\n",
              "      <th>latitude</th>\n",
              "      <th>longitude</th>\n",
              "      <th>scientific_name</th>\n",
              "      <th>common_name</th>\n",
              "      <th>rating</th>\n",
              "      <th>time</th>\n",
              "      <th>url</th>\n",
              "      <th>filename</th>\n",
              "      <th>length</th>\n",
              "      <th>birdnet_label</th>\n",
              "      <th>start_sec</th>\n",
              "      <th>confidence</th>\n",
              "      <th>have_bird</th>\n",
              "      <th>emb_2d</th>\n",
              "    </tr>\n",
              "  </thead>\n",
              "  <tbody>\n",
              "    <tr>\n",
              "      <th>0</th>\n",
              "      <td>afrsil1</td>\n",
              "      <td>[]</td>\n",
              "      <td>['call']</td>\n",
              "      <td>21.356100</td>\n",
              "      <td>-158.020500</td>\n",
              "      <td>Euodice cantans</td>\n",
              "      <td>African Silverbill</td>\n",
              "      <td>4.0</td>\n",
              "      <td>11:00</td>\n",
              "      <td>https://www.xeno-canto.org/209513</td>\n",
              "      <td>afrsil1/XC209513.ogg</td>\n",
              "      <td>42.866937</td>\n",
              "      <td>8.0</td>\n",
              "      <td>9.0</td>\n",
              "      <td>0.9973</td>\n",
              "      <td>1</td>\n",
              "      <td>[[2.397629, 1.2727937, 1.6924118, 0.96529645, ...</td>\n",
              "    </tr>\n",
              "    <tr>\n",
              "      <th>1</th>\n",
              "      <td>afrsil1</td>\n",
              "      <td>[]</td>\n",
              "      <td>['call']</td>\n",
              "      <td>17.100300</td>\n",
              "      <td>54.284400</td>\n",
              "      <td>Euodice cantans</td>\n",
              "      <td>African Silverbill</td>\n",
              "      <td>4.5</td>\n",
              "      <td>06:35</td>\n",
              "      <td>https://www.xeno-canto.org/395771</td>\n",
              "      <td>afrsil1/XC395771.ogg</td>\n",
              "      <td>27.219000</td>\n",
              "      <td>4.0</td>\n",
              "      <td>9.0</td>\n",
              "      <td>0.9633</td>\n",
              "      <td>1</td>\n",
              "      <td>[[1.7683223, 1.600648, 0.18377368, 1.3941551, ...</td>\n",
              "    </tr>\n",
              "    <tr>\n",
              "      <th>2</th>\n",
              "      <td>akiapo</td>\n",
              "      <td>['apapan', 'hawama', 'iiwi']</td>\n",
              "      <td>['song']</td>\n",
              "      <td>19.629400</td>\n",
              "      <td>-155.361500</td>\n",
              "      <td>Hemignathus wilsoni</td>\n",
              "      <td>Akiapolaau</td>\n",
              "      <td>4.5</td>\n",
              "      <td>12:31</td>\n",
              "      <td>https://www.xeno-canto.org/122399</td>\n",
              "      <td>akiapo/XC122399.ogg</td>\n",
              "      <td>29.328000</td>\n",
              "      <td>5.0</td>\n",
              "      <td>6.0</td>\n",
              "      <td>0.9284</td>\n",
              "      <td>1</td>\n",
              "      <td>[[1.8520132, 0.5456287, 1.445063, 1.0568457, 0...</td>\n",
              "    </tr>\n",
              "    <tr>\n",
              "      <th>3</th>\n",
              "      <td>akiapo</td>\n",
              "      <td>[]</td>\n",
              "      <td>['song']</td>\n",
              "      <td>19.629400</td>\n",
              "      <td>-155.361500</td>\n",
              "      <td>Hemignathus wilsoni</td>\n",
              "      <td>Akiapolaau</td>\n",
              "      <td>5.0</td>\n",
              "      <td>12:00</td>\n",
              "      <td>https://www.xeno-canto.org/306424</td>\n",
              "      <td>akiapo/XC306424.ogg</td>\n",
              "      <td>29.910219</td>\n",
              "      <td>6.0</td>\n",
              "      <td>9.0</td>\n",
              "      <td>0.9844</td>\n",
              "      <td>1</td>\n",
              "      <td>[[2.087037, 0.18106456, 0.10568639, 1.3522729,...</td>\n",
              "    </tr>\n",
              "    <tr>\n",
              "      <th>4</th>\n",
              "      <td>aniani</td>\n",
              "      <td>[]</td>\n",
              "      <td>['call']</td>\n",
              "      <td>22.146700</td>\n",
              "      <td>-159.613400</td>\n",
              "      <td>Magumma parva</td>\n",
              "      <td>Anianiau</td>\n",
              "      <td>4.0</td>\n",
              "      <td>09:00</td>\n",
              "      <td>https://www.xeno-canto.org/210203</td>\n",
              "      <td>aniani/XC210203.ogg</td>\n",
              "      <td>42.083250</td>\n",
              "      <td>3.0</td>\n",
              "      <td>5.0</td>\n",
              "      <td>0.8021</td>\n",
              "      <td>0</td>\n",
              "      <td>[[1.4449097, 0.52302724, 0.900517, 0.8686587, ...</td>\n",
              "    </tr>\n",
              "    <tr>\n",
              "      <th>...</th>\n",
              "      <td>...</td>\n",
              "      <td>...</td>\n",
              "      <td>...</td>\n",
              "      <td>...</td>\n",
              "      <td>...</td>\n",
              "      <td>...</td>\n",
              "      <td>...</td>\n",
              "      <td>...</td>\n",
              "      <td>...</td>\n",
              "      <td>...</td>\n",
              "      <td>...</td>\n",
              "      <td>...</td>\n",
              "      <td>...</td>\n",
              "      <td>...</td>\n",
              "      <td>...</td>\n",
              "      <td>...</td>\n",
              "      <td>...</td>\n",
              "    </tr>\n",
              "    <tr>\n",
              "      <th>1836</th>\n",
              "      <td>zebdov</td>\n",
              "      <td>[]</td>\n",
              "      <td>['song']</td>\n",
              "      <td>18.670800</td>\n",
              "      <td>98.655000</td>\n",
              "      <td>Geopelia striata</td>\n",
              "      <td>Zebra Dove</td>\n",
              "      <td>4.0</td>\n",
              "      <td>10:30</td>\n",
              "      <td>https://www.xeno-canto.org/447638</td>\n",
              "      <td>zebdov/XC447638.ogg</td>\n",
              "      <td>40.568156</td>\n",
              "      <td>3.0</td>\n",
              "      <td>7.0</td>\n",
              "      <td>0.9038</td>\n",
              "      <td>1</td>\n",
              "      <td>[[1.0385655, 1.0618016, 1.1200749, 0.37138078,...</td>\n",
              "    </tr>\n",
              "    <tr>\n",
              "      <th>1837</th>\n",
              "      <td>zebdov</td>\n",
              "      <td>[]</td>\n",
              "      <td>['call']</td>\n",
              "      <td>12.554200</td>\n",
              "      <td>102.047200</td>\n",
              "      <td>Geopelia striata</td>\n",
              "      <td>Zebra Dove</td>\n",
              "      <td>4.0</td>\n",
              "      <td>10:30</td>\n",
              "      <td>https://www.xeno-canto.org/559916</td>\n",
              "      <td>zebdov/XC559916.ogg</td>\n",
              "      <td>33.985000</td>\n",
              "      <td>4.0</td>\n",
              "      <td>9.0</td>\n",
              "      <td>0.8735</td>\n",
              "      <td>0</td>\n",
              "      <td>[[1.0912341, 1.216385, 1.4629607, 1.2032481, 0...</td>\n",
              "    </tr>\n",
              "    <tr>\n",
              "      <th>1838</th>\n",
              "      <td>zebdov</td>\n",
              "      <td>[]</td>\n",
              "      <td>['Call']</td>\n",
              "      <td>-7.831191</td>\n",
              "      <td>114.387551</td>\n",
              "      <td>Geopelia striata</td>\n",
              "      <td>Zebra Dove</td>\n",
              "      <td>5.0</td>\n",
              "      <td>10:21</td>\n",
              "      <td>https://www.xeno-canto.org/578384</td>\n",
              "      <td>zebdov/XC578384.ogg</td>\n",
              "      <td>31.555000</td>\n",
              "      <td>10.0</td>\n",
              "      <td>8.0</td>\n",
              "      <td>0.9239</td>\n",
              "      <td>1</td>\n",
              "      <td>[[1.1606328, 1.2192922, 0.89963084, 0.9660534,...</td>\n",
              "    </tr>\n",
              "    <tr>\n",
              "      <th>1839</th>\n",
              "      <td>zebdov</td>\n",
              "      <td>[]</td>\n",
              "      <td>['song']</td>\n",
              "      <td>18.293500</td>\n",
              "      <td>99.500700</td>\n",
              "      <td>Geopelia striata</td>\n",
              "      <td>Zebra Dove</td>\n",
              "      <td>5.0</td>\n",
              "      <td>08:00</td>\n",
              "      <td>https://www.xeno-canto.org/598171</td>\n",
              "      <td>zebdov/XC598171.ogg</td>\n",
              "      <td>33.358000</td>\n",
              "      <td>2.0</td>\n",
              "      <td>7.0</td>\n",
              "      <td>0.9381</td>\n",
              "      <td>1</td>\n",
              "      <td>[[1.0999609, 0.80271655, 0.6590689, 0.6796887,...</td>\n",
              "    </tr>\n",
              "    <tr>\n",
              "      <th>1840</th>\n",
              "      <td>zebdov</td>\n",
              "      <td>[]</td>\n",
              "      <td>['adult', 'call', 'sex uncertain']</td>\n",
              "      <td>1.434700</td>\n",
              "      <td>103.704300</td>\n",
              "      <td>Geopelia striata</td>\n",
              "      <td>Zebra Dove</td>\n",
              "      <td>4.0</td>\n",
              "      <td>09:00</td>\n",
              "      <td>https://www.xeno-canto.org/665873</td>\n",
              "      <td>zebdov/XC665873.ogg</td>\n",
              "      <td>45.576000</td>\n",
              "      <td>9.0</td>\n",
              "      <td>8.0</td>\n",
              "      <td>0.9866</td>\n",
              "      <td>1</td>\n",
              "      <td>[[1.7094342, 0.87730724, 1.418903, 0.8761172, ...</td>\n",
              "    </tr>\n",
              "  </tbody>\n",
              "</table>\n",
              "<p>1841 rows × 17 columns</p>\n",
              "</div>\n",
              "      <button class=\"colab-df-convert\" onclick=\"convertToInteractive('df-8b206382-ef54-426f-a487-dd8f0556cdf8')\"\n",
              "              title=\"Convert this dataframe to an interactive table.\"\n",
              "              style=\"display:none;\">\n",
              "        \n",
              "  <svg xmlns=\"http://www.w3.org/2000/svg\" height=\"24px\"viewBox=\"0 0 24 24\"\n",
              "       width=\"24px\">\n",
              "    <path d=\"M0 0h24v24H0V0z\" fill=\"none\"/>\n",
              "    <path d=\"M18.56 5.44l.94 2.06.94-2.06 2.06-.94-2.06-.94-.94-2.06-.94 2.06-2.06.94zm-11 1L8.5 8.5l.94-2.06 2.06-.94-2.06-.94L8.5 2.5l-.94 2.06-2.06.94zm10 10l.94 2.06.94-2.06 2.06-.94-2.06-.94-.94-2.06-.94 2.06-2.06.94z\"/><path d=\"M17.41 7.96l-1.37-1.37c-.4-.4-.92-.59-1.43-.59-.52 0-1.04.2-1.43.59L10.3 9.45l-7.72 7.72c-.78.78-.78 2.05 0 2.83L4 21.41c.39.39.9.59 1.41.59.51 0 1.02-.2 1.41-.59l7.78-7.78 2.81-2.81c.8-.78.8-2.07 0-2.86zM5.41 20L4 18.59l7.72-7.72 1.47 1.35L5.41 20z\"/>\n",
              "  </svg>\n",
              "      </button>\n",
              "      \n",
              "  <style>\n",
              "    .colab-df-container {\n",
              "      display:flex;\n",
              "      flex-wrap:wrap;\n",
              "      gap: 12px;\n",
              "    }\n",
              "\n",
              "    .colab-df-convert {\n",
              "      background-color: #E8F0FE;\n",
              "      border: none;\n",
              "      border-radius: 50%;\n",
              "      cursor: pointer;\n",
              "      display: none;\n",
              "      fill: #1967D2;\n",
              "      height: 32px;\n",
              "      padding: 0 0 0 0;\n",
              "      width: 32px;\n",
              "    }\n",
              "\n",
              "    .colab-df-convert:hover {\n",
              "      background-color: #E2EBFA;\n",
              "      box-shadow: 0px 1px 2px rgba(60, 64, 67, 0.3), 0px 1px 3px 1px rgba(60, 64, 67, 0.15);\n",
              "      fill: #174EA6;\n",
              "    }\n",
              "\n",
              "    [theme=dark] .colab-df-convert {\n",
              "      background-color: #3B4455;\n",
              "      fill: #D2E3FC;\n",
              "    }\n",
              "\n",
              "    [theme=dark] .colab-df-convert:hover {\n",
              "      background-color: #434B5C;\n",
              "      box-shadow: 0px 1px 3px 1px rgba(0, 0, 0, 0.15);\n",
              "      filter: drop-shadow(0px 1px 2px rgba(0, 0, 0, 0.3));\n",
              "      fill: #FFFFFF;\n",
              "    }\n",
              "  </style>\n",
              "\n",
              "      <script>\n",
              "        const buttonEl =\n",
              "          document.querySelector('#df-8b206382-ef54-426f-a487-dd8f0556cdf8 button.colab-df-convert');\n",
              "        buttonEl.style.display =\n",
              "          google.colab.kernel.accessAllowed ? 'block' : 'none';\n",
              "\n",
              "        async function convertToInteractive(key) {\n",
              "          const element = document.querySelector('#df-8b206382-ef54-426f-a487-dd8f0556cdf8');\n",
              "          const dataTable =\n",
              "            await google.colab.kernel.invokeFunction('convertToInteractive',\n",
              "                                                     [key], {});\n",
              "          if (!dataTable) return;\n",
              "\n",
              "          const docLinkHtml = 'Like what you see? Visit the ' +\n",
              "            '<a target=\"_blank\" href=https://colab.research.google.com/notebooks/data_table.ipynb>data table notebook</a>'\n",
              "            + ' to learn more about interactive tables.';\n",
              "          element.innerHTML = '';\n",
              "          dataTable['output_type'] = 'display_data';\n",
              "          await google.colab.output.renderOutput(dataTable, element);\n",
              "          const docLink = document.createElement('div');\n",
              "          docLink.innerHTML = docLinkHtml;\n",
              "          element.appendChild(docLink);\n",
              "        }\n",
              "      </script>\n",
              "    </div>\n",
              "  </div>\n",
              "  "
            ]
          },
          "metadata": {},
          "execution_count": 14
        }
      ]
    },
    {
      "cell_type": "code",
      "source": [
        "data = meta_df_cut[[\"filename\",\"have_bird\",\"emb_2d\"]].copy()\n",
        "data"
      ],
      "metadata": {
        "colab": {
          "base_uri": "https://localhost:8080/",
          "height": 423
        },
        "id": "KCwhbY0OhyJM",
        "outputId": "da6778ee-ff85-4d91-cbbb-0f50925eb6a5"
      },
      "execution_count": 15,
      "outputs": [
        {
          "output_type": "execute_result",
          "data": {
            "text/plain": [
              "                  filename  have_bird  \\\n",
              "0     afrsil1/XC209513.ogg          1   \n",
              "1     afrsil1/XC395771.ogg          1   \n",
              "2      akiapo/XC122399.ogg          1   \n",
              "3      akiapo/XC306424.ogg          1   \n",
              "4      aniani/XC210203.ogg          0   \n",
              "...                    ...        ...   \n",
              "1836   zebdov/XC447638.ogg          1   \n",
              "1837   zebdov/XC559916.ogg          0   \n",
              "1838   zebdov/XC578384.ogg          1   \n",
              "1839   zebdov/XC598171.ogg          1   \n",
              "1840   zebdov/XC665873.ogg          1   \n",
              "\n",
              "                                                 emb_2d  \n",
              "0     [[2.397629, 1.2727937, 1.6924118, 0.96529645, ...  \n",
              "1     [[1.7683223, 1.600648, 0.18377368, 1.3941551, ...  \n",
              "2     [[1.8520132, 0.5456287, 1.445063, 1.0568457, 0...  \n",
              "3     [[2.087037, 0.18106456, 0.10568639, 1.3522729,...  \n",
              "4     [[1.4449097, 0.52302724, 0.900517, 0.8686587, ...  \n",
              "...                                                 ...  \n",
              "1836  [[1.0385655, 1.0618016, 1.1200749, 0.37138078,...  \n",
              "1837  [[1.0912341, 1.216385, 1.4629607, 1.2032481, 0...  \n",
              "1838  [[1.1606328, 1.2192922, 0.89963084, 0.9660534,...  \n",
              "1839  [[1.0999609, 0.80271655, 0.6590689, 0.6796887,...  \n",
              "1840  [[1.7094342, 0.87730724, 1.418903, 0.8761172, ...  \n",
              "\n",
              "[1841 rows x 3 columns]"
            ],
            "text/html": [
              "\n",
              "  <div id=\"df-e1357e57-2236-4915-b4ff-b217a962a0f8\">\n",
              "    <div class=\"colab-df-container\">\n",
              "      <div>\n",
              "<style scoped>\n",
              "    .dataframe tbody tr th:only-of-type {\n",
              "        vertical-align: middle;\n",
              "    }\n",
              "\n",
              "    .dataframe tbody tr th {\n",
              "        vertical-align: top;\n",
              "    }\n",
              "\n",
              "    .dataframe thead th {\n",
              "        text-align: right;\n",
              "    }\n",
              "</style>\n",
              "<table border=\"1\" class=\"dataframe\">\n",
              "  <thead>\n",
              "    <tr style=\"text-align: right;\">\n",
              "      <th></th>\n",
              "      <th>filename</th>\n",
              "      <th>have_bird</th>\n",
              "      <th>emb_2d</th>\n",
              "    </tr>\n",
              "  </thead>\n",
              "  <tbody>\n",
              "    <tr>\n",
              "      <th>0</th>\n",
              "      <td>afrsil1/XC209513.ogg</td>\n",
              "      <td>1</td>\n",
              "      <td>[[2.397629, 1.2727937, 1.6924118, 0.96529645, ...</td>\n",
              "    </tr>\n",
              "    <tr>\n",
              "      <th>1</th>\n",
              "      <td>afrsil1/XC395771.ogg</td>\n",
              "      <td>1</td>\n",
              "      <td>[[1.7683223, 1.600648, 0.18377368, 1.3941551, ...</td>\n",
              "    </tr>\n",
              "    <tr>\n",
              "      <th>2</th>\n",
              "      <td>akiapo/XC122399.ogg</td>\n",
              "      <td>1</td>\n",
              "      <td>[[1.8520132, 0.5456287, 1.445063, 1.0568457, 0...</td>\n",
              "    </tr>\n",
              "    <tr>\n",
              "      <th>3</th>\n",
              "      <td>akiapo/XC306424.ogg</td>\n",
              "      <td>1</td>\n",
              "      <td>[[2.087037, 0.18106456, 0.10568639, 1.3522729,...</td>\n",
              "    </tr>\n",
              "    <tr>\n",
              "      <th>4</th>\n",
              "      <td>aniani/XC210203.ogg</td>\n",
              "      <td>0</td>\n",
              "      <td>[[1.4449097, 0.52302724, 0.900517, 0.8686587, ...</td>\n",
              "    </tr>\n",
              "    <tr>\n",
              "      <th>...</th>\n",
              "      <td>...</td>\n",
              "      <td>...</td>\n",
              "      <td>...</td>\n",
              "    </tr>\n",
              "    <tr>\n",
              "      <th>1836</th>\n",
              "      <td>zebdov/XC447638.ogg</td>\n",
              "      <td>1</td>\n",
              "      <td>[[1.0385655, 1.0618016, 1.1200749, 0.37138078,...</td>\n",
              "    </tr>\n",
              "    <tr>\n",
              "      <th>1837</th>\n",
              "      <td>zebdov/XC559916.ogg</td>\n",
              "      <td>0</td>\n",
              "      <td>[[1.0912341, 1.216385, 1.4629607, 1.2032481, 0...</td>\n",
              "    </tr>\n",
              "    <tr>\n",
              "      <th>1838</th>\n",
              "      <td>zebdov/XC578384.ogg</td>\n",
              "      <td>1</td>\n",
              "      <td>[[1.1606328, 1.2192922, 0.89963084, 0.9660534,...</td>\n",
              "    </tr>\n",
              "    <tr>\n",
              "      <th>1839</th>\n",
              "      <td>zebdov/XC598171.ogg</td>\n",
              "      <td>1</td>\n",
              "      <td>[[1.0999609, 0.80271655, 0.6590689, 0.6796887,...</td>\n",
              "    </tr>\n",
              "    <tr>\n",
              "      <th>1840</th>\n",
              "      <td>zebdov/XC665873.ogg</td>\n",
              "      <td>1</td>\n",
              "      <td>[[1.7094342, 0.87730724, 1.418903, 0.8761172, ...</td>\n",
              "    </tr>\n",
              "  </tbody>\n",
              "</table>\n",
              "<p>1841 rows × 3 columns</p>\n",
              "</div>\n",
              "      <button class=\"colab-df-convert\" onclick=\"convertToInteractive('df-e1357e57-2236-4915-b4ff-b217a962a0f8')\"\n",
              "              title=\"Convert this dataframe to an interactive table.\"\n",
              "              style=\"display:none;\">\n",
              "        \n",
              "  <svg xmlns=\"http://www.w3.org/2000/svg\" height=\"24px\"viewBox=\"0 0 24 24\"\n",
              "       width=\"24px\">\n",
              "    <path d=\"M0 0h24v24H0V0z\" fill=\"none\"/>\n",
              "    <path d=\"M18.56 5.44l.94 2.06.94-2.06 2.06-.94-2.06-.94-.94-2.06-.94 2.06-2.06.94zm-11 1L8.5 8.5l.94-2.06 2.06-.94-2.06-.94L8.5 2.5l-.94 2.06-2.06.94zm10 10l.94 2.06.94-2.06 2.06-.94-2.06-.94-.94-2.06-.94 2.06-2.06.94z\"/><path d=\"M17.41 7.96l-1.37-1.37c-.4-.4-.92-.59-1.43-.59-.52 0-1.04.2-1.43.59L10.3 9.45l-7.72 7.72c-.78.78-.78 2.05 0 2.83L4 21.41c.39.39.9.59 1.41.59.51 0 1.02-.2 1.41-.59l7.78-7.78 2.81-2.81c.8-.78.8-2.07 0-2.86zM5.41 20L4 18.59l7.72-7.72 1.47 1.35L5.41 20z\"/>\n",
              "  </svg>\n",
              "      </button>\n",
              "      \n",
              "  <style>\n",
              "    .colab-df-container {\n",
              "      display:flex;\n",
              "      flex-wrap:wrap;\n",
              "      gap: 12px;\n",
              "    }\n",
              "\n",
              "    .colab-df-convert {\n",
              "      background-color: #E8F0FE;\n",
              "      border: none;\n",
              "      border-radius: 50%;\n",
              "      cursor: pointer;\n",
              "      display: none;\n",
              "      fill: #1967D2;\n",
              "      height: 32px;\n",
              "      padding: 0 0 0 0;\n",
              "      width: 32px;\n",
              "    }\n",
              "\n",
              "    .colab-df-convert:hover {\n",
              "      background-color: #E2EBFA;\n",
              "      box-shadow: 0px 1px 2px rgba(60, 64, 67, 0.3), 0px 1px 3px 1px rgba(60, 64, 67, 0.15);\n",
              "      fill: #174EA6;\n",
              "    }\n",
              "\n",
              "    [theme=dark] .colab-df-convert {\n",
              "      background-color: #3B4455;\n",
              "      fill: #D2E3FC;\n",
              "    }\n",
              "\n",
              "    [theme=dark] .colab-df-convert:hover {\n",
              "      background-color: #434B5C;\n",
              "      box-shadow: 0px 1px 3px 1px rgba(0, 0, 0, 0.15);\n",
              "      filter: drop-shadow(0px 1px 2px rgba(0, 0, 0, 0.3));\n",
              "      fill: #FFFFFF;\n",
              "    }\n",
              "  </style>\n",
              "\n",
              "      <script>\n",
              "        const buttonEl =\n",
              "          document.querySelector('#df-e1357e57-2236-4915-b4ff-b217a962a0f8 button.colab-df-convert');\n",
              "        buttonEl.style.display =\n",
              "          google.colab.kernel.accessAllowed ? 'block' : 'none';\n",
              "\n",
              "        async function convertToInteractive(key) {\n",
              "          const element = document.querySelector('#df-e1357e57-2236-4915-b4ff-b217a962a0f8');\n",
              "          const dataTable =\n",
              "            await google.colab.kernel.invokeFunction('convertToInteractive',\n",
              "                                                     [key], {});\n",
              "          if (!dataTable) return;\n",
              "\n",
              "          const docLinkHtml = 'Like what you see? Visit the ' +\n",
              "            '<a target=\"_blank\" href=https://colab.research.google.com/notebooks/data_table.ipynb>data table notebook</a>'\n",
              "            + ' to learn more about interactive tables.';\n",
              "          element.innerHTML = '';\n",
              "          dataTable['output_type'] = 'display_data';\n",
              "          await google.colab.output.renderOutput(dataTable, element);\n",
              "          const docLink = document.createElement('div');\n",
              "          docLink.innerHTML = docLinkHtml;\n",
              "          element.appendChild(docLink);\n",
              "        }\n",
              "      </script>\n",
              "    </div>\n",
              "  </div>\n",
              "  "
            ]
          },
          "metadata": {},
          "execution_count": 15
        }
      ]
    },
    {
      "cell_type": "code",
      "source": [
        "# Develop RNN model\n",
        "\n",
        "class GRUClf(nn.Module):\n",
        "    def __init__(self, emb_dim = 320, output_size=1, gru_size=64, drop_prob=0.1, \n",
        "            gru_num_layer=8, bidirectional=False, decoder_depth=3, decoder_size = [256, 512, 64],\n",
        "            word_embedding='glove-wiki-gigaword-200'):\n",
        "        super().__init__()\n",
        "        self.emb_dim = emb_dim\n",
        "        if decoder_depth != len(decoder_size):\n",
        "            raise ValueError(\"decoder_depth must be equal to len(decoder_size)\")\n",
        "\n",
        "        self.gru_size = gru_size\n",
        "        self.gru_num_layer = gru_num_layer\n",
        "        self.decoder_depth = decoder_depth\n",
        "        self.decoder_size = decoder_size\n",
        "        self.output_size = output_size\n",
        "        self.gru = nn.GRU(\n",
        "            input_size = self.emb_dim, \n",
        "            hidden_size = gru_size, \n",
        "            num_layers = gru_num_layer, \n",
        "            bias = True,\n",
        "            batch_first=True, \n",
        "            dropout=drop_prob,\n",
        "            bidirectional=bidirectional)\n",
        "        \n",
        "        self.num_channel_hidden_out = gru_num_layer\n",
        "        if bidirectional:\n",
        "            self.num_channel_hidden_out *= 2\n",
        "        \n",
        "        self.size_hidden_out = self.num_channel_hidden_out * gru_size\n",
        "\n",
        "        if decoder_depth == 1:\n",
        "            decoder_mlp = nn.Sequential(\n",
        "                nn.Linear(self.size_hidden_out, decoder_size[0]),\n",
        "                nn.ReLU(),\n",
        "                nn.Linear(decoder_size[0], output_size)\n",
        "            )\n",
        "        elif decoder_depth == 2:\n",
        "            decoder_mlp = nn.Sequential(\n",
        "                nn.Linear(self.size_hidden_out, decoder_size[0]),\n",
        "                nn.ReLU(),\n",
        "                nn.Linear(decoder_size[0], decoder_size[1]),\n",
        "                nn.ReLU(),\n",
        "                nn.Linear(decoder_size[1], output_size)\n",
        "            )\n",
        "        elif decoder_depth == 3:\n",
        "            decoder_mlp = nn.Sequential(\n",
        "                nn.Linear(self.size_hidden_out, decoder_size[0]),\n",
        "                nn.ReLU(),\n",
        "                nn.Linear(decoder_size[0], decoder_size[1]),\n",
        "                nn.ReLU(),\n",
        "                nn.Linear(decoder_size[1], decoder_size[2]),\n",
        "                nn.ReLU(),\n",
        "                nn.Linear(decoder_size[2], output_size)\n",
        "            )\n",
        "        elif decoder_depth == 4:\n",
        "            decoder_mlp = nn.Sequential(\n",
        "                nn.Linear(self.size_hidden_out, decoder_size[0]),\n",
        "                nn.ReLU(),\n",
        "                nn.Linear(decoder_size[0], decoder_size[1]),\n",
        "                nn.ReLU(),\n",
        "                nn.Linear(decoder_size[1], decoder_size[2]),\n",
        "                nn.ReLU(),\n",
        "                nn.Linear(decoder_size[2], decoder_size[3]),\n",
        "                nn.ReLU(),\n",
        "                nn.Linear(decoder_size[3], output_size)\n",
        "            )\n",
        "\n",
        "        self.task1_mlp = deepcopy(decoder_mlp)\n",
        "\n",
        "\n",
        "        \n",
        "    \n",
        "    def forward(self, input_data):\n",
        "        batch_size = input_data.shape[0]\n",
        "        x_pack = pack_padded_sequence(input_data, torch.tensor([25]* batch_size), batch_first=True, enforce_sorted=False)\n",
        "        # x_pack = input_data\n",
        "        # print(\"after pack\", x_pack.data.shape)\n",
        "        _, ht = self.gru(x_pack)\n",
        "        ht = ht.permute((1,0,2))\n",
        "        ht = ht.reshape(batch_size, self.size_hidden_out)\n",
        "        out = self.task1_mlp(torch.relu(ht))\n",
        "        # out = nn.Sigmoid()(out)\n",
        "        return torch.sigmoid(out)"
      ],
      "metadata": {
        "id": "SdcOOCZfZf1c"
      },
      "execution_count": 16,
      "outputs": []
    },
    {
      "cell_type": "code",
      "source": [],
      "metadata": {
        "id": "lWthDZAmd0hf"
      },
      "execution_count": 16,
      "outputs": []
    },
    {
      "cell_type": "code",
      "source": [
        "class BirdDataset(Dataset):\n",
        "    def __init__(self, data, input_col, label_col):\n",
        "        super().__init__()\n",
        "        self.data = data.reset_index()\n",
        "        self.input_col = input_col\n",
        "        self.label_col = label_col\n",
        "\n",
        "    def __len__(self):\n",
        "        return self.data.shape[0]\n",
        "    \n",
        "    def __getitem__(self, idx):\n",
        "        # return x, y, s - s is the length of the input sequence\n",
        "        \n",
        "        x = self.data.loc[idx,self.input_col]\n",
        "        y = self.data.loc[idx,self.label_col]\n",
        "        \n",
        "        return x, y\n",
        "\n",
        "def collate_fn(batch):\n",
        "    inputs = [x[0] for x in batch]    \n",
        "    labels = [x[1] for x in batch]\n",
        "    return torch.tensor(inputs), torch.tensor(labels)"
      ],
      "metadata": {
        "id": "q-FrjwGXdNGu"
      },
      "execution_count": 17,
      "outputs": []
    },
    {
      "cell_type": "code",
      "source": [],
      "metadata": {
        "id": "bCiPJ75nifFF"
      },
      "execution_count": 17,
      "outputs": []
    },
    {
      "cell_type": "code",
      "source": [
        "model = GRUClf(output_size=1,\n",
        "               gru_size=32,\n",
        "               drop_prob=0.1,\n",
        "               gru_num_layer=3,\n",
        "               bidirectional=False,\n",
        "               decoder_depth=1,\n",
        "               decoder_size=[256])"
      ],
      "metadata": {
        "id": "8xLClGWIeGQh"
      },
      "execution_count": 18,
      "outputs": []
    },
    {
      "cell_type": "code",
      "source": [
        "def train_clf(train_dl, valid_dl, model, model_name, loss_func, \n",
        "    opt, save_path=\".\", epochs=1, device=None):\n",
        "    if device is None:\n",
        "        device = torch.device(\"cuda\" if torch.cuda.is_available() else \"cpu\")\n",
        "    model.to(device)\n",
        "    best_eval_loss = float('inf')\n",
        "    eval_loss_list = []\n",
        "    for epoch in range(epochs):\n",
        "        model.train()\n",
        "        for xb, yb in train_dl:\n",
        "            xb = xb.to(device)\n",
        "            yb = yb.to(device)\n",
        "            yb = torch.unsqueeze(yb,1)\n",
        "            yb = yb.to(torch.float32)\n",
        "            # print(yb.dtype)\n",
        "            # print(yb.shape)\n",
        "            yb_pred = model(xb)\n",
        "            # print(yb_pred.dtype)\n",
        "            # print(yb_pred.shape)\n",
        "            loss = loss_func(yb_pred, yb)\n",
        "            loss.backward()\n",
        "            opt.step()\n",
        "            opt.zero_grad()\n",
        "        model.eval()\n",
        "        with torch.no_grad():\n",
        "            train_loss = sum(\n",
        "                loss_func(model(xb.to(device)),\n",
        "                    torch.unsqueeze(yb.to(device).to(torch.float32),1)\n",
        "                    ) for (xb), yb in train_dl\n",
        "            )\n",
        "            valid_loss = sum(\n",
        "                loss_func(model(xb.to(device)),\n",
        "                    torch.unsqueeze(yb.to(device).to(torch.float32),1)\n",
        "                    ) for (xb), yb in valid_dl)\n",
        "        tl = (train_loss / len(train_dl)).cpu().numpy()\n",
        "        vl = (valid_loss / len(valid_dl)).cpu().numpy()\n",
        "        if vl < best_eval_loss and vl > tl:\n",
        "            best_eval_loss = vl\n",
        "            best_model = deepcopy(model)\n",
        "            torch.save(model.state_dict(), f'{save_path}/best_{model_name}.pt')\n",
        "        eval_loss_list.append(vl)\n",
        "        print(f\"Epoch {epoch:04}, train loss: {tl:.6f}, valid loss: {vl:.6f}, best valid loss: {best_eval_loss:.6f}\")\n",
        "        if epoch > 5 and min(eval_loss_list[-10:]) > best_eval_loss:\n",
        "            print(f\"Early stopping, best valid loss: {best_eval_loss:.6f}\")\n",
        "            break\n",
        "    # best_model = torch.load(f'best_model_{model_name}.pt')\n",
        "    best_model.eval()\n",
        "    return best_model"
      ],
      "metadata": {
        "id": "iwiO8zcNgUGp"
      },
      "execution_count": 19,
      "outputs": []
    },
    {
      "cell_type": "code",
      "source": [],
      "metadata": {
        "id": "8QAES-MkgTaO"
      },
      "execution_count": 20,
      "outputs": []
    },
    {
      "cell_type": "markdown",
      "source": [
        "# Modeling"
      ],
      "metadata": {
        "id": "f8S6mXxPEHCw"
      }
    },
    {
      "cell_type": "code",
      "source": [
        "df_train, df_valid, df_test = np.split(\n",
        "    data.sample(\n",
        "        frac=1, random_state=42), \n",
        "    [int(.8*len(data)), int(.9*len(data))])"
      ],
      "metadata": {
        "id": "kpyu1A7ifP2e"
      },
      "execution_count": 21,
      "outputs": []
    },
    {
      "cell_type": "markdown",
      "source": [
        "## Baseline"
      ],
      "metadata": {
        "id": "hJNjSzFVEYtd"
      }
    },
    {
      "cell_type": "code",
      "source": [
        "df_test"
      ],
      "metadata": {
        "colab": {
          "base_uri": "https://localhost:8080/",
          "height": 423
        },
        "id": "EJ-G2XRZEEOJ",
        "outputId": "12a43b16-3465-4956-820c-fa347de70c81"
      },
      "execution_count": 54,
      "outputs": [
        {
          "output_type": "execute_result",
          "data": {
            "text/plain": [
              "                  filename  have_bird  \\\n",
              "524    comsan/XC646457.ogg          1   \n",
              "1059  mallar3/XC628151.ogg          0   \n",
              "540    comwax/XC348462.ogg          1   \n",
              "1194   norcar/XC609232.ogg          1   \n",
              "748    gwfgoo/XC602729.ogg          0   \n",
              "...                    ...        ...   \n",
              "1130   norcar/XC233123.ogg          0   \n",
              "1294   osprey/XC518341.ogg          1   \n",
              "860    houspa/XC502429.ogg          1   \n",
              "1459   rocpig/XC302293.ogg          1   \n",
              "1126   norcar/XC179316.ogg          1   \n",
              "\n",
              "                                                 emb_2d  \n",
              "524   [[1.3648381, 0.47757056, 0.9585522, 0.96576434...  \n",
              "1059  [[1.0349622, 1.2719097, 0.21966143, 0.19584866...  \n",
              "540   [[1.3619212, 1.4887191, 1.3967752, 1.1579536, ...  \n",
              "1194  [[0.7208845, 1.2440221, 1.4025162, 0.56412774,...  \n",
              "748   [[1.089777, 1.1946472, 1.1867837, 0.28701344, ...  \n",
              "...                                                 ...  \n",
              "1130  [[0.4482822, 0.99948674, 1.3930095, 0.37808052...  \n",
              "1294  [[1.1058484, 0.9110319, 0.2624757, 0.83693314,...  \n",
              "860   [[1.2324969, 1.7428583, 0.94073844, 1.6044816,...  \n",
              "1459  [[1.6655306, 0.44840065, 1.5148406, 1.0536193,...  \n",
              "1126  [[1.0545164, 0.5895824, 1.0025034, 0.32307652,...  \n",
              "\n",
              "[185 rows x 3 columns]"
            ],
            "text/html": [
              "\n",
              "  <div id=\"df-4ac11c53-8d68-42a7-8dee-d26d2573b3fc\">\n",
              "    <div class=\"colab-df-container\">\n",
              "      <div>\n",
              "<style scoped>\n",
              "    .dataframe tbody tr th:only-of-type {\n",
              "        vertical-align: middle;\n",
              "    }\n",
              "\n",
              "    .dataframe tbody tr th {\n",
              "        vertical-align: top;\n",
              "    }\n",
              "\n",
              "    .dataframe thead th {\n",
              "        text-align: right;\n",
              "    }\n",
              "</style>\n",
              "<table border=\"1\" class=\"dataframe\">\n",
              "  <thead>\n",
              "    <tr style=\"text-align: right;\">\n",
              "      <th></th>\n",
              "      <th>filename</th>\n",
              "      <th>have_bird</th>\n",
              "      <th>emb_2d</th>\n",
              "    </tr>\n",
              "  </thead>\n",
              "  <tbody>\n",
              "    <tr>\n",
              "      <th>524</th>\n",
              "      <td>comsan/XC646457.ogg</td>\n",
              "      <td>1</td>\n",
              "      <td>[[1.3648381, 0.47757056, 0.9585522, 0.96576434...</td>\n",
              "    </tr>\n",
              "    <tr>\n",
              "      <th>1059</th>\n",
              "      <td>mallar3/XC628151.ogg</td>\n",
              "      <td>0</td>\n",
              "      <td>[[1.0349622, 1.2719097, 0.21966143, 0.19584866...</td>\n",
              "    </tr>\n",
              "    <tr>\n",
              "      <th>540</th>\n",
              "      <td>comwax/XC348462.ogg</td>\n",
              "      <td>1</td>\n",
              "      <td>[[1.3619212, 1.4887191, 1.3967752, 1.1579536, ...</td>\n",
              "    </tr>\n",
              "    <tr>\n",
              "      <th>1194</th>\n",
              "      <td>norcar/XC609232.ogg</td>\n",
              "      <td>1</td>\n",
              "      <td>[[0.7208845, 1.2440221, 1.4025162, 0.56412774,...</td>\n",
              "    </tr>\n",
              "    <tr>\n",
              "      <th>748</th>\n",
              "      <td>gwfgoo/XC602729.ogg</td>\n",
              "      <td>0</td>\n",
              "      <td>[[1.089777, 1.1946472, 1.1867837, 0.28701344, ...</td>\n",
              "    </tr>\n",
              "    <tr>\n",
              "      <th>...</th>\n",
              "      <td>...</td>\n",
              "      <td>...</td>\n",
              "      <td>...</td>\n",
              "    </tr>\n",
              "    <tr>\n",
              "      <th>1130</th>\n",
              "      <td>norcar/XC233123.ogg</td>\n",
              "      <td>0</td>\n",
              "      <td>[[0.4482822, 0.99948674, 1.3930095, 0.37808052...</td>\n",
              "    </tr>\n",
              "    <tr>\n",
              "      <th>1294</th>\n",
              "      <td>osprey/XC518341.ogg</td>\n",
              "      <td>1</td>\n",
              "      <td>[[1.1058484, 0.9110319, 0.2624757, 0.83693314,...</td>\n",
              "    </tr>\n",
              "    <tr>\n",
              "      <th>860</th>\n",
              "      <td>houspa/XC502429.ogg</td>\n",
              "      <td>1</td>\n",
              "      <td>[[1.2324969, 1.7428583, 0.94073844, 1.6044816,...</td>\n",
              "    </tr>\n",
              "    <tr>\n",
              "      <th>1459</th>\n",
              "      <td>rocpig/XC302293.ogg</td>\n",
              "      <td>1</td>\n",
              "      <td>[[1.6655306, 0.44840065, 1.5148406, 1.0536193,...</td>\n",
              "    </tr>\n",
              "    <tr>\n",
              "      <th>1126</th>\n",
              "      <td>norcar/XC179316.ogg</td>\n",
              "      <td>1</td>\n",
              "      <td>[[1.0545164, 0.5895824, 1.0025034, 0.32307652,...</td>\n",
              "    </tr>\n",
              "  </tbody>\n",
              "</table>\n",
              "<p>185 rows × 3 columns</p>\n",
              "</div>\n",
              "      <button class=\"colab-df-convert\" onclick=\"convertToInteractive('df-4ac11c53-8d68-42a7-8dee-d26d2573b3fc')\"\n",
              "              title=\"Convert this dataframe to an interactive table.\"\n",
              "              style=\"display:none;\">\n",
              "        \n",
              "  <svg xmlns=\"http://www.w3.org/2000/svg\" height=\"24px\"viewBox=\"0 0 24 24\"\n",
              "       width=\"24px\">\n",
              "    <path d=\"M0 0h24v24H0V0z\" fill=\"none\"/>\n",
              "    <path d=\"M18.56 5.44l.94 2.06.94-2.06 2.06-.94-2.06-.94-.94-2.06-.94 2.06-2.06.94zm-11 1L8.5 8.5l.94-2.06 2.06-.94-2.06-.94L8.5 2.5l-.94 2.06-2.06.94zm10 10l.94 2.06.94-2.06 2.06-.94-2.06-.94-.94-2.06-.94 2.06-2.06.94z\"/><path d=\"M17.41 7.96l-1.37-1.37c-.4-.4-.92-.59-1.43-.59-.52 0-1.04.2-1.43.59L10.3 9.45l-7.72 7.72c-.78.78-.78 2.05 0 2.83L4 21.41c.39.39.9.59 1.41.59.51 0 1.02-.2 1.41-.59l7.78-7.78 2.81-2.81c.8-.78.8-2.07 0-2.86zM5.41 20L4 18.59l7.72-7.72 1.47 1.35L5.41 20z\"/>\n",
              "  </svg>\n",
              "      </button>\n",
              "      \n",
              "  <style>\n",
              "    .colab-df-container {\n",
              "      display:flex;\n",
              "      flex-wrap:wrap;\n",
              "      gap: 12px;\n",
              "    }\n",
              "\n",
              "    .colab-df-convert {\n",
              "      background-color: #E8F0FE;\n",
              "      border: none;\n",
              "      border-radius: 50%;\n",
              "      cursor: pointer;\n",
              "      display: none;\n",
              "      fill: #1967D2;\n",
              "      height: 32px;\n",
              "      padding: 0 0 0 0;\n",
              "      width: 32px;\n",
              "    }\n",
              "\n",
              "    .colab-df-convert:hover {\n",
              "      background-color: #E2EBFA;\n",
              "      box-shadow: 0px 1px 2px rgba(60, 64, 67, 0.3), 0px 1px 3px 1px rgba(60, 64, 67, 0.15);\n",
              "      fill: #174EA6;\n",
              "    }\n",
              "\n",
              "    [theme=dark] .colab-df-convert {\n",
              "      background-color: #3B4455;\n",
              "      fill: #D2E3FC;\n",
              "    }\n",
              "\n",
              "    [theme=dark] .colab-df-convert:hover {\n",
              "      background-color: #434B5C;\n",
              "      box-shadow: 0px 1px 3px 1px rgba(0, 0, 0, 0.15);\n",
              "      filter: drop-shadow(0px 1px 2px rgba(0, 0, 0, 0.3));\n",
              "      fill: #FFFFFF;\n",
              "    }\n",
              "  </style>\n",
              "\n",
              "      <script>\n",
              "        const buttonEl =\n",
              "          document.querySelector('#df-4ac11c53-8d68-42a7-8dee-d26d2573b3fc button.colab-df-convert');\n",
              "        buttonEl.style.display =\n",
              "          google.colab.kernel.accessAllowed ? 'block' : 'none';\n",
              "\n",
              "        async function convertToInteractive(key) {\n",
              "          const element = document.querySelector('#df-4ac11c53-8d68-42a7-8dee-d26d2573b3fc');\n",
              "          const dataTable =\n",
              "            await google.colab.kernel.invokeFunction('convertToInteractive',\n",
              "                                                     [key], {});\n",
              "          if (!dataTable) return;\n",
              "\n",
              "          const docLinkHtml = 'Like what you see? Visit the ' +\n",
              "            '<a target=\"_blank\" href=https://colab.research.google.com/notebooks/data_table.ipynb>data table notebook</a>'\n",
              "            + ' to learn more about interactive tables.';\n",
              "          element.innerHTML = '';\n",
              "          dataTable['output_type'] = 'display_data';\n",
              "          await google.colab.output.renderOutput(dataTable, element);\n",
              "          const docLink = document.createElement('div');\n",
              "          docLink.innerHTML = docLinkHtml;\n",
              "          element.appendChild(docLink);\n",
              "        }\n",
              "      </script>\n",
              "    </div>\n",
              "  </div>\n",
              "  "
            ]
          },
          "metadata": {},
          "execution_count": 54
        }
      ]
    },
    {
      "cell_type": "code",
      "source": [
        "col_1d = [f\"a{i}\" for i in range(320)]"
      ],
      "metadata": {
        "id": "WiFZon87JEZm"
      },
      "execution_count": 93,
      "outputs": []
    },
    {
      "cell_type": "code",
      "source": [
        "|df_train[\"emb_1d\"] = df_train[\"emb_2d\"].apply(lambda x: np.mean(x, axis=0))\n",
        "for i in range(320):\n",
        "    df_train[f\"a{i}\"] = df_train[\"emb_1d\"].apply(lambda x: x[i])\n",
        "df_train.shape"
      ],
      "metadata": {
        "colab": {
          "base_uri": "https://localhost:8080/"
        },
        "id": "_Lu1bLq7Hg95",
        "outputId": "c8e4d151-a2cf-4045-90f0-f96b55a7a5f0"
      },
      "execution_count": 90,
      "outputs": [
        {
          "output_type": "stream",
          "name": "stderr",
          "text": [
            "<ipython-input-90-e9a2206850db>:3: PerformanceWarning: DataFrame is highly fragmented.  This is usually the result of calling `frame.insert` many times, which has poor performance.  Consider joining all columns at once using pd.concat(axis=1) instead.  To get a de-fragmented frame, use `newframe = frame.copy()`\n",
            "  df_train[f\"a{i}\"] = df_train[\"emb_1d\"].apply(lambda x: x[i])\n"
          ]
        },
        {
          "output_type": "execute_result",
          "data": {
            "text/plain": [
              "(1472, 324)"
            ]
          },
          "metadata": {},
          "execution_count": 90
        }
      ]
    },
    {
      "cell_type": "code",
      "source": [
        "df_test[\"emb_1d\"] = df_test[\"emb_2d\"].apply(lambda x: np.mean(x, axis=0))\n",
        "for i in range(320):\n",
        "    df_test[f\"a{i}\"] = df_test[\"emb_1d\"].apply(lambda x: x[i])\n",
        "df_test.shape"
      ],
      "metadata": {
        "colab": {
          "base_uri": "https://localhost:8080/"
        },
        "id": "pH82Isb-GMZ-",
        "outputId": "961a5ca6-274b-4957-b3e3-e79c45a6d55a"
      },
      "execution_count": 91,
      "outputs": [
        {
          "output_type": "stream",
          "name": "stderr",
          "text": [
            "<ipython-input-91-cd979106f3f2>:3: PerformanceWarning: DataFrame is highly fragmented.  This is usually the result of calling `frame.insert` many times, which has poor performance.  Consider joining all columns at once using pd.concat(axis=1) instead.  To get a de-fragmented frame, use `newframe = frame.copy()`\n",
            "  df_test[f\"a{i}\"] = df_test[\"emb_1d\"].apply(lambda x: x[i])\n"
          ]
        },
        {
          "output_type": "execute_result",
          "data": {
            "text/plain": [
              "(185, 324)"
            ]
          },
          "metadata": {},
          "execution_count": 91
        }
      ]
    },
    {
      "cell_type": "code",
      "source": [
        "X_train_ = df_train[[\"have_bird\"] + col_1d].copy()\n",
        "y_train_ = df_train[\"have_bird\"].copy()\n",
        "X_test_ = df_test[[\"have_bird\"] + col_1d].copy()\n",
        "y_test_ = df_test[\"have_bird\"].copy()"
      ],
      "metadata": {
        "id": "CJnvCESfFYif"
      },
      "execution_count": 101,
      "outputs": []
    },
    {
      "cell_type": "code",
      "source": [
        "base_model = Pipeline(steps=[\n",
        "    (\"pca\", PCA(n_components=32)),\n",
        "    (\"lgbm\", LGBMClassifier())\n",
        "])\n",
        "base_model"
      ],
      "metadata": {
        "colab": {
          "base_uri": "https://localhost:8080/"
        },
        "id": "nydJLGtWJZft",
        "outputId": "6e958658-6530-4bf8-b6f4-1d6d255fa832"
      },
      "execution_count": 100,
      "outputs": [
        {
          "output_type": "execute_result",
          "data": {
            "text/plain": [
              "Pipeline(steps=[('pca', PCA(n_components=32)), ('lgbm', LGBMClassifier())])"
            ]
          },
          "metadata": {},
          "execution_count": 100
        }
      ]
    },
    {
      "cell_type": "code",
      "source": [
        "base_model.fit(X_train_, y_train_)"
      ],
      "metadata": {
        "colab": {
          "base_uri": "https://localhost:8080/"
        },
        "id": "mMucUTTSJYma",
        "outputId": "f7248221-1b5b-4455-c507-ed45923e8fc0"
      },
      "execution_count": 102,
      "outputs": [
        {
          "output_type": "execute_result",
          "data": {
            "text/plain": [
              "Pipeline(steps=[('pca', PCA(n_components=32)), ('lgbm', LGBMClassifier())])"
            ]
          },
          "metadata": {},
          "execution_count": 102
        }
      ]
    },
    {
      "cell_type": "code",
      "source": [
        "y_base_pred = base_model.predict(X_test_)\n",
        "print(classification_report(y_test_, y_base_pred))"
      ],
      "metadata": {
        "colab": {
          "base_uri": "https://localhost:8080/"
        },
        "id": "efr6lXxxLJdi",
        "outputId": "0958de4b-e883-48b5-efa9-ab98b3d7cf2e"
      },
      "execution_count": 106,
      "outputs": [
        {
          "output_type": "stream",
          "name": "stdout",
          "text": [
            "              precision    recall  f1-score   support\n",
            "\n",
            "           0       0.78      0.60      0.68        63\n",
            "           1       0.82      0.91      0.86       122\n",
            "\n",
            "    accuracy                           0.81       185\n",
            "   macro avg       0.80      0.76      0.77       185\n",
            "weighted avg       0.80      0.81      0.80       185\n",
            "\n"
          ]
        }
      ]
    },
    {
      "cell_type": "code",
      "source": [
        "roc_auc_score(y_test_, base_model.predict_proba(X_test_)[:,1])"
      ],
      "metadata": {
        "colab": {
          "base_uri": "https://localhost:8080/"
        },
        "id": "ENlwwcxWLOC8",
        "outputId": "f4e4b4a7-01a0-4149-f66e-53e41e7577de"
      },
      "execution_count": 105,
      "outputs": [
        {
          "output_type": "execute_result",
          "data": {
            "text/plain": [
              "0.8701535258912307"
            ]
          },
          "metadata": {},
          "execution_count": 105
        }
      ]
    },
    {
      "cell_type": "code",
      "source": [],
      "metadata": {
        "id": "Hgqq018rLmFg"
      },
      "execution_count": null,
      "outputs": []
    },
    {
      "cell_type": "markdown",
      "source": [
        "# Recurrent neural network model"
      ],
      "metadata": {
        "id": "Vua3xYovEgCt"
      }
    },
    {
      "cell_type": "code",
      "source": [
        "INP_COL = \"emb_2d\"\n",
        "LAB_COL = \"have_bird\"\n",
        "BATCH_SIZE = 64\n",
        "dl_train = DataLoader(BirdDataset(df_train, INP_COL, LAB_COL), \n",
        "                      batch_size=BATCH_SIZE, shuffle=True, collate_fn=collate_fn)\n",
        "dl_valid = DataLoader(BirdDataset(df_valid, INP_COL, LAB_COL), \n",
        "                      batch_size=BATCH_SIZE, shuffle=True, collate_fn=collate_fn)\n",
        "dl_test = DataLoader(BirdDataset(df_test, INP_COL, LAB_COL), \n",
        "                      batch_size=BATCH_SIZE, shuffle=False, collate_fn=collate_fn)"
      ],
      "metadata": {
        "id": "w2q1d95Ciwzq"
      },
      "execution_count": 22,
      "outputs": []
    },
    {
      "cell_type": "code",
      "source": [
        "best_model = train_clf(dl_train, dl_valid, \n",
        "        model=model,\n",
        "        model_name=\"init\",\n",
        "        save_path=\"drive/MyDrive/data/birdnet_clef/train_tmp\",\n",
        "        loss_func=torch.nn.BCELoss(),\n",
        "        opt=torch.optim.Adam(model.parameters(), lr=0.001),\n",
        "        epochs=50)"
      ],
      "metadata": {
        "colab": {
          "base_uri": "https://localhost:8080/"
        },
        "id": "vBSzxdqqjr78",
        "outputId": "2c12942c-e937-4e44-c1ed-cc84baedc269"
      },
      "execution_count": 23,
      "outputs": [
        {
          "output_type": "stream",
          "name": "stderr",
          "text": [
            "<ipython-input-17-df13c46b81c0>:22: UserWarning: Creating a tensor from a list of numpy.ndarrays is extremely slow. Please consider converting the list to a single numpy.ndarray with numpy.array() before converting to a tensor. (Triggered internally at ../torch/csrc/utils/tensor_new.cpp:230.)\n",
            "  return torch.tensor(inputs), torch.tensor(labels)\n"
          ]
        },
        {
          "output_type": "stream",
          "name": "stdout",
          "text": [
            "Epoch 0000, train loss: 0.609375, valid loss: 0.610087, best valid loss: 0.610087\n",
            "Epoch 0001, train loss: 0.604621, valid loss: 0.608185, best valid loss: 0.608185\n",
            "Epoch 0002, train loss: 0.591453, valid loss: 0.599178, best valid loss: 0.599178\n",
            "Epoch 0003, train loss: 0.593541, valid loss: 0.603517, best valid loss: 0.599178\n",
            "Epoch 0004, train loss: 0.557402, valid loss: 0.571878, best valid loss: 0.571878\n",
            "Epoch 0005, train loss: 0.566248, valid loss: 0.584455, best valid loss: 0.571878\n",
            "Epoch 0006, train loss: 0.535381, valid loss: 0.577671, best valid loss: 0.571878\n",
            "Epoch 0007, train loss: 0.536820, valid loss: 0.546716, best valid loss: 0.546716\n",
            "Epoch 0008, train loss: 0.497190, valid loss: 0.550093, best valid loss: 0.546716\n",
            "Epoch 0009, train loss: 0.464569, valid loss: 0.528468, best valid loss: 0.528468\n",
            "Epoch 0010, train loss: 0.454084, valid loss: 0.515440, best valid loss: 0.515440\n",
            "Epoch 0011, train loss: 0.437341, valid loss: 0.510207, best valid loss: 0.510207\n",
            "Epoch 0012, train loss: 0.399297, valid loss: 0.533183, best valid loss: 0.510207\n",
            "Epoch 0013, train loss: 0.398651, valid loss: 0.526490, best valid loss: 0.510207\n",
            "Epoch 0014, train loss: 0.415340, valid loss: 0.533249, best valid loss: 0.510207\n",
            "Epoch 0015, train loss: 0.367480, valid loss: 0.550873, best valid loss: 0.510207\n",
            "Epoch 0016, train loss: 0.350299, valid loss: 0.546992, best valid loss: 0.510207\n",
            "Epoch 0017, train loss: 0.345599, valid loss: 0.543905, best valid loss: 0.510207\n",
            "Epoch 0018, train loss: 0.330466, valid loss: 0.562901, best valid loss: 0.510207\n",
            "Epoch 0019, train loss: 0.306900, valid loss: 0.587363, best valid loss: 0.510207\n",
            "Epoch 0020, train loss: 0.286061, valid loss: 0.611773, best valid loss: 0.510207\n",
            "Epoch 0021, train loss: 0.282302, valid loss: 0.594465, best valid loss: 0.510207\n",
            "Early stopping, best valid loss: 0.510207\n"
          ]
        }
      ]
    },
    {
      "cell_type": "code",
      "source": [],
      "metadata": {
        "id": "QQ9F87S52DLc"
      },
      "execution_count": 23,
      "outputs": []
    },
    {
      "cell_type": "code",
      "source": [
        "y_pred_proba = []\n",
        "best_model.eval()\n",
        "device = torch.device(\"cuda\" if torch.cuda.is_available() else \"cpu\")\n",
        "with torch.no_grad():\n",
        "    for xb, yb in dl_test:\n",
        "        y_pred_proba.append(best_model(xb.to(device)).cpu().numpy())"
      ],
      "metadata": {
        "colab": {
          "base_uri": "https://localhost:8080/"
        },
        "id": "pLhMhXdms2hf",
        "outputId": "df957850-6e25-43f6-abf4-18d816ee646d"
      },
      "execution_count": 24,
      "outputs": [
        {
          "output_type": "stream",
          "name": "stderr",
          "text": [
            "/usr/local/lib/python3.8/dist-packages/torch/nn/modules/rnn.py:958: UserWarning: RNN module weights are not part of single contiguous chunk of memory. This means they need to be compacted at every call, possibly greatly increasing memory usage. To compact weights again call flatten_parameters(). (Triggered internally at ../aten/src/ATen/native/cudnn/RNN.cpp:968.)\n",
            "  result = _VF.gru(input, batch_sizes, hx, self._flat_weights, self.bias,\n"
          ]
        }
      ]
    },
    {
      "cell_type": "code",
      "source": [
        "[len(x) for x in y_pred_proba]"
      ],
      "metadata": {
        "colab": {
          "base_uri": "https://localhost:8080/"
        },
        "id": "uiP9BFQVjtTa",
        "outputId": "c1af0454-7350-4b6d-8159-bb48c711a811"
      },
      "execution_count": 25,
      "outputs": [
        {
          "output_type": "execute_result",
          "data": {
            "text/plain": [
              "[64, 64, 57]"
            ]
          },
          "metadata": {},
          "execution_count": 25
        }
      ]
    },
    {
      "cell_type": "code",
      "source": [
        "# classification report\n",
        "from sklearn.metrics import classification_report\n",
        "y_pred_proba = np.concatenate(y_pred_proba).flatten()"
      ],
      "metadata": {
        "id": "ek7XOT2e5naI"
      },
      "execution_count": 26,
      "outputs": []
    },
    {
      "cell_type": "code",
      "source": [
        "sns.displot(y_pred_proba)"
      ],
      "metadata": {
        "colab": {
          "base_uri": "https://localhost:8080/",
          "height": 386
        },
        "id": "lNma9DzVBHG2",
        "outputId": "f9a0dfe7-4a62-47bf-ec03-d3f7be44169f"
      },
      "execution_count": 61,
      "outputs": [
        {
          "output_type": "execute_result",
          "data": {
            "text/plain": [
              "<seaborn.axisgrid.FacetGrid at 0x7f9ec1dd8610>"
            ]
          },
          "metadata": {},
          "execution_count": 61
        },
        {
          "output_type": "display_data",
          "data": {
            "text/plain": [
              "<Figure size 360x360 with 1 Axes>"
            ],
            "image/png": "[encoded data removed]"
          },
          "metadata": {
            "needs_background": "light"
          }
        }
      ]
    },
    {
      "cell_type": "code",
      "source": [
        "df_score = pd.DataFrame(columns=[\"thres\", \"precision\", \"recall\", \"f1_score\"])\n",
        "for thres in np.linspace(0,1,num=100, endpoint=False):\n",
        "    pre = precision_score(df_test['have_bird'], (y_pred_proba > thres).astype(int))\n",
        "    rec = recall_score(df_test['have_bird'], (y_pred_proba > thres).astype(int))\n",
        "    f1s = f1_score(df_test['have_bird'], (y_pred_proba > thres).astype(int))\n",
        "    df_score.loc[len(df_score)] = [thres, pre, rec, f1s]\n"
      ],
      "metadata": {
        "colab": {
          "base_uri": "https://localhost:8080/"
        },
        "id": "57E_VQ3D_6Gl",
        "outputId": "df6af472-4357-406c-ad0e-b41f7be51df3"
      },
      "execution_count": 72,
      "outputs": [
        {
          "output_type": "stream",
          "name": "stderr",
          "text": [
            "/usr/local/lib/python3.8/dist-packages/sklearn/metrics/_classification.py:1318: UndefinedMetricWarning: Precision is ill-defined and being set to 0.0 due to no predicted samples. Use `zero_division` parameter to control this behavior.\n",
            "  _warn_prf(average, modifier, msg_start, len(result))\n"
          ]
        }
      ]
    },
    {
      "cell_type": "code",
      "source": [
        "df_plot = df_score.set_index(\"thres\").unstack().to_frame(\"score\").reset_index().rename(\n",
        "    columns={\"level_0\":\"type\"})\n",
        "df_plot"
      ],
      "metadata": {
        "colab": {
          "base_uri": "https://localhost:8080/",
          "height": 423
        },
        "id": "GXgLHmT_CnUj",
        "outputId": "7ca3dd7b-0618-464d-90da-be37f1415de6"
      },
      "execution_count": 73,
      "outputs": [
        {
          "output_type": "execute_result",
          "data": {
            "text/plain": [
              "          type  thres     score\n",
              "0    precision   0.00  0.659459\n",
              "1    precision   0.01  0.659459\n",
              "2    precision   0.02  0.659459\n",
              "3    precision   0.03  0.659459\n",
              "4    precision   0.04  0.659459\n",
              "..         ...    ...       ...\n",
              "295   f1_score   0.95  0.405229\n",
              "296   f1_score   0.96  0.305556\n",
              "297   f1_score   0.97  0.192593\n",
              "298   f1_score   0.98  0.123077\n",
              "299   f1_score   0.99  0.000000\n",
              "\n",
              "[300 rows x 3 columns]"
            ],
            "text/html": [
              "\n",
              "  <div id=\"df-3cd590f9-620b-450d-9946-3208fa0aa6d4\">\n",
              "    <div class=\"colab-df-container\">\n",
              "      <div>\n",
              "<style scoped>\n",
              "    .dataframe tbody tr th:only-of-type {\n",
              "        vertical-align: middle;\n",
              "    }\n",
              "\n",
              "    .dataframe tbody tr th {\n",
              "        vertical-align: top;\n",
              "    }\n",
              "\n",
              "    .dataframe thead th {\n",
              "        text-align: right;\n",
              "    }\n",
              "</style>\n",
              "<table border=\"1\" class=\"dataframe\">\n",
              "  <thead>\n",
              "    <tr style=\"text-align: right;\">\n",
              "      <th></th>\n",
              "      <th>type</th>\n",
              "      <th>thres</th>\n",
              "      <th>score</th>\n",
              "    </tr>\n",
              "  </thead>\n",
              "  <tbody>\n",
              "    <tr>\n",
              "      <th>0</th>\n",
              "      <td>precision</td>\n",
              "      <td>0.00</td>\n",
              "      <td>0.659459</td>\n",
              "    </tr>\n",
              "    <tr>\n",
              "      <th>1</th>\n",
              "      <td>precision</td>\n",
              "      <td>0.01</td>\n",
              "      <td>0.659459</td>\n",
              "    </tr>\n",
              "    <tr>\n",
              "      <th>2</th>\n",
              "      <td>precision</td>\n",
              "      <td>0.02</td>\n",
              "      <td>0.659459</td>\n",
              "    </tr>\n",
              "    <tr>\n",
              "      <th>3</th>\n",
              "      <td>precision</td>\n",
              "      <td>0.03</td>\n",
              "      <td>0.659459</td>\n",
              "    </tr>\n",
              "    <tr>\n",
              "      <th>4</th>\n",
              "      <td>precision</td>\n",
              "      <td>0.04</td>\n",
              "      <td>0.659459</td>\n",
              "    </tr>\n",
              "    <tr>\n",
              "      <th>...</th>\n",
              "      <td>...</td>\n",
              "      <td>...</td>\n",
              "      <td>...</td>\n",
              "    </tr>\n",
              "    <tr>\n",
              "      <th>295</th>\n",
              "      <td>f1_score</td>\n",
              "      <td>0.95</td>\n",
              "      <td>0.405229</td>\n",
              "    </tr>\n",
              "    <tr>\n",
              "      <th>296</th>\n",
              "      <td>f1_score</td>\n",
              "      <td>0.96</td>\n",
              "      <td>0.305556</td>\n",
              "    </tr>\n",
              "    <tr>\n",
              "      <th>297</th>\n",
              "      <td>f1_score</td>\n",
              "      <td>0.97</td>\n",
              "      <td>0.192593</td>\n",
              "    </tr>\n",
              "    <tr>\n",
              "      <th>298</th>\n",
              "      <td>f1_score</td>\n",
              "      <td>0.98</td>\n",
              "      <td>0.123077</td>\n",
              "    </tr>\n",
              "    <tr>\n",
              "      <th>299</th>\n",
              "      <td>f1_score</td>\n",
              "      <td>0.99</td>\n",
              "      <td>0.000000</td>\n",
              "    </tr>\n",
              "  </tbody>\n",
              "</table>\n",
              "<p>300 rows × 3 columns</p>\n",
              "</div>\n",
              "      <button class=\"colab-df-convert\" onclick=\"convertToInteractive('df-3cd590f9-620b-450d-9946-3208fa0aa6d4')\"\n",
              "              title=\"Convert this dataframe to an interactive table.\"\n",
              "              style=\"display:none;\">\n",
              "        \n",
              "  <svg xmlns=\"http://www.w3.org/2000/svg\" height=\"24px\"viewBox=\"0 0 24 24\"\n",
              "       width=\"24px\">\n",
              "    <path d=\"M0 0h24v24H0V0z\" fill=\"none\"/>\n",
              "    <path d=\"M18.56 5.44l.94 2.06.94-2.06 2.06-.94-2.06-.94-.94-2.06-.94 2.06-2.06.94zm-11 1L8.5 8.5l.94-2.06 2.06-.94-2.06-.94L8.5 2.5l-.94 2.06-2.06.94zm10 10l.94 2.06.94-2.06 2.06-.94-2.06-.94-.94-2.06-.94 2.06-2.06.94z\"/><path d=\"M17.41 7.96l-1.37-1.37c-.4-.4-.92-.59-1.43-.59-.52 0-1.04.2-1.43.59L10.3 9.45l-7.72 7.72c-.78.78-.78 2.05 0 2.83L4 21.41c.39.39.9.59 1.41.59.51 0 1.02-.2 1.41-.59l7.78-7.78 2.81-2.81c.8-.78.8-2.07 0-2.86zM5.41 20L4 18.59l7.72-7.72 1.47 1.35L5.41 20z\"/>\n",
              "  </svg>\n",
              "      </button>\n",
              "      \n",
              "  <style>\n",
              "    .colab-df-container {\n",
              "      display:flex;\n",
              "      flex-wrap:wrap;\n",
              "      gap: 12px;\n",
              "    }\n",
              "\n",
              "    .colab-df-convert {\n",
              "      background-color: #E8F0FE;\n",
              "      border: none;\n",
              "      border-radius: 50%;\n",
              "      cursor: pointer;\n",
              "      display: none;\n",
              "      fill: #1967D2;\n",
              "      height: 32px;\n",
              "      padding: 0 0 0 0;\n",
              "      width: 32px;\n",
              "    }\n",
              "\n",
              "    .colab-df-convert:hover {\n",
              "      background-color: #E2EBFA;\n",
              "      box-shadow: 0px 1px 2px rgba(60, 64, 67, 0.3), 0px 1px 3px 1px rgba(60, 64, 67, 0.15);\n",
              "      fill: #174EA6;\n",
              "    }\n",
              "\n",
              "    [theme=dark] .colab-df-convert {\n",
              "      background-color: #3B4455;\n",
              "      fill: #D2E3FC;\n",
              "    }\n",
              "\n",
              "    [theme=dark] .colab-df-convert:hover {\n",
              "      background-color: #434B5C;\n",
              "      box-shadow: 0px 1px 3px 1px rgba(0, 0, 0, 0.15);\n",
              "      filter: drop-shadow(0px 1px 2px rgba(0, 0, 0, 0.3));\n",
              "      fill: #FFFFFF;\n",
              "    }\n",
              "  </style>\n",
              "\n",
              "      <script>\n",
              "        const buttonEl =\n",
              "          document.querySelector('#df-3cd590f9-620b-450d-9946-3208fa0aa6d4 button.colab-df-convert');\n",
              "        buttonEl.style.display =\n",
              "          google.colab.kernel.accessAllowed ? 'block' : 'none';\n",
              "\n",
              "        async function convertToInteractive(key) {\n",
              "          const element = document.querySelector('#df-3cd590f9-620b-450d-9946-3208fa0aa6d4');\n",
              "          const dataTable =\n",
              "            await google.colab.kernel.invokeFunction('convertToInteractive',\n",
              "                                                     [key], {});\n",
              "          if (!dataTable) return;\n",
              "\n",
              "          const docLinkHtml = 'Like what you see? Visit the ' +\n",
              "            '<a target=\"_blank\" href=https://colab.research.google.com/notebooks/data_table.ipynb>data table notebook</a>'\n",
              "            + ' to learn more about interactive tables.';\n",
              "          element.innerHTML = '';\n",
              "          dataTable['output_type'] = 'display_data';\n",
              "          await google.colab.output.renderOutput(dataTable, element);\n",
              "          const docLink = document.createElement('div');\n",
              "          docLink.innerHTML = docLinkHtml;\n",
              "          element.appendChild(docLink);\n",
              "        }\n",
              "      </script>\n",
              "    </div>\n",
              "  </div>\n",
              "  "
            ]
          },
          "metadata": {},
          "execution_count": 73
        }
      ]
    },
    {
      "cell_type": "code",
      "source": [
        "sns.lineplot(data=df_plot, x=\"thres\", y=\"score\", hue=\"type\")"
      ],
      "metadata": {
        "colab": {
          "base_uri": "https://localhost:8080/",
          "height": 296
        },
        "id": "HFXcDIXFCXMP",
        "outputId": "e9dd0b38-29e4-4921-d4c6-e37b19511338"
      },
      "execution_count": 74,
      "outputs": [
        {
          "output_type": "execute_result",
          "data": {
            "text/plain": [
              "<matplotlib.axes._subplots.AxesSubplot at 0x7f9ec1a4dd90>"
            ]
          },
          "metadata": {},
          "execution_count": 74
        },
        {
          "output_type": "display_data",
          "data": {
            "text/plain": [
              "<Figure size 432x288 with 1 Axes>"
            ],
            "image/png": "[encoded data removed]"
          },
          "metadata": {
            "needs_background": "light"
          }
        }
      ]
    },
    {
      "cell_type": "code",
      "source": [
        "print(classification_report(df_test['have_bird'], (y_pred_proba > 0.5).astype(int)))\n"
      ],
      "metadata": {
        "colab": {
          "base_uri": "https://localhost:8080/"
        },
        "id": "fYbtL-9n59UE",
        "outputId": "a356ed5c-bda9-472a-d7a8-48e30a05da68"
      },
      "execution_count": 75,
      "outputs": [
        {
          "output_type": "stream",
          "name": "stdout",
          "text": [
            "              precision    recall  f1-score   support\n",
            "\n",
            "           0       0.59      0.25      0.36        63\n",
            "           1       0.70      0.91      0.79       122\n",
            "\n",
            "    accuracy                           0.69       185\n",
            "   macro avg       0.65      0.58      0.57       185\n",
            "weighted avg       0.67      0.69      0.64       185\n",
            "\n"
          ]
        }
      ]
    },
    {
      "cell_type": "code",
      "source": [
        "roc_auc_score(df_test['have_bird'], y_pred_proba)"
      ],
      "metadata": {
        "id": "khDtTeqh5fY8",
        "colab": {
          "base_uri": "https://localhost:8080/"
        },
        "outputId": "f772834e-4ca3-4f68-bfe0-a9f9ee92d50b"
      },
      "execution_count": 76,
      "outputs": [
        {
          "output_type": "execute_result",
          "data": {
            "text/plain": [
              "0.7155867811605517"
            ]
          },
          "metadata": {},
          "execution_count": 76
        }
      ]
    },
    {
      "cell_type": "markdown",
      "source": [
        "# Conclusion\n",
        "\n",
        "Using pre-trained embeddings, the baseline model using PCA and tree-based classifier achieved very good classification performance, reaching a roc_auc_score of 0.87 on the test set.\n",
        "\n",
        "The more complex model like recurrent neural network only achieved a roc_auc_score of 0.71, indicating that the architechture is not appropriate for the task at hand or the dataset."
      ],
      "metadata": {
        "id": "3lv4pnjNdjHn"
      }
    },
    {
      "cell_type": "code",
      "source": [
        "\n"
      ],
      "metadata": {
        "id": "aCEFhiq7Gvo7"
      },
      "execution_count": null,
      "outputs": []
    }
  ]
}