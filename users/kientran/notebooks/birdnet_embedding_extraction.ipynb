{
  "cells": [
    {
      "cell_type": "markdown",
      "metadata": {
        "id": "tK_JMD-lOhOx"
      },
      "source": [
        "# accessing last layer of birdnet model\n",
        "\n",
        "- colab link: https://colab.research.google.com/drive/1d9u93LJQQRTgAmzFMeCaFP0U22dUJOl-?usp=sharing"
      ]
    },
    {
      "cell_type": "code",
      "execution_count": 1,
      "metadata": {
        "colab": {
          "base_uri": "https://localhost:8080/"
        },
        "id": "BWKwzkwuERPL",
        "outputId": "c7fee65b-d5a0-4f5d-d95b-aabb3ad3a960"
      },
      "outputs": [
        {
          "output_type": "stream",
          "name": "stdout",
          "text": [
            "['data/raw/birdnet/v2.2/checkpoint/saved_model.pb', 'data/raw/birdnet/v2.2/checkpoint/variables', 'data/raw/birdnet/v2.2/checkpoint/variables/variables.index', 'data/raw/birdnet/v2.2/checkpoint/variables/variables.data-00000-of-00001']\n"
          ]
        }
      ],
      "source": [
        "from pathlib import Path\n",
        "import requests\n",
        "\n",
        "checkpoint_path = Path(\"data/raw/birdnet/v2.2/checkpoint\")\n",
        "\n",
        "checkpoint_base_url = \"https://github.com/kahst/BirdNET-Analyzer/raw/main/checkpoints/V2.2/BirdNET_GLOBAL_3K_V2.2_Model\"\n",
        "for part in [\"saved_model.pb\", \"variables/variables.index\", \"variables/variables.data-00000-of-00001\"]:\n",
        "    # get response content and save to disk in checkpoint path\n",
        "    content = requests.get(f\"{checkpoint_base_url}/{part}\").content\n",
        "    p = (checkpoint_path / part)\n",
        "    p.parent.mkdir(parents=True, exist_ok=True)\n",
        "    p.write_bytes(content)\n",
        "\n",
        "print([p.as_posix() for p in checkpoint_path.glob(\"**/*\")])"
      ]
    },
    {
      "cell_type": "code",
      "execution_count": 2,
      "metadata": {
        "colab": {
          "base_uri": "https://localhost:8080/"
        },
        "id": "th6m_yEKESkb",
        "outputId": "92ea8d47-56ce-4d3c-902b-8326f67dc267"
      },
      "outputs": [
        {
          "output_type": "stream",
          "name": "stderr",
          "text": [
            "WARNING:absl:Importing a function (__inference_BLOCK_4-2_ACT_1_layer_call_and_return_conditional_losses_15267) with ops with unsaved custom gradients. Will likely fail if a gradient is requested.\n",
            "WARNING:absl:Importing a function (__inference_BLOCK_4-3_ACT_1_layer_call_and_return_conditional_losses_33161) with ops with unsaved custom gradients. Will likely fail if a gradient is requested.\n",
            "WARNING:absl:Importing a function (__inference_BLOCK_3-3_ACT_2_layer_call_and_return_conditional_losses_14525) with ops with unsaved custom gradients. Will likely fail if a gradient is requested.\n",
            "WARNING:absl:Importing a function (__inference_BLOCK_3-4_ACT_1_layer_call_and_return_conditional_losses_14681) with ops with unsaved custom gradients. Will likely fail if a gradient is requested.\n",
            "WARNING:absl:Importing a function (__inference_BLOCK_3-4_ACT_2_layer_call_and_return_conditional_losses_14723) with ops with unsaved custom gradients. Will likely fail if a gradient is requested.\n",
            "WARNING:absl:Importing a function (__inference_BLOCK_3-2_ACT_2_layer_call_and_return_conditional_losses_14327) with ops with unsaved custom gradients. Will likely fail if a gradient is requested.\n",
            "WARNING:absl:Importing a function (__inference_BLOCK_4-2_ACT_2_layer_call_and_return_conditional_losses_32783) with ops with unsaved custom gradients. Will likely fail if a gradient is requested.\n",
            "WARNING:absl:Importing a function (__inference_BLOCK_2-4_ACT_1_layer_call_and_return_conditional_losses_13993) with ops with unsaved custom gradients. Will likely fail if a gradient is requested.\n",
            "WARNING:absl:Importing a function (__inference_BLOCK_3-3_ACT_2_layer_call_and_return_conditional_losses_30727) with ops with unsaved custom gradients. Will likely fail if a gradient is requested.\n",
            "WARNING:absl:Importing a function (__inference_BLOCK_3-5_SE_CONV_1_layer_call_and_return_conditional_losses_14953) with ops with unsaved custom gradients. Will likely fail if a gradient is requested.\n",
            "WARNING:absl:Importing a function (__inference_BLOCK_1-3_ACT_1_layer_call_and_return_conditional_losses_28018) with ops with unsaved custom gradients. Will likely fail if a gradient is requested.\n",
            "WARNING:absl:Importing a function (__inference_BLOCK_3-2_ACT_2_layer_call_and_return_conditional_losses_30210) with ops with unsaved custom gradients. Will likely fail if a gradient is requested.\n",
            "WARNING:absl:Importing a function (__inference_BLOCK_2-1_ACT_1_layer_call_and_return_conditional_losses_13695) with ops with unsaved custom gradients. Will likely fail if a gradient is requested.\n",
            "WARNING:absl:Importing a function (__inference_BLOCK_4-3_ACT_2_layer_call_and_return_conditional_losses_15507) with ops with unsaved custom gradients. Will likely fail if a gradient is requested.\n",
            "WARNING:absl:Importing a function (__inference_BLOCK_3-2_SE_CONV_1_layer_call_and_return_conditional_losses_14359) with ops with unsaved custom gradients. Will likely fail if a gradient is requested.\n",
            "WARNING:absl:Importing a function (__inference_model_layer_call_and_return_conditional_losses_25336) with ops with unsaved custom gradients. Will likely fail if a gradient is requested.\n",
            "WARNING:absl:Importing a function (__inference_BLOCK_3-1_SE_CONV_1_layer_call_and_return_conditional_losses_29744) with ops with unsaved custom gradients. Will likely fail if a gradient is requested.\n",
            "WARNING:absl:Importing a function (__inference_BLOCK_4-1_ACT_1_layer_call_and_return_conditional_losses_15077) with ops with unsaved custom gradients. Will likely fail if a gradient is requested.\n",
            "WARNING:absl:Importing a function (__inference_basic_5289) with ops with unsaved custom gradients. Will likely fail if a gradient is requested.\n",
            "WARNING:absl:Importing a function (__inference_BLOCK_4-4_ACT_1_layer_call_and_return_conditional_losses_33678) with ops with unsaved custom gradients. Will likely fail if a gradient is requested.\n",
            "WARNING:absl:Importing a function (__inference_BLOCK_4-4_ACT_2_layer_call_and_return_conditional_losses_15705) with ops with unsaved custom gradients. Will likely fail if a gradient is requested.\n",
            "WARNING:absl:Importing a function (__inference_BLOCK_4-4_SE_CONV_1_layer_call_and_return_conditional_losses_33856) with ops with unsaved custom gradients. Will likely fail if a gradient is requested.\n",
            "WARNING:absl:Importing a function (__inference_BLOCK_4-2_SE_CONV_1_layer_call_and_return_conditional_losses_15341) with ops with unsaved custom gradients. Will likely fail if a gradient is requested.\n",
            "WARNING:absl:Importing a function (__inference_BLOCK_1-3_ACT_1_layer_call_and_return_conditional_losses_13593) with ops with unsaved custom gradients. Will likely fail if a gradient is requested.\n",
            "WARNING:absl:Importing a function (__inference_BLOCK_4-3_SE_CONV_1_layer_call_and_return_conditional_losses_15539) with ops with unsaved custom gradients. Will likely fail if a gradient is requested.\n",
            "WARNING:absl:Importing a function (__inference__wrapped_model_7115) with ops with unsaved custom gradients. Will likely fail if a gradient is requested.\n",
            "WARNING:absl:Importing a function (__inference_BLOCK_2-3_ACT_1_layer_call_and_return_conditional_losses_13891) with ops with unsaved custom gradients. Will likely fail if a gradient is requested.\n",
            "WARNING:absl:Importing a function (__inference_BLOCK_4-1_ACT_2_layer_call_and_return_conditional_losses_32278) with ops with unsaved custom gradients. Will likely fail if a gradient is requested.\n",
            "WARNING:absl:Importing a function (__inference_BLOCK_3-5_ACT_1_layer_call_and_return_conditional_losses_14879) with ops with unsaved custom gradients. Will likely fail if a gradient is requested.\n",
            "WARNING:absl:Importing a function (__inference_BLOCK_4-3_ACT_1_layer_call_and_return_conditional_losses_15465) with ops with unsaved custom gradients. Will likely fail if a gradient is requested.\n",
            "WARNING:absl:Importing a function (__inference_BLOCK_3-1_ACT_1_layer_call_and_return_conditional_losses_29566) with ops with unsaved custom gradients. Will likely fail if a gradient is requested.\n",
            "WARNING:absl:Importing a function (__inference_BLOCK_1-2_ACT_1_layer_call_and_return_conditional_losses_27706) with ops with unsaved custom gradients. Will likely fail if a gradient is requested.\n",
            "WARNING:absl:Importing a function (__inference_BLOCK_2-1_ACT_1_layer_call_and_return_conditional_losses_28330) with ops with unsaved custom gradients. Will likely fail if a gradient is requested.\n",
            "WARNING:absl:Importing a function (__inference_BLOCK_4-1_ACT_2_layer_call_and_return_conditional_losses_15119) with ops with unsaved custom gradients. Will likely fail if a gradient is requested.\n",
            "WARNING:absl:Importing a function (__inference_BLOCK_4-3_SE_CONV_1_layer_call_and_return_conditional_losses_33339) with ops with unsaved custom gradients. Will likely fail if a gradient is requested.\n",
            "WARNING:absl:Importing a function (__inference_BLOCK_1-1_ACT_1_layer_call_and_return_conditional_losses_13397) with ops with unsaved custom gradients. Will likely fail if a gradient is requested.\n",
            "WARNING:absl:Importing a function (__inference_BLOCK_4-1_ACT_1_layer_call_and_return_conditional_losses_32139) with ops with unsaved custom gradients. Will likely fail if a gradient is requested.\n",
            "WARNING:absl:Importing a function (__inference_BLOCK_3-2_SE_CONV_1_layer_call_and_return_conditional_losses_30249) with ops with unsaved custom gradients. Will likely fail if a gradient is requested.\n",
            "WARNING:absl:Importing a function (__inference_BLOCK_3-1_ACT_2_layer_call_and_return_conditional_losses_29705) with ops with unsaved custom gradients. Will likely fail if a gradient is requested.\n",
            "WARNING:absl:Importing a function (__inference_BLOCK_3-1_SE_CONV_1_layer_call_and_return_conditional_losses_14169) with ops with unsaved custom gradients. Will likely fail if a gradient is requested.\n",
            "WARNING:absl:Importing a function (__inference_BLOCK_3-5_ACT_2_layer_call_and_return_conditional_losses_31761) with ops with unsaved custom gradients. Will likely fail if a gradient is requested.\n",
            "WARNING:absl:Importing a function (__inference_BLOCK_3-4_ACT_1_layer_call_and_return_conditional_losses_31105) with ops with unsaved custom gradients. Will likely fail if a gradient is requested.\n",
            "WARNING:absl:Importing a function (__inference_BLOCK_2-2_ACT_1_layer_call_and_return_conditional_losses_28630) with ops with unsaved custom gradients. Will likely fail if a gradient is requested.\n",
            "WARNING:absl:Importing a function (__inference_BLOCK_1-1_ACT_1_layer_call_and_return_conditional_losses_27406) with ops with unsaved custom gradients. Will likely fail if a gradient is requested.\n",
            "WARNING:absl:Importing a function (__inference_BLOCK_3-2_ACT_1_layer_call_and_return_conditional_losses_30071) with ops with unsaved custom gradients. Will likely fail if a gradient is requested.\n",
            "WARNING:absl:Importing a function (__inference_BLOCK_3-5_SE_CONV_1_layer_call_and_return_conditional_losses_31800) with ops with unsaved custom gradients. Will likely fail if a gradient is requested.\n",
            "WARNING:absl:Importing a function (__inference_BLOCK_3-3_SE_CONV_1_layer_call_and_return_conditional_losses_14557) with ops with unsaved custom gradients. Will likely fail if a gradient is requested.\n",
            "WARNING:absl:Importing a function (__inference_BLOCK_3-4_SE_CONV_1_layer_call_and_return_conditional_losses_14755) with ops with unsaved custom gradients. Will likely fail if a gradient is requested.\n",
            "WARNING:absl:Importing a function (__inference_BLOCK_3-3_ACT_1_layer_call_and_return_conditional_losses_14483) with ops with unsaved custom gradients. Will likely fail if a gradient is requested.\n",
            "WARNING:absl:Importing a function (__inference_BLOCK_4-4_ACT_1_layer_call_and_return_conditional_losses_15663) with ops with unsaved custom gradients. Will likely fail if a gradient is requested.\n",
            "WARNING:absl:Importing a function (__inference_model_layer_call_and_return_conditional_losses_26662) with ops with unsaved custom gradients. Will likely fail if a gradient is requested.\n",
            "WARNING:absl:Importing a function (__inference_BLOCK_4-2_ACT_1_layer_call_and_return_conditional_losses_32644) with ops with unsaved custom gradients. Will likely fail if a gradient is requested.\n",
            "WARNING:absl:Importing a function (__inference_BLOCK_4-2_ACT_2_layer_call_and_return_conditional_losses_15309) with ops with unsaved custom gradients. Will likely fail if a gradient is requested.\n",
            "WARNING:absl:Importing a function (__inference_BLOCK_3-3_ACT_1_layer_call_and_return_conditional_losses_30588) with ops with unsaved custom gradients. Will likely fail if a gradient is requested.\n",
            "WARNING:absl:Importing a function (__inference_BLOCK_3-2_ACT_1_layer_call_and_return_conditional_losses_14285) with ops with unsaved custom gradients. Will likely fail if a gradient is requested.\n",
            "WARNING:absl:Importing a function (__inference_BLOCK_3-4_ACT_2_layer_call_and_return_conditional_losses_31244) with ops with unsaved custom gradients. Will likely fail if a gradient is requested.\n",
            "WARNING:absl:Importing a function (__inference_BLOCK_4-1_SE_CONV_1_layer_call_and_return_conditional_losses_15151) with ops with unsaved custom gradients. Will likely fail if a gradient is requested.\n",
            "WARNING:absl:Importing a function (__inference_BLOCK_3-5_ACT_1_layer_call_and_return_conditional_losses_31622) with ops with unsaved custom gradients. Will likely fail if a gradient is requested.\n",
            "WARNING:absl:Importing a function (__inference_BLOCK_1-2_ACT_1_layer_call_and_return_conditional_losses_13491) with ops with unsaved custom gradients. Will likely fail if a gradient is requested.\n",
            "WARNING:absl:Importing a function (__inference_BLOCK_2-3_ACT_1_layer_call_and_return_conditional_losses_28942) with ops with unsaved custom gradients. Will likely fail if a gradient is requested.\n",
            "WARNING:absl:Importing a function (__inference_BLOCK_2-4_ACT_1_layer_call_and_return_conditional_losses_29254) with ops with unsaved custom gradients. Will likely fail if a gradient is requested.\n",
            "WARNING:absl:Importing a function (__inference_BLOCK_4-4_ACT_2_layer_call_and_return_conditional_losses_33817) with ops with unsaved custom gradients. Will likely fail if a gradient is requested.\n",
            "WARNING:absl:Importing a function (__inference_BLOCK_4-3_ACT_2_layer_call_and_return_conditional_losses_33300) with ops with unsaved custom gradients. Will likely fail if a gradient is requested.\n",
            "WARNING:absl:Importing a function (__inference_BLOCK_3-3_SE_CONV_1_layer_call_and_return_conditional_losses_30766) with ops with unsaved custom gradients. Will likely fail if a gradient is requested.\n",
            "WARNING:absl:Importing a function (__inference_BLOCK_4-1_SE_CONV_1_layer_call_and_return_conditional_losses_32317) with ops with unsaved custom gradients. Will likely fail if a gradient is requested.\n",
            "WARNING:absl:Importing a function (__inference_BLOCK_3-4_SE_CONV_1_layer_call_and_return_conditional_losses_31283) with ops with unsaved custom gradients. Will likely fail if a gradient is requested.\n",
            "WARNING:absl:Importing a function (__inference_BLOCK_3-5_ACT_2_layer_call_and_return_conditional_losses_14921) with ops with unsaved custom gradients. Will likely fail if a gradient is requested.\n",
            "WARNING:absl:Importing a function (__inference_BLOCK_2-2_ACT_1_layer_call_and_return_conditional_losses_13789) with ops with unsaved custom gradients. Will likely fail if a gradient is requested.\n",
            "WARNING:absl:Importing a function (__inference_BLOCK_3-1_ACT_1_layer_call_and_return_conditional_losses_14095) with ops with unsaved custom gradients. Will likely fail if a gradient is requested.\n",
            "WARNING:absl:Importing a function (__inference_BLOCK_3-1_ACT_2_layer_call_and_return_conditional_losses_14137) with ops with unsaved custom gradients. Will likely fail if a gradient is requested.\n",
            "WARNING:absl:Importing a function (__inference_BLOCK_4-4_SE_CONV_1_layer_call_and_return_conditional_losses_15737) with ops with unsaved custom gradients. Will likely fail if a gradient is requested.\n",
            "WARNING:absl:Importing a function (__inference_BLOCK_4-2_SE_CONV_1_layer_call_and_return_conditional_losses_32822) with ops with unsaved custom gradients. Will likely fail if a gradient is requested.\n"
          ]
        }
      ],
      "source": [
        "import tensorflow as tf\n",
        "\n",
        "model = tf.saved_model.load(checkpoint_path, tags=[\"serve\"])"
      ]
    },
    {
      "cell_type": "code",
      "execution_count": 3,
      "metadata": {
        "colab": {
          "base_uri": "https://localhost:8080/"
        },
        "id": "HrzFk0uJJaK7",
        "outputId": "96af631b-7e06-44cf-f48d-092a791d5578"
      },
      "outputs": [
        {
          "output_type": "stream",
          "name": "stderr",
          "text": [
            "WARNING:tensorflow:SavedModel saved prior to TF 2.5 detected when loading Keras model. Please ensure that you are saving the model with model.save() or tf.keras.models.save_model(), *NOT* tf.saved_model.save(). To confirm, there should be a file named \"keras_metadata.pb\" in the SavedModel directory.\n",
            "WARNING:absl:Importing a function (__inference_BLOCK_4-2_ACT_1_layer_call_and_return_conditional_losses_15267) with ops with unsaved custom gradients. Will likely fail if a gradient is requested.\n",
            "WARNING:absl:Importing a function (__inference_BLOCK_4-3_ACT_1_layer_call_and_return_conditional_losses_33161) with ops with unsaved custom gradients. Will likely fail if a gradient is requested.\n",
            "WARNING:absl:Importing a function (__inference_BLOCK_3-3_ACT_2_layer_call_and_return_conditional_losses_14525) with ops with unsaved custom gradients. Will likely fail if a gradient is requested.\n",
            "WARNING:absl:Importing a function (__inference_BLOCK_3-4_ACT_1_layer_call_and_return_conditional_losses_14681) with ops with unsaved custom gradients. Will likely fail if a gradient is requested.\n",
            "WARNING:absl:Importing a function (__inference_BLOCK_3-4_ACT_2_layer_call_and_return_conditional_losses_14723) with ops with unsaved custom gradients. Will likely fail if a gradient is requested.\n",
            "WARNING:absl:Importing a function (__inference_BLOCK_3-2_ACT_2_layer_call_and_return_conditional_losses_14327) with ops with unsaved custom gradients. Will likely fail if a gradient is requested.\n",
            "WARNING:absl:Importing a function (__inference_BLOCK_4-2_ACT_2_layer_call_and_return_conditional_losses_32783) with ops with unsaved custom gradients. Will likely fail if a gradient is requested.\n",
            "WARNING:absl:Importing a function (__inference_BLOCK_2-4_ACT_1_layer_call_and_return_conditional_losses_13993) with ops with unsaved custom gradients. Will likely fail if a gradient is requested.\n",
            "WARNING:absl:Importing a function (__inference_BLOCK_3-3_ACT_2_layer_call_and_return_conditional_losses_30727) with ops with unsaved custom gradients. Will likely fail if a gradient is requested.\n",
            "WARNING:absl:Importing a function (__inference_BLOCK_3-5_SE_CONV_1_layer_call_and_return_conditional_losses_14953) with ops with unsaved custom gradients. Will likely fail if a gradient is requested.\n",
            "WARNING:absl:Importing a function (__inference_BLOCK_1-3_ACT_1_layer_call_and_return_conditional_losses_28018) with ops with unsaved custom gradients. Will likely fail if a gradient is requested.\n",
            "WARNING:absl:Importing a function (__inference_BLOCK_3-2_ACT_2_layer_call_and_return_conditional_losses_30210) with ops with unsaved custom gradients. Will likely fail if a gradient is requested.\n",
            "WARNING:absl:Importing a function (__inference_BLOCK_2-1_ACT_1_layer_call_and_return_conditional_losses_13695) with ops with unsaved custom gradients. Will likely fail if a gradient is requested.\n",
            "WARNING:absl:Importing a function (__inference_BLOCK_4-3_ACT_2_layer_call_and_return_conditional_losses_15507) with ops with unsaved custom gradients. Will likely fail if a gradient is requested.\n",
            "WARNING:absl:Importing a function (__inference_BLOCK_3-2_SE_CONV_1_layer_call_and_return_conditional_losses_14359) with ops with unsaved custom gradients. Will likely fail if a gradient is requested.\n",
            "WARNING:absl:Importing a function (__inference_model_layer_call_and_return_conditional_losses_25336) with ops with unsaved custom gradients. Will likely fail if a gradient is requested.\n",
            "WARNING:absl:Importing a function (__inference_BLOCK_3-1_SE_CONV_1_layer_call_and_return_conditional_losses_29744) with ops with unsaved custom gradients. Will likely fail if a gradient is requested.\n",
            "WARNING:absl:Importing a function (__inference_BLOCK_4-1_ACT_1_layer_call_and_return_conditional_losses_15077) with ops with unsaved custom gradients. Will likely fail if a gradient is requested.\n",
            "WARNING:absl:Importing a function (__inference_basic_5289) with ops with unsaved custom gradients. Will likely fail if a gradient is requested.\n",
            "WARNING:absl:Importing a function (__inference_BLOCK_4-4_ACT_1_layer_call_and_return_conditional_losses_33678) with ops with unsaved custom gradients. Will likely fail if a gradient is requested.\n",
            "WARNING:absl:Importing a function (__inference_BLOCK_4-4_ACT_2_layer_call_and_return_conditional_losses_15705) with ops with unsaved custom gradients. Will likely fail if a gradient is requested.\n",
            "WARNING:absl:Importing a function (__inference_BLOCK_4-4_SE_CONV_1_layer_call_and_return_conditional_losses_33856) with ops with unsaved custom gradients. Will likely fail if a gradient is requested.\n",
            "WARNING:absl:Importing a function (__inference_BLOCK_4-2_SE_CONV_1_layer_call_and_return_conditional_losses_15341) with ops with unsaved custom gradients. Will likely fail if a gradient is requested.\n",
            "WARNING:absl:Importing a function (__inference_BLOCK_1-3_ACT_1_layer_call_and_return_conditional_losses_13593) with ops with unsaved custom gradients. Will likely fail if a gradient is requested.\n",
            "WARNING:absl:Importing a function (__inference_BLOCK_4-3_SE_CONV_1_layer_call_and_return_conditional_losses_15539) with ops with unsaved custom gradients. Will likely fail if a gradient is requested.\n",
            "WARNING:absl:Importing a function (__inference__wrapped_model_7115) with ops with unsaved custom gradients. Will likely fail if a gradient is requested.\n",
            "WARNING:absl:Importing a function (__inference_BLOCK_2-3_ACT_1_layer_call_and_return_conditional_losses_13891) with ops with unsaved custom gradients. Will likely fail if a gradient is requested.\n",
            "WARNING:absl:Importing a function (__inference_BLOCK_4-1_ACT_2_layer_call_and_return_conditional_losses_32278) with ops with unsaved custom gradients. Will likely fail if a gradient is requested.\n",
            "WARNING:absl:Importing a function (__inference_BLOCK_3-5_ACT_1_layer_call_and_return_conditional_losses_14879) with ops with unsaved custom gradients. Will likely fail if a gradient is requested.\n",
            "WARNING:absl:Importing a function (__inference_BLOCK_4-3_ACT_1_layer_call_and_return_conditional_losses_15465) with ops with unsaved custom gradients. Will likely fail if a gradient is requested.\n",
            "WARNING:absl:Importing a function (__inference_BLOCK_3-1_ACT_1_layer_call_and_return_conditional_losses_29566) with ops with unsaved custom gradients. Will likely fail if a gradient is requested.\n",
            "WARNING:absl:Importing a function (__inference_BLOCK_1-2_ACT_1_layer_call_and_return_conditional_losses_27706) with ops with unsaved custom gradients. Will likely fail if a gradient is requested.\n",
            "WARNING:absl:Importing a function (__inference_BLOCK_2-1_ACT_1_layer_call_and_return_conditional_losses_28330) with ops with unsaved custom gradients. Will likely fail if a gradient is requested.\n",
            "WARNING:absl:Importing a function (__inference_BLOCK_4-1_ACT_2_layer_call_and_return_conditional_losses_15119) with ops with unsaved custom gradients. Will likely fail if a gradient is requested.\n",
            "WARNING:absl:Importing a function (__inference_BLOCK_4-3_SE_CONV_1_layer_call_and_return_conditional_losses_33339) with ops with unsaved custom gradients. Will likely fail if a gradient is requested.\n",
            "WARNING:absl:Importing a function (__inference_BLOCK_1-1_ACT_1_layer_call_and_return_conditional_losses_13397) with ops with unsaved custom gradients. Will likely fail if a gradient is requested.\n",
            "WARNING:absl:Importing a function (__inference_BLOCK_4-1_ACT_1_layer_call_and_return_conditional_losses_32139) with ops with unsaved custom gradients. Will likely fail if a gradient is requested.\n",
            "WARNING:absl:Importing a function (__inference_BLOCK_3-2_SE_CONV_1_layer_call_and_return_conditional_losses_30249) with ops with unsaved custom gradients. Will likely fail if a gradient is requested.\n",
            "WARNING:absl:Importing a function (__inference_BLOCK_3-1_ACT_2_layer_call_and_return_conditional_losses_29705) with ops with unsaved custom gradients. Will likely fail if a gradient is requested.\n",
            "WARNING:absl:Importing a function (__inference_BLOCK_3-1_SE_CONV_1_layer_call_and_return_conditional_losses_14169) with ops with unsaved custom gradients. Will likely fail if a gradient is requested.\n",
            "WARNING:absl:Importing a function (__inference_BLOCK_3-5_ACT_2_layer_call_and_return_conditional_losses_31761) with ops with unsaved custom gradients. Will likely fail if a gradient is requested.\n",
            "WARNING:absl:Importing a function (__inference_BLOCK_3-4_ACT_1_layer_call_and_return_conditional_losses_31105) with ops with unsaved custom gradients. Will likely fail if a gradient is requested.\n",
            "WARNING:absl:Importing a function (__inference_BLOCK_2-2_ACT_1_layer_call_and_return_conditional_losses_28630) with ops with unsaved custom gradients. Will likely fail if a gradient is requested.\n",
            "WARNING:absl:Importing a function (__inference_BLOCK_1-1_ACT_1_layer_call_and_return_conditional_losses_27406) with ops with unsaved custom gradients. Will likely fail if a gradient is requested.\n",
            "WARNING:absl:Importing a function (__inference_BLOCK_3-2_ACT_1_layer_call_and_return_conditional_losses_30071) with ops with unsaved custom gradients. Will likely fail if a gradient is requested.\n",
            "WARNING:absl:Importing a function (__inference_BLOCK_3-5_SE_CONV_1_layer_call_and_return_conditional_losses_31800) with ops with unsaved custom gradients. Will likely fail if a gradient is requested.\n",
            "WARNING:absl:Importing a function (__inference_BLOCK_3-3_SE_CONV_1_layer_call_and_return_conditional_losses_14557) with ops with unsaved custom gradients. Will likely fail if a gradient is requested.\n",
            "WARNING:absl:Importing a function (__inference_BLOCK_3-4_SE_CONV_1_layer_call_and_return_conditional_losses_14755) with ops with unsaved custom gradients. Will likely fail if a gradient is requested.\n",
            "WARNING:absl:Importing a function (__inference_BLOCK_3-3_ACT_1_layer_call_and_return_conditional_losses_14483) with ops with unsaved custom gradients. Will likely fail if a gradient is requested.\n",
            "WARNING:absl:Importing a function (__inference_BLOCK_4-4_ACT_1_layer_call_and_return_conditional_losses_15663) with ops with unsaved custom gradients. Will likely fail if a gradient is requested.\n",
            "WARNING:absl:Importing a function (__inference_model_layer_call_and_return_conditional_losses_26662) with ops with unsaved custom gradients. Will likely fail if a gradient is requested.\n",
            "WARNING:absl:Importing a function (__inference_BLOCK_4-2_ACT_1_layer_call_and_return_conditional_losses_32644) with ops with unsaved custom gradients. Will likely fail if a gradient is requested.\n",
            "WARNING:absl:Importing a function (__inference_BLOCK_4-2_ACT_2_layer_call_and_return_conditional_losses_15309) with ops with unsaved custom gradients. Will likely fail if a gradient is requested.\n",
            "WARNING:absl:Importing a function (__inference_BLOCK_3-3_ACT_1_layer_call_and_return_conditional_losses_30588) with ops with unsaved custom gradients. Will likely fail if a gradient is requested.\n",
            "WARNING:absl:Importing a function (__inference_BLOCK_3-2_ACT_1_layer_call_and_return_conditional_losses_14285) with ops with unsaved custom gradients. Will likely fail if a gradient is requested.\n",
            "WARNING:absl:Importing a function (__inference_BLOCK_3-4_ACT_2_layer_call_and_return_conditional_losses_31244) with ops with unsaved custom gradients. Will likely fail if a gradient is requested.\n",
            "WARNING:absl:Importing a function (__inference_BLOCK_4-1_SE_CONV_1_layer_call_and_return_conditional_losses_15151) with ops with unsaved custom gradients. Will likely fail if a gradient is requested.\n",
            "WARNING:absl:Importing a function (__inference_BLOCK_3-5_ACT_1_layer_call_and_return_conditional_losses_31622) with ops with unsaved custom gradients. Will likely fail if a gradient is requested.\n",
            "WARNING:absl:Importing a function (__inference_BLOCK_1-2_ACT_1_layer_call_and_return_conditional_losses_13491) with ops with unsaved custom gradients. Will likely fail if a gradient is requested.\n",
            "WARNING:absl:Importing a function (__inference_BLOCK_2-3_ACT_1_layer_call_and_return_conditional_losses_28942) with ops with unsaved custom gradients. Will likely fail if a gradient is requested.\n",
            "WARNING:absl:Importing a function (__inference_BLOCK_2-4_ACT_1_layer_call_and_return_conditional_losses_29254) with ops with unsaved custom gradients. Will likely fail if a gradient is requested.\n",
            "WARNING:absl:Importing a function (__inference_BLOCK_4-4_ACT_2_layer_call_and_return_conditional_losses_33817) with ops with unsaved custom gradients. Will likely fail if a gradient is requested.\n",
            "WARNING:absl:Importing a function (__inference_BLOCK_4-3_ACT_2_layer_call_and_return_conditional_losses_33300) with ops with unsaved custom gradients. Will likely fail if a gradient is requested.\n",
            "WARNING:absl:Importing a function (__inference_BLOCK_3-3_SE_CONV_1_layer_call_and_return_conditional_losses_30766) with ops with unsaved custom gradients. Will likely fail if a gradient is requested.\n",
            "WARNING:absl:Importing a function (__inference_BLOCK_4-1_SE_CONV_1_layer_call_and_return_conditional_losses_32317) with ops with unsaved custom gradients. Will likely fail if a gradient is requested.\n",
            "WARNING:absl:Importing a function (__inference_BLOCK_3-4_SE_CONV_1_layer_call_and_return_conditional_losses_31283) with ops with unsaved custom gradients. Will likely fail if a gradient is requested.\n",
            "WARNING:absl:Importing a function (__inference_BLOCK_3-5_ACT_2_layer_call_and_return_conditional_losses_14921) with ops with unsaved custom gradients. Will likely fail if a gradient is requested.\n",
            "WARNING:absl:Importing a function (__inference_BLOCK_2-2_ACT_1_layer_call_and_return_conditional_losses_13789) with ops with unsaved custom gradients. Will likely fail if a gradient is requested.\n",
            "WARNING:absl:Importing a function (__inference_BLOCK_3-1_ACT_1_layer_call_and_return_conditional_losses_14095) with ops with unsaved custom gradients. Will likely fail if a gradient is requested.\n",
            "WARNING:absl:Importing a function (__inference_BLOCK_3-1_ACT_2_layer_call_and_return_conditional_losses_14137) with ops with unsaved custom gradients. Will likely fail if a gradient is requested.\n",
            "WARNING:absl:Importing a function (__inference_BLOCK_4-4_SE_CONV_1_layer_call_and_return_conditional_losses_15737) with ops with unsaved custom gradients. Will likely fail if a gradient is requested.\n",
            "WARNING:absl:Importing a function (__inference_BLOCK_4-2_SE_CONV_1_layer_call_and_return_conditional_losses_32822) with ops with unsaved custom gradients. Will likely fail if a gradient is requested.\n"
          ]
        },
        {
          "output_type": "execute_result",
          "data": {
            "text/plain": [
              "<tensorflow.python.saved_model.load.Loader._recreate_base_user_object.<locals>._UserObject at 0x7f8a82e06a90>"
            ]
          },
          "metadata": {},
          "execution_count": 3
        }
      ],
      "source": [
        "from tensorflow import keras\n",
        "\n",
        "pb_model = keras.models.load_model(checkpoint_path)\n",
        "pb_model"
      ]
    },
    {
      "cell_type": "code",
      "execution_count": 3,
      "metadata": {
        "id": "AZwJMAuOXfvr"
      },
      "outputs": [],
      "source": []
    },
    {
      "cell_type": "code",
      "execution_count": 4,
      "metadata": {
        "colab": {
          "base_uri": "https://localhost:8080/"
        },
        "id": "5W-u-YRuJbSQ",
        "outputId": "0e998974-e0e4-4517-ecd2-757c5def4ae2"
      },
      "outputs": [
        {
          "output_type": "stream",
          "name": "stdout",
          "text": [
            "1/1 [==============================] - 2s 2s/step\n"
          ]
        },
        {
          "output_type": "execute_result",
          "data": {
            "text/plain": [
              "(1, 3337)"
            ]
          },
          "metadata": {},
          "execution_count": 4
        }
      ],
      "source": [
        "import numpy as np\n",
        "\n",
        "\n",
        "input_shape = pb_model.model.layers[0].get_config()[\"batch_input_shape\"][1]\n",
        "sample = np.random.rand(1, input_shape)\n",
        "\n",
        "z = pb_model.model.predict(sample)\n",
        "z.shape"
      ]
    },
    {
      "cell_type": "markdown",
      "metadata": {
        "id": "RwKhq7BOK1WG"
      },
      "source": [
        "- https://stackoverflow.com/questions/41711190/keras-how-to-get-the-output-of-each-layer/41712013\n",
        "- https://stackoverflow.com/questions/52444175/get-the-before-last-feature-of-network-for-embedding-is-not-working"
      ]
    },
    {
      "cell_type": "code",
      "execution_count": 5,
      "metadata": {
        "colab": {
          "base_uri": "https://localhost:8080/"
        },
        "id": "t17hl6mycZBW",
        "outputId": "6a369b3d-16cd-4717-cd5b-da44393f1a40"
      },
      "outputs": [
        {
          "output_type": "execute_result",
          "data": {
            "text/plain": [
              "(None, 144000)"
            ]
          },
          "metadata": {},
          "execution_count": 5
        }
      ],
      "source": [
        "pb_model.model.layers[0].get_config()[\"batch_input_shape\"]"
      ]
    },
    {
      "cell_type": "code",
      "execution_count": 7,
      "metadata": {
        "id": "SnIMMaDlK-OD",
        "colab": {
          "base_uri": "https://localhost:8080/"
        },
        "outputId": "e4923d35-de14-446a-913c-b04bd0ac4593"
      },
      "outputs": [
        {
          "output_type": "execute_result",
          "data": {
            "text/plain": [
              "['INPUT',\n",
              " 'ADVANCED_SPEC1',\n",
              " 'BNORM_SPEC_NOQUANT',\n",
              " 'CONV_0',\n",
              " 'BNORM_0',\n",
              " 'ACT_0',\n",
              " 'pool_0_MAX',\n",
              " 'pool_0_AVG',\n",
              " 'pool_0_CONCAT',\n",
              " 'pool_0_ACT_QUANT',\n",
              " 'pool_0_CONV',\n",
              " 'BLOCK_1-1_CONV_1',\n",
              " 'BLOCK_1-1_BN_1',\n",
              " 'BLOCK_1-1_ACT_1',\n",
              " 'BLOCK_1-1_ACT_QUANT',\n",
              " 'BLOCK_1-1_CONV_3',\n",
              " 'BLOCK_1-1_BN_3',\n",
              " 'BLOCK_1-2_CONV_1',\n",
              " 'BLOCK_1-2_BN_1',\n",
              " 'BLOCK_1-2_ACT_1',\n",
              " 'BLOCK_1-2_ACT_QUANT',\n",
              " 'BLOCK_1-2_CONV_3',\n",
              " 'BLOCK_1-2_BN_3',\n",
              " 'BLOCK_1-2_ADD',\n",
              " 'BLOCK_1-3_CONV_1',\n",
              " 'BLOCK_1-3_BN_1',\n",
              " 'BLOCK_1-3_ACT_1',\n",
              " 'BLOCK_1-3_ACT_QUANT',\n",
              " 'BLOCK_1-3_CONV_3',\n",
              " 'BLOCK_1-3_BN_3',\n",
              " 'BLOCK_1-3_ADD',\n",
              " 'BLOCK_2-1_CONV_1',\n",
              " 'BLOCK_2-1_BN_1',\n",
              " 'BLOCK_2-1_ACT_1',\n",
              " 'BLOCK_2-1_ACT_QUANT',\n",
              " 'BLOCK_2-1_CONV_3',\n",
              " 'BLOCK_2-1_BN_3',\n",
              " 'BLOCK_2-2_CONV_1',\n",
              " 'BLOCK_2-2_BN_1',\n",
              " 'BLOCK_2-2_ACT_1',\n",
              " 'BLOCK_2-2_ACT_QUANT',\n",
              " 'BLOCK_2-2_CONV_3',\n",
              " 'BLOCK_2-2_BN_3',\n",
              " 'BLOCK_2-2_ADD',\n",
              " 'BLOCK_2-3_CONV_1',\n",
              " 'BLOCK_2-3_BN_1',\n",
              " 'BLOCK_2-3_ACT_1',\n",
              " 'BLOCK_2-3_ACT_QUANT',\n",
              " 'BLOCK_2-3_CONV_3',\n",
              " 'BLOCK_2-3_BN_3',\n",
              " 'BLOCK_2-3_ADD',\n",
              " 'BLOCK_2-4_CONV_1',\n",
              " 'BLOCK_2-4_BN_1',\n",
              " 'BLOCK_2-4_ACT_1',\n",
              " 'BLOCK_2-4_ACT_QUANT',\n",
              " 'BLOCK_2-4_CONV_3',\n",
              " 'BLOCK_2-4_BN_3',\n",
              " 'BLOCK_2-4_ADD',\n",
              " 'BLOCK_3-1_CONV_1',\n",
              " 'BLOCK_3-1_BN_1',\n",
              " 'BLOCK_3-1_ACT_1',\n",
              " 'BLOCK_3-1_CONV_2',\n",
              " 'BLOCK_3-1_BN_2_NOQUANT',\n",
              " 'BLOCK_3-1_ACT_2',\n",
              " 'BLOCK_3-1_SE_AVG_POOL_1',\n",
              " 'BLOCK_3-1_SE_RESHAPE',\n",
              " 'BLOCK_3-1_SE_CONV_1',\n",
              " 'BLOCK_3-1_SE_CONV_2',\n",
              " 'BLOCK_3-1_MULTIPLY',\n",
              " 'BLOCK_3-1_ACT_QUANT',\n",
              " 'BLOCK_3-1_CONV_3',\n",
              " 'BLOCK_3-1_BN_3',\n",
              " 'BLOCK_3-2_CONV_1',\n",
              " 'BLOCK_3-2_BN_1',\n",
              " 'BLOCK_3-2_ACT_1',\n",
              " 'BLOCK_3-2_CONV_2',\n",
              " 'BLOCK_3-2_BN_2_NOQUANT',\n",
              " 'BLOCK_3-2_ACT_2',\n",
              " 'BLOCK_3-2_SE_AVG_POOL_1',\n",
              " 'BLOCK_3-2_SE_RESHAPE',\n",
              " 'BLOCK_3-2_SE_CONV_1',\n",
              " 'BLOCK_3-2_SE_CONV_2',\n",
              " 'BLOCK_3-2_MULTIPLY',\n",
              " 'BLOCK_3-2_ACT_QUANT',\n",
              " 'BLOCK_3-2_CONV_3',\n",
              " 'BLOCK_3-2_BN_3',\n",
              " 'BLOCK_3-2_ADD',\n",
              " 'BLOCK_3-3_CONV_1',\n",
              " 'BLOCK_3-3_BN_1',\n",
              " 'BLOCK_3-3_ACT_1',\n",
              " 'BLOCK_3-3_CONV_2',\n",
              " 'BLOCK_3-3_BN_2_NOQUANT',\n",
              " 'BLOCK_3-3_ACT_2',\n",
              " 'BLOCK_3-3_SE_AVG_POOL_1',\n",
              " 'BLOCK_3-3_SE_RESHAPE',\n",
              " 'BLOCK_3-3_SE_CONV_1',\n",
              " 'BLOCK_3-3_SE_CONV_2',\n",
              " 'BLOCK_3-3_MULTIPLY',\n",
              " 'BLOCK_3-3_ACT_QUANT',\n",
              " 'BLOCK_3-3_CONV_3',\n",
              " 'BLOCK_3-3_BN_3',\n",
              " 'BLOCK_3-3_ADD',\n",
              " 'BLOCK_3-4_CONV_1',\n",
              " 'BLOCK_3-4_BN_1',\n",
              " 'BLOCK_3-4_ACT_1',\n",
              " 'BLOCK_3-4_CONV_2',\n",
              " 'BLOCK_3-4_BN_2_NOQUANT',\n",
              " 'BLOCK_3-4_ACT_2',\n",
              " 'BLOCK_3-4_SE_AVG_POOL_1',\n",
              " 'BLOCK_3-4_SE_RESHAPE',\n",
              " 'BLOCK_3-4_SE_CONV_1',\n",
              " 'BLOCK_3-4_SE_CONV_2',\n",
              " 'BLOCK_3-4_MULTIPLY',\n",
              " 'BLOCK_3-4_ACT_QUANT',\n",
              " 'BLOCK_3-4_CONV_3',\n",
              " 'BLOCK_3-4_BN_3',\n",
              " 'BLOCK_3-4_ADD',\n",
              " 'BLOCK_3-5_CONV_1',\n",
              " 'BLOCK_3-5_BN_1',\n",
              " 'BLOCK_3-5_ACT_1',\n",
              " 'BLOCK_3-5_CONV_2',\n",
              " 'BLOCK_3-5_BN_2_NOQUANT',\n",
              " 'BLOCK_3-5_ACT_2',\n",
              " 'BLOCK_3-5_SE_AVG_POOL_1',\n",
              " 'BLOCK_3-5_SE_RESHAPE',\n",
              " 'BLOCK_3-5_SE_CONV_1',\n",
              " 'BLOCK_3-5_SE_CONV_2',\n",
              " 'BLOCK_3-5_MULTIPLY',\n",
              " 'BLOCK_3-5_ACT_QUANT',\n",
              " 'BLOCK_3-5_CONV_3',\n",
              " 'BLOCK_3-5_BN_3',\n",
              " 'BLOCK_3-5_ADD',\n",
              " 'BLOCK_4-1_CONV_1',\n",
              " 'BLOCK_4-1_BN_1',\n",
              " 'BLOCK_4-1_ACT_1',\n",
              " 'BLOCK_4-1_CONV_2',\n",
              " 'BLOCK_4-1_BN_2_NOQUANT',\n",
              " 'BLOCK_4-1_ACT_2',\n",
              " 'BLOCK_4-1_SE_AVG_POOL_1',\n",
              " 'BLOCK_4-1_SE_RESHAPE',\n",
              " 'BLOCK_4-1_SE_CONV_1',\n",
              " 'BLOCK_4-1_SE_CONV_2',\n",
              " 'BLOCK_4-1_MULTIPLY',\n",
              " 'BLOCK_4-1_ACT_QUANT',\n",
              " 'BLOCK_4-1_CONV_3',\n",
              " 'BLOCK_4-1_BN_3',\n",
              " 'BLOCK_4-2_CONV_1',\n",
              " 'BLOCK_4-2_BN_1',\n",
              " 'BLOCK_4-2_ACT_1',\n",
              " 'BLOCK_4-2_CONV_2',\n",
              " 'BLOCK_4-2_BN_2_NOQUANT',\n",
              " 'BLOCK_4-2_ACT_2',\n",
              " 'BLOCK_4-2_SE_AVG_POOL_1',\n",
              " 'BLOCK_4-2_SE_RESHAPE',\n",
              " 'BLOCK_4-2_SE_CONV_1',\n",
              " 'BLOCK_4-2_SE_CONV_2',\n",
              " 'BLOCK_4-2_MULTIPLY',\n",
              " 'BLOCK_4-2_ACT_QUANT',\n",
              " 'BLOCK_4-2_CONV_3',\n",
              " 'BLOCK_4-2_BN_3',\n",
              " 'BLOCK_4-2_ADD',\n",
              " 'BLOCK_4-3_CONV_1',\n",
              " 'BLOCK_4-3_BN_1',\n",
              " 'BLOCK_4-3_ACT_1',\n",
              " 'BLOCK_4-3_CONV_2',\n",
              " 'BLOCK_4-3_BN_2_NOQUANT',\n",
              " 'BLOCK_4-3_ACT_2',\n",
              " 'BLOCK_4-3_SE_AVG_POOL_1',\n",
              " 'BLOCK_4-3_SE_RESHAPE',\n",
              " 'BLOCK_4-3_SE_CONV_1',\n",
              " 'BLOCK_4-3_SE_CONV_2',\n",
              " 'BLOCK_4-3_MULTIPLY',\n",
              " 'BLOCK_4-3_ACT_QUANT',\n",
              " 'BLOCK_4-3_CONV_3',\n",
              " 'BLOCK_4-3_BN_3',\n",
              " 'BLOCK_4-3_ADD',\n",
              " 'BLOCK_4-4_CONV_1',\n",
              " 'BLOCK_4-4_BN_1',\n",
              " 'BLOCK_4-4_ACT_1',\n",
              " 'BLOCK_4-4_CONV_2',\n",
              " 'BLOCK_4-4_BN_2_NOQUANT',\n",
              " 'BLOCK_4-4_ACT_2',\n",
              " 'BLOCK_4-4_SE_AVG_POOL_1',\n",
              " 'BLOCK_4-4_SE_RESHAPE',\n",
              " 'BLOCK_4-4_SE_CONV_1',\n",
              " 'BLOCK_4-4_SE_CONV_2',\n",
              " 'BLOCK_4-4_MULTIPLY',\n",
              " 'BLOCK_4-4_ACT_QUANT',\n",
              " 'BLOCK_4-4_CONV_3',\n",
              " 'BLOCK_4-4_BN_3',\n",
              " 'BLOCK_4-4_ADD',\n",
              " 'BNORM_POST_NOQUANT',\n",
              " 'ACT_POST',\n",
              " 'POST_CONV_1',\n",
              " 'POST_BN_1',\n",
              " 'POST_ACT_1',\n",
              " 'GLOBAL_AVG_POOL',\n",
              " 'CLASS_DENSE_1']"
            ]
          },
          "metadata": {},
          "execution_count": 7
        }
      ],
      "source": [
        "[layer.name for layer in pb_model.model.layers]"
      ]
    },
    {
      "cell_type": "code",
      "execution_count": 8,
      "metadata": {
        "colab": {
          "base_uri": "https://localhost:8080/"
        },
        "id": "3DDP9FTOKftD",
        "outputId": "39ced23a-e2c6-4b14-b775-93aed60bf748"
      },
      "outputs": [
        {
          "output_type": "stream",
          "name": "stdout",
          "text": [
            "1/1 [==============================] - 1s 1s/step\n"
          ]
        },
        {
          "output_type": "execute_result",
          "data": {
            "text/plain": [
              "(1, 320)"
            ]
          },
          "metadata": {},
          "execution_count": 8
        }
      ],
      "source": [
        "from keras.models import Model\n",
        "\n",
        "emb_model = Model(\n",
        "    inputs=pb_model.model.input,\n",
        "    outputs=[pb_model.model.get_layer(\"GLOBAL_AVG_POOL\").output]\n",
        "  )\n",
        "\n",
        "z = emb_model.predict(sample)\n",
        "z.shape"
      ]
    },
    {
      "cell_type": "markdown",
      "metadata": {
        "id": "8uWAeTbMaOKq"
      },
      "source": [
        "# Load data from birdclef-2022"
      ]
    },
    {
      "cell_type": "code",
      "execution_count": 9,
      "metadata": {
        "id": "JreiklxxaXn8"
      },
      "outputs": [],
      "source": [
        "import pandas as pd\n",
        "import numpy as np\n",
        "import io\n",
        "import librosa\n",
        "import librosa.display\n",
        "import soundfile as sf"
      ]
    },
    {
      "cell_type": "code",
      "execution_count": 10,
      "metadata": {
        "id": "hunB6Gbp2SKK",
        "colab": {
          "base_uri": "https://localhost:8080/"
        },
        "outputId": "e744b05d-66a0-4fe9-b870-b27ab848996f"
      },
      "outputs": [
        {
          "output_type": "stream",
          "name": "stdout",
          "text": [
            "Mounted at /content/drive\n"
          ]
        }
      ],
      "source": [
        "from google.colab import drive\n",
        "drive.mount('/content/drive')"
      ]
    },
    {
      "cell_type": "code",
      "execution_count": 11,
      "metadata": {
        "id": "2fMJgvSMaLuF"
      },
      "outputs": [],
      "source": [
        "root_url = \"https://storage.googleapis.com/birdclef-2022/raw/birdclef-2022\"\n",
        "metadata_df = pd.read_csv(f\"{root_url}/train_metadata.csv\")\n",
        "\n",
        "def get_track_url(filename: str, root_url: str=root_url) -> str:\n",
        "    return f\"{root_url}/train_audio/{filename}\"\n",
        "\n",
        "# @functools.lru_cache(maxsize=32)\n",
        "def fetch_audio_sr(filename, sample_rate=48000):\n",
        "    \"\"\"Fetch audio from a remote source and read it as PCM data.\"\"\"\n",
        "    track_url = get_track_url(filename)\n",
        "    fp = io.BytesIO(requests.get(track_url).content)\n",
        "    y, sr = librosa.load(fp, sr=sample_rate)\n",
        "    if y.shape[-1] > 1:\n",
        "      y = librosa.to_mono(y.T)\n",
        "    return y, sr"
      ]
    },
    {
      "cell_type": "code",
      "execution_count": 12,
      "metadata": {
        "colab": {
          "base_uri": "https://localhost:8080/"
        },
        "id": "TycWL0XfeGF9",
        "outputId": "22580a5d-b971-429b-81e5-06a111fd2d75"
      },
      "outputs": [
        {
          "output_type": "execute_result",
          "data": {
            "text/plain": [
              "(array([ 2.48274114e-06,  2.75472539e-05,  3.04746864e-05, ...,\n",
              "        -6.61349486e-06,  1.03764796e-04,  8.12338112e-05], dtype=float32),\n",
              " 48000)"
            ]
          },
          "metadata": {},
          "execution_count": 12
        }
      ],
      "source": [
        "fetch_audio_sr(\"afrsil1/XC177993.ogg\")"
      ]
    },
    {
      "cell_type": "code",
      "execution_count": 13,
      "metadata": {
        "id": "EyI3AWUiiudL"
      },
      "outputs": [],
      "source": [
        "def get_details(file_name):\n",
        "    y, sr = fetch_audio_sr(file_name)\n",
        "    return len(y) / sr, sr"
      ]
    },
    {
      "cell_type": "code",
      "execution_count": 14,
      "metadata": {
        "colab": {
          "base_uri": "https://localhost:8080/",
          "height": 357
        },
        "id": "-vDANI7xamCh",
        "outputId": "cb37560c-11be-4191-82eb-102729cceb04"
      },
      "outputs": [
        {
          "output_type": "execute_result",
          "data": {
            "text/plain": [
              "  primary_label              secondary_labels      type  latitude  longitude  \\\n",
              "0       afrsil1                            []  ['call']   21.3561  -158.0205   \n",
              "1       afrsil1                            []  ['call']   17.1003    54.2844   \n",
              "2        akiapo  ['apapan', 'hawama', 'iiwi']  ['song']   19.6294  -155.3615   \n",
              "3        akiapo                            []  ['song']   19.6294  -155.3615   \n",
              "4        aniani                            []  ['call']   22.1467  -159.6134   \n",
              "\n",
              "       scientific_name         common_name  rating   time  \\\n",
              "0      Euodice cantans  African Silverbill     4.0  11:00   \n",
              "1      Euodice cantans  African Silverbill     4.5  06:35   \n",
              "2  Hemignathus wilsoni          Akiapolaau     4.5  12:31   \n",
              "3  Hemignathus wilsoni          Akiapolaau     5.0  12:00   \n",
              "4        Magumma parva            Anianiau     4.0  09:00   \n",
              "\n",
              "                                 url              filename     length  \n",
              "0  https://www.xeno-canto.org/209513  afrsil1/XC209513.ogg  42.866937  \n",
              "1  https://www.xeno-canto.org/395771  afrsil1/XC395771.ogg  27.219000  \n",
              "2  https://www.xeno-canto.org/122399   akiapo/XC122399.ogg  29.328000  \n",
              "3  https://www.xeno-canto.org/306424   akiapo/XC306424.ogg  29.910219  \n",
              "4  https://www.xeno-canto.org/210203   aniani/XC210203.ogg  42.083250  "
            ],
            "text/html": [
              "\n",
              "  <div id=\"df-1365b0f0-557c-4744-ba38-bdefd82ef8bc\">\n",
              "    <div class=\"colab-df-container\">\n",
              "      <div>\n",
              "<style scoped>\n",
              "    .dataframe tbody tr th:only-of-type {\n",
              "        vertical-align: middle;\n",
              "    }\n",
              "\n",
              "    .dataframe tbody tr th {\n",
              "        vertical-align: top;\n",
              "    }\n",
              "\n",
              "    .dataframe thead th {\n",
              "        text-align: right;\n",
              "    }\n",
              "</style>\n",
              "<table border=\"1\" class=\"dataframe\">\n",
              "  <thead>\n",
              "    <tr style=\"text-align: right;\">\n",
              "      <th></th>\n",
              "      <th>primary_label</th>\n",
              "      <th>secondary_labels</th>\n",
              "      <th>type</th>\n",
              "      <th>latitude</th>\n",
              "      <th>longitude</th>\n",
              "      <th>scientific_name</th>\n",
              "      <th>common_name</th>\n",
              "      <th>rating</th>\n",
              "      <th>time</th>\n",
              "      <th>url</th>\n",
              "      <th>filename</th>\n",
              "      <th>length</th>\n",
              "    </tr>\n",
              "  </thead>\n",
              "  <tbody>\n",
              "    <tr>\n",
              "      <th>0</th>\n",
              "      <td>afrsil1</td>\n",
              "      <td>[]</td>\n",
              "      <td>['call']</td>\n",
              "      <td>21.3561</td>\n",
              "      <td>-158.0205</td>\n",
              "      <td>Euodice cantans</td>\n",
              "      <td>African Silverbill</td>\n",
              "      <td>4.0</td>\n",
              "      <td>11:00</td>\n",
              "      <td>https://www.xeno-canto.org/209513</td>\n",
              "      <td>afrsil1/XC209513.ogg</td>\n",
              "      <td>42.866937</td>\n",
              "    </tr>\n",
              "    <tr>\n",
              "      <th>1</th>\n",
              "      <td>afrsil1</td>\n",
              "      <td>[]</td>\n",
              "      <td>['call']</td>\n",
              "      <td>17.1003</td>\n",
              "      <td>54.2844</td>\n",
              "      <td>Euodice cantans</td>\n",
              "      <td>African Silverbill</td>\n",
              "      <td>4.5</td>\n",
              "      <td>06:35</td>\n",
              "      <td>https://www.xeno-canto.org/395771</td>\n",
              "      <td>afrsil1/XC395771.ogg</td>\n",
              "      <td>27.219000</td>\n",
              "    </tr>\n",
              "    <tr>\n",
              "      <th>2</th>\n",
              "      <td>akiapo</td>\n",
              "      <td>['apapan', 'hawama', 'iiwi']</td>\n",
              "      <td>['song']</td>\n",
              "      <td>19.6294</td>\n",
              "      <td>-155.3615</td>\n",
              "      <td>Hemignathus wilsoni</td>\n",
              "      <td>Akiapolaau</td>\n",
              "      <td>4.5</td>\n",
              "      <td>12:31</td>\n",
              "      <td>https://www.xeno-canto.org/122399</td>\n",
              "      <td>akiapo/XC122399.ogg</td>\n",
              "      <td>29.328000</td>\n",
              "    </tr>\n",
              "    <tr>\n",
              "      <th>3</th>\n",
              "      <td>akiapo</td>\n",
              "      <td>[]</td>\n",
              "      <td>['song']</td>\n",
              "      <td>19.6294</td>\n",
              "      <td>-155.3615</td>\n",
              "      <td>Hemignathus wilsoni</td>\n",
              "      <td>Akiapolaau</td>\n",
              "      <td>5.0</td>\n",
              "      <td>12:00</td>\n",
              "      <td>https://www.xeno-canto.org/306424</td>\n",
              "      <td>akiapo/XC306424.ogg</td>\n",
              "      <td>29.910219</td>\n",
              "    </tr>\n",
              "    <tr>\n",
              "      <th>4</th>\n",
              "      <td>aniani</td>\n",
              "      <td>[]</td>\n",
              "      <td>['call']</td>\n",
              "      <td>22.1467</td>\n",
              "      <td>-159.6134</td>\n",
              "      <td>Magumma parva</td>\n",
              "      <td>Anianiau</td>\n",
              "      <td>4.0</td>\n",
              "      <td>09:00</td>\n",
              "      <td>https://www.xeno-canto.org/210203</td>\n",
              "      <td>aniani/XC210203.ogg</td>\n",
              "      <td>42.083250</td>\n",
              "    </tr>\n",
              "  </tbody>\n",
              "</table>\n",
              "</div>\n",
              "      <button class=\"colab-df-convert\" onclick=\"convertToInteractive('df-1365b0f0-557c-4744-ba38-bdefd82ef8bc')\"\n",
              "              title=\"Convert this dataframe to an interactive table.\"\n",
              "              style=\"display:none;\">\n",
              "        \n",
              "  <svg xmlns=\"http://www.w3.org/2000/svg\" height=\"24px\"viewBox=\"0 0 24 24\"\n",
              "       width=\"24px\">\n",
              "    <path d=\"M0 0h24v24H0V0z\" fill=\"none\"/>\n",
              "    <path d=\"M18.56 5.44l.94 2.06.94-2.06 2.06-.94-2.06-.94-.94-2.06-.94 2.06-2.06.94zm-11 1L8.5 8.5l.94-2.06 2.06-.94-2.06-.94L8.5 2.5l-.94 2.06-2.06.94zm10 10l.94 2.06.94-2.06 2.06-.94-2.06-.94-.94-2.06-.94 2.06-2.06.94z\"/><path d=\"M17.41 7.96l-1.37-1.37c-.4-.4-.92-.59-1.43-.59-.52 0-1.04.2-1.43.59L10.3 9.45l-7.72 7.72c-.78.78-.78 2.05 0 2.83L4 21.41c.39.39.9.59 1.41.59.51 0 1.02-.2 1.41-.59l7.78-7.78 2.81-2.81c.8-.78.8-2.07 0-2.86zM5.41 20L4 18.59l7.72-7.72 1.47 1.35L5.41 20z\"/>\n",
              "  </svg>\n",
              "      </button>\n",
              "      \n",
              "  <style>\n",
              "    .colab-df-container {\n",
              "      display:flex;\n",
              "      flex-wrap:wrap;\n",
              "      gap: 12px;\n",
              "    }\n",
              "\n",
              "    .colab-df-convert {\n",
              "      background-color: #E8F0FE;\n",
              "      border: none;\n",
              "      border-radius: 50%;\n",
              "      cursor: pointer;\n",
              "      display: none;\n",
              "      fill: #1967D2;\n",
              "      height: 32px;\n",
              "      padding: 0 0 0 0;\n",
              "      width: 32px;\n",
              "    }\n",
              "\n",
              "    .colab-df-convert:hover {\n",
              "      background-color: #E2EBFA;\n",
              "      box-shadow: 0px 1px 2px rgba(60, 64, 67, 0.3), 0px 1px 3px 1px rgba(60, 64, 67, 0.15);\n",
              "      fill: #174EA6;\n",
              "    }\n",
              "\n",
              "    [theme=dark] .colab-df-convert {\n",
              "      background-color: #3B4455;\n",
              "      fill: #D2E3FC;\n",
              "    }\n",
              "\n",
              "    [theme=dark] .colab-df-convert:hover {\n",
              "      background-color: #434B5C;\n",
              "      box-shadow: 0px 1px 3px 1px rgba(0, 0, 0, 0.15);\n",
              "      filter: drop-shadow(0px 1px 2px rgba(0, 0, 0, 0.3));\n",
              "      fill: #FFFFFF;\n",
              "    }\n",
              "  </style>\n",
              "\n",
              "      <script>\n",
              "        const buttonEl =\n",
              "          document.querySelector('#df-1365b0f0-557c-4744-ba38-bdefd82ef8bc button.colab-df-convert');\n",
              "        buttonEl.style.display =\n",
              "          google.colab.kernel.accessAllowed ? 'block' : 'none';\n",
              "\n",
              "        async function convertToInteractive(key) {\n",
              "          const element = document.querySelector('#df-1365b0f0-557c-4744-ba38-bdefd82ef8bc');\n",
              "          const dataTable =\n",
              "            await google.colab.kernel.invokeFunction('convertToInteractive',\n",
              "                                                     [key], {});\n",
              "          if (!dataTable) return;\n",
              "\n",
              "          const docLinkHtml = 'Like what you see? Visit the ' +\n",
              "            '<a target=\"_blank\" href=https://colab.research.google.com/notebooks/data_table.ipynb>data table notebook</a>'\n",
              "            + ' to learn more about interactive tables.';\n",
              "          element.innerHTML = '';\n",
              "          dataTable['output_type'] = 'display_data';\n",
              "          await google.colab.output.renderOutput(dataTable, element);\n",
              "          const docLink = document.createElement('div');\n",
              "          docLink.innerHTML = docLinkHtml;\n",
              "          element.appendChild(docLink);\n",
              "        }\n",
              "      </script>\n",
              "    </div>\n",
              "  </div>\n",
              "  "
            ]
          },
          "metadata": {},
          "execution_count": 14
        }
      ],
      "source": [
        "# Read only high quality (rating >= 4) and long enough files (length in [27,51] seconds)\n",
        "meta_df_cut = pd.read_parquet(\"drive/MyDrive/data/birdnet_clef/meta_df_cut.pq\")\n",
        "meta_df_cut.drop(columns=[\"license\", \"sample_rate\", \"author\", \"details\"], inplace=True)\n",
        "meta_df_cut.head()"
      ]
    },
    {
      "cell_type": "code",
      "execution_count": 15,
      "metadata": {
        "colab": {
          "base_uri": "https://localhost:8080/",
          "height": 300
        },
        "id": "03lrs3Tf65Xw",
        "outputId": "964d2be6-7c60-4cfc-aaf7-97230375c8fc"
      },
      "outputs": [
        {
          "output_type": "execute_result",
          "data": {
            "text/plain": [
              "          latitude    longitude       rating       length\n",
              "count  1841.000000  1841.000000  1841.000000  1841.000000\n",
              "mean     34.410503   -37.161802     4.485606    37.357469\n",
              "std      23.893564    72.793099     0.447134     6.884998\n",
              "min     -46.896800  -176.632200     4.000000    27.010000\n",
              "25%      26.137500  -100.589600     4.000000    31.080000\n",
              "50%      39.569600   -17.230300     4.500000    36.571438\n",
              "75%      50.526500    10.962100     5.000000    43.075906\n",
              "max      78.925000   179.338100     5.000000    50.964906"
            ],
            "text/html": [
              "\n",
              "  <div id=\"df-4fff50bb-2204-402a-95e8-cb6446b3fe13\">\n",
              "    <div class=\"colab-df-container\">\n",
              "      <div>\n",
              "<style scoped>\n",
              "    .dataframe tbody tr th:only-of-type {\n",
              "        vertical-align: middle;\n",
              "    }\n",
              "\n",
              "    .dataframe tbody tr th {\n",
              "        vertical-align: top;\n",
              "    }\n",
              "\n",
              "    .dataframe thead th {\n",
              "        text-align: right;\n",
              "    }\n",
              "</style>\n",
              "<table border=\"1\" class=\"dataframe\">\n",
              "  <thead>\n",
              "    <tr style=\"text-align: right;\">\n",
              "      <th></th>\n",
              "      <th>latitude</th>\n",
              "      <th>longitude</th>\n",
              "      <th>rating</th>\n",
              "      <th>length</th>\n",
              "    </tr>\n",
              "  </thead>\n",
              "  <tbody>\n",
              "    <tr>\n",
              "      <th>count</th>\n",
              "      <td>1841.000000</td>\n",
              "      <td>1841.000000</td>\n",
              "      <td>1841.000000</td>\n",
              "      <td>1841.000000</td>\n",
              "    </tr>\n",
              "    <tr>\n",
              "      <th>mean</th>\n",
              "      <td>34.410503</td>\n",
              "      <td>-37.161802</td>\n",
              "      <td>4.485606</td>\n",
              "      <td>37.357469</td>\n",
              "    </tr>\n",
              "    <tr>\n",
              "      <th>std</th>\n",
              "      <td>23.893564</td>\n",
              "      <td>72.793099</td>\n",
              "      <td>0.447134</td>\n",
              "      <td>6.884998</td>\n",
              "    </tr>\n",
              "    <tr>\n",
              "      <th>min</th>\n",
              "      <td>-46.896800</td>\n",
              "      <td>-176.632200</td>\n",
              "      <td>4.000000</td>\n",
              "      <td>27.010000</td>\n",
              "    </tr>\n",
              "    <tr>\n",
              "      <th>25%</th>\n",
              "      <td>26.137500</td>\n",
              "      <td>-100.589600</td>\n",
              "      <td>4.000000</td>\n",
              "      <td>31.080000</td>\n",
              "    </tr>\n",
              "    <tr>\n",
              "      <th>50%</th>\n",
              "      <td>39.569600</td>\n",
              "      <td>-17.230300</td>\n",
              "      <td>4.500000</td>\n",
              "      <td>36.571438</td>\n",
              "    </tr>\n",
              "    <tr>\n",
              "      <th>75%</th>\n",
              "      <td>50.526500</td>\n",
              "      <td>10.962100</td>\n",
              "      <td>5.000000</td>\n",
              "      <td>43.075906</td>\n",
              "    </tr>\n",
              "    <tr>\n",
              "      <th>max</th>\n",
              "      <td>78.925000</td>\n",
              "      <td>179.338100</td>\n",
              "      <td>5.000000</td>\n",
              "      <td>50.964906</td>\n",
              "    </tr>\n",
              "  </tbody>\n",
              "</table>\n",
              "</div>\n",
              "      <button class=\"colab-df-convert\" onclick=\"convertToInteractive('df-4fff50bb-2204-402a-95e8-cb6446b3fe13')\"\n",
              "              title=\"Convert this dataframe to an interactive table.\"\n",
              "              style=\"display:none;\">\n",
              "        \n",
              "  <svg xmlns=\"http://www.w3.org/2000/svg\" height=\"24px\"viewBox=\"0 0 24 24\"\n",
              "       width=\"24px\">\n",
              "    <path d=\"M0 0h24v24H0V0z\" fill=\"none\"/>\n",
              "    <path d=\"M18.56 5.44l.94 2.06.94-2.06 2.06-.94-2.06-.94-.94-2.06-.94 2.06-2.06.94zm-11 1L8.5 8.5l.94-2.06 2.06-.94-2.06-.94L8.5 2.5l-.94 2.06-2.06.94zm10 10l.94 2.06.94-2.06 2.06-.94-2.06-.94-.94-2.06-.94 2.06-2.06.94z\"/><path d=\"M17.41 7.96l-1.37-1.37c-.4-.4-.92-.59-1.43-.59-.52 0-1.04.2-1.43.59L10.3 9.45l-7.72 7.72c-.78.78-.78 2.05 0 2.83L4 21.41c.39.39.9.59 1.41.59.51 0 1.02-.2 1.41-.59l7.78-7.78 2.81-2.81c.8-.78.8-2.07 0-2.86zM5.41 20L4 18.59l7.72-7.72 1.47 1.35L5.41 20z\"/>\n",
              "  </svg>\n",
              "      </button>\n",
              "      \n",
              "  <style>\n",
              "    .colab-df-container {\n",
              "      display:flex;\n",
              "      flex-wrap:wrap;\n",
              "      gap: 12px;\n",
              "    }\n",
              "\n",
              "    .colab-df-convert {\n",
              "      background-color: #E8F0FE;\n",
              "      border: none;\n",
              "      border-radius: 50%;\n",
              "      cursor: pointer;\n",
              "      display: none;\n",
              "      fill: #1967D2;\n",
              "      height: 32px;\n",
              "      padding: 0 0 0 0;\n",
              "      width: 32px;\n",
              "    }\n",
              "\n",
              "    .colab-df-convert:hover {\n",
              "      background-color: #E2EBFA;\n",
              "      box-shadow: 0px 1px 2px rgba(60, 64, 67, 0.3), 0px 1px 3px 1px rgba(60, 64, 67, 0.15);\n",
              "      fill: #174EA6;\n",
              "    }\n",
              "\n",
              "    [theme=dark] .colab-df-convert {\n",
              "      background-color: #3B4455;\n",
              "      fill: #D2E3FC;\n",
              "    }\n",
              "\n",
              "    [theme=dark] .colab-df-convert:hover {\n",
              "      background-color: #434B5C;\n",
              "      box-shadow: 0px 1px 3px 1px rgba(0, 0, 0, 0.15);\n",
              "      filter: drop-shadow(0px 1px 2px rgba(0, 0, 0, 0.3));\n",
              "      fill: #FFFFFF;\n",
              "    }\n",
              "  </style>\n",
              "\n",
              "      <script>\n",
              "        const buttonEl =\n",
              "          document.querySelector('#df-4fff50bb-2204-402a-95e8-cb6446b3fe13 button.colab-df-convert');\n",
              "        buttonEl.style.display =\n",
              "          google.colab.kernel.accessAllowed ? 'block' : 'none';\n",
              "\n",
              "        async function convertToInteractive(key) {\n",
              "          const element = document.querySelector('#df-4fff50bb-2204-402a-95e8-cb6446b3fe13');\n",
              "          const dataTable =\n",
              "            await google.colab.kernel.invokeFunction('convertToInteractive',\n",
              "                                                     [key], {});\n",
              "          if (!dataTable) return;\n",
              "\n",
              "          const docLinkHtml = 'Like what you see? Visit the ' +\n",
              "            '<a target=\"_blank\" href=https://colab.research.google.com/notebooks/data_table.ipynb>data table notebook</a>'\n",
              "            + ' to learn more about interactive tables.';\n",
              "          element.innerHTML = '';\n",
              "          dataTable['output_type'] = 'display_data';\n",
              "          await google.colab.output.renderOutput(dataTable, element);\n",
              "          const docLink = document.createElement('div');\n",
              "          docLink.innerHTML = docLinkHtml;\n",
              "          element.appendChild(docLink);\n",
              "        }\n",
              "      </script>\n",
              "    </div>\n",
              "  </div>\n",
              "  "
            ]
          },
          "metadata": {},
          "execution_count": 15
        }
      ],
      "source": [
        "meta_df_cut.describe()"
      ]
    },
    {
      "cell_type": "code",
      "execution_count": 16,
      "metadata": {
        "id": "bsEcoYlMjB6g"
      },
      "outputs": [],
      "source": [
        "def get_slider(filename):\n",
        "    y, sr = fetch_audio_sr(filename, sample_rate=48000) # LENGTH > 27 seconds\n",
        "    return np.concatenate([np.expand_dims(y[i*sr:(i+3)*sr], 0) for i in range(25)], axis=0)"
      ]
    },
    {
      "cell_type": "code",
      "execution_count": 17,
      "metadata": {
        "id": "3PIAMtaq5V1k"
      },
      "outputs": [],
      "source": [
        "y_cube = get_slider(\"aniani/XC210203.ogg\")"
      ]
    },
    {
      "cell_type": "code",
      "execution_count": 18,
      "metadata": {
        "colab": {
          "base_uri": "https://localhost:8080/"
        },
        "id": "r7AheOCbjZrM",
        "outputId": "5995bc7f-3c22-4dd5-e47f-a1addd7592e6"
      },
      "outputs": [
        {
          "output_type": "execute_result",
          "data": {
            "text/plain": [
              "(25, 144000)"
            ]
          },
          "metadata": {},
          "execution_count": 18
        }
      ],
      "source": [
        "y_cube.shape"
      ]
    },
    {
      "cell_type": "code",
      "execution_count": 19,
      "metadata": {
        "id": "odAs8ax14swq"
      },
      "outputs": [],
      "source": [
        "out = emb_model(y_cube)"
      ]
    },
    {
      "cell_type": "code",
      "execution_count": 20,
      "metadata": {
        "colab": {
          "base_uri": "https://localhost:8080/"
        },
        "id": "MTCCelhnjcUr",
        "outputId": "137fbe7c-01cf-4a03-bafe-b32077bbc35a"
      },
      "outputs": [
        {
          "output_type": "execute_result",
          "data": {
            "text/plain": [
              "TensorShape([25, 320])"
            ]
          },
          "metadata": {},
          "execution_count": 20
        }
      ],
      "source": [
        "out.shape"
      ]
    },
    {
      "cell_type": "code",
      "execution_count": 21,
      "metadata": {
        "colab": {
          "base_uri": "https://localhost:8080/"
        },
        "id": "MCW-HeID79kx",
        "outputId": "49f40b96-9747-4cf1-b5d2-7afc3bae8d42"
      },
      "outputs": [
        {
          "output_type": "execute_result",
          "data": {
            "text/plain": [
              "array([[[1.4449097 , 0.52302724, 0.900517  , ..., 0.9261592 ,\n",
              "         0.60402757, 0.19873744],\n",
              "        [2.0589826 , 0.41992864, 1.2794278 , ..., 0.5984857 ,\n",
              "         0.5463397 , 0.38938674],\n",
              "        [1.4522858 , 0.563561  , 1.3416977 , ..., 0.43575522,\n",
              "         0.329533  , 0.2389092 ],\n",
              "        ...,\n",
              "        [1.4354645 , 1.1026314 , 0.8678978 , ..., 0.450032  ,\n",
              "         0.42613757, 0.5474387 ],\n",
              "        [0.84232444, 0.35587764, 0.29460782, ..., 0.5967485 ,\n",
              "         0.28373596, 0.33519045],\n",
              "        [0.9819014 , 0.7643902 , 0.2677348 , ..., 0.60384965,\n",
              "         0.45256677, 0.49627304]]], dtype=float32)"
            ]
          },
          "metadata": {},
          "execution_count": 21
        }
      ],
      "source": [
        "np.expand_dims(out.numpy(),0)"
      ]
    },
    {
      "cell_type": "code",
      "execution_count": 22,
      "metadata": {
        "id": "DeOiJhHV8K1i"
      },
      "outputs": [],
      "source": [
        "from tqdm.auto import tqdm"
      ]
    },
    {
      "cell_type": "code",
      "execution_count": 23,
      "metadata": {
        "id": "S2sn_lYZzojZ"
      },
      "outputs": [],
      "source": [
        "def extract_emb(filename_series):\n",
        "    emb_cube = []\n",
        "    for file_name in tqdm(filename_series):\n",
        "        y_slide = get_slider(filename = file_name) # (25,144000)\n",
        "        y_emb = emb_model(y_slide) # (25,300)\n",
        "        emb_cube.append(np.expand_dims(y_emb.numpy(),0))\n",
        "    return np.concatenate(emb_cube, axis=0) #(1841,25,300)"
      ]
    },
    {
      "cell_type": "code",
      "execution_count": null,
      "metadata": {
        "colab": {
          "background_save": true,
          "base_uri": "https://localhost:8080/",
          "height": 49,
          "referenced_widgets": [
            "327307a7010d41abb4426aea45c8399c",
            "bae3754fa46e42a5b5bd94ec8d9e324c",
            "e347eb98ea9745fd9b813451c07fe364",
            "7b2af1da2d724eaea454ca63259197eb",
            "835dbc2994ee4f3b8fa177fa42b04fdb",
            "be5abce75d43427daabb44407a48dddb",
            "87fbd84109ba48b6a633d1763929074e",
            "89605f9fbf2f463b8c36e5254d1d383d",
            "58a599b5a7ce42e58c104a7c53f5f5a9",
            "c9777e3a6eef47da9b84886f335ab0de",
            "6fdb7f7827af46b2beb1c82debb3044d"
          ]
        },
        "id": "dJRM3itj0LY4",
        "outputId": "88943dfa-16f2-4cd6-a2e6-040a79240b61"
      },
      "outputs": [
        {
          "output_type": "display_data",
          "data": {
            "text/plain": [
              "  0%|          | 0/1841 [00:00<?, ?it/s]"
            ],
            "application/vnd.jupyter.widget-view+json": {
              "version_major": 2,
              "version_minor": 0,
              "model_id": "327307a7010d41abb4426aea45c8399c"
            }
          },
          "metadata": {}
        }
      ],
      "source": [
        "emb_cube = extract_emb(meta_df_cut.filename)"
      ]
    },
    {
      "cell_type": "code",
      "execution_count": null,
      "metadata": {
        "id": "JRctSDE00_-2"
      },
      "outputs": [],
      "source": [
        "with open('drive/MyDrive/data/birdnet_clef/emb_cube.npy', 'wb') as f:\n",
        "    np.save(f, emb_cube)\n"
      ]
    },
    {
      "cell_type": "code",
      "execution_count": null,
      "metadata": {
        "id": "U3RKqHaN9L-2"
      },
      "outputs": [],
      "source": []
    }
  ],
  "metadata": {
    "colab": {
      "collapsed_sections": [],
      "provenance": []
    },
    "kernelspec": {
      "display_name": "Python 3",
      "name": "python3"
    },
    "language_info": {
      "name": "python"
    },
    "widgets": {
      "application/vnd.jupyter.widget-state+json": {
        "327307a7010d41abb4426aea45c8399c": {
          "model_module": "@jupyter-widgets/controls",
          "model_name": "HBoxModel",
          "model_module_version": "1.5.0",
          "state": {
            "_dom_classes": [],
            "_model_module": "@jupyter-widgets/controls",
            "_model_module_version": "1.5.0",
            "_model_name": "HBoxModel",
            "_view_count": null,
            "_view_module": "@jupyter-widgets/controls",
            "_view_module_version": "1.5.0",
            "_view_name": "HBoxView",
            "box_style": "",
            "children": [
              "IPY_MODEL_bae3754fa46e42a5b5bd94ec8d9e324c",
              "IPY_MODEL_e347eb98ea9745fd9b813451c07fe364",
              "IPY_MODEL_7b2af1da2d724eaea454ca63259197eb"
            ],
            "layout": "IPY_MODEL_835dbc2994ee4f3b8fa177fa42b04fdb"
          }
        },
        "bae3754fa46e42a5b5bd94ec8d9e324c": {
          "model_module": "@jupyter-widgets/controls",
          "model_name": "HTMLModel",
          "model_module_version": "1.5.0",
          "state": {
            "_dom_classes": [],
            "_model_module": "@jupyter-widgets/controls",
            "_model_module_version": "1.5.0",
            "_model_name": "HTMLModel",
            "_view_count": null,
            "_view_module": "@jupyter-widgets/controls",
            "_view_module_version": "1.5.0",
            "_view_name": "HTMLView",
            "description": "",
            "description_tooltip": null,
            "layout": "IPY_MODEL_be5abce75d43427daabb44407a48dddb",
            "placeholder": "​",
            "style": "IPY_MODEL_87fbd84109ba48b6a633d1763929074e",
            "value": "  1%"
          }
        },
        "e347eb98ea9745fd9b813451c07fe364": {
          "model_module": "@jupyter-widgets/controls",
          "model_name": "FloatProgressModel",
          "model_module_version": "1.5.0",
          "state": {
            "_dom_classes": [],
            "_model_module": "@jupyter-widgets/controls",
            "_model_module_version": "1.5.0",
            "_model_name": "FloatProgressModel",
            "_view_count": null,
            "_view_module": "@jupyter-widgets/controls",
            "_view_module_version": "1.5.0",
            "_view_name": "ProgressView",
            "bar_style": "",
            "description": "",
            "description_tooltip": null,
            "layout": "IPY_MODEL_89605f9fbf2f463b8c36e5254d1d383d",
            "max": 1841,
            "min": 0,
            "orientation": "horizontal",
            "style": "IPY_MODEL_58a599b5a7ce42e58c104a7c53f5f5a9",
            "value": 20
          }
        },
        "7b2af1da2d724eaea454ca63259197eb": {
          "model_module": "@jupyter-widgets/controls",
          "model_name": "HTMLModel",
          "model_module_version": "1.5.0",
          "state": {
            "_dom_classes": [],
            "_model_module": "@jupyter-widgets/controls",
            "_model_module_version": "1.5.0",
            "_model_name": "HTMLModel",
            "_view_count": null,
            "_view_module": "@jupyter-widgets/controls",
            "_view_module_version": "1.5.0",
            "_view_name": "HTMLView",
            "description": "",
            "description_tooltip": null,
            "layout": "IPY_MODEL_c9777e3a6eef47da9b84886f335ab0de",
            "placeholder": "​",
            "style": "IPY_MODEL_6fdb7f7827af46b2beb1c82debb3044d",
            "value": " 20/1841 [01:21&lt;2:08:28,  4.23s/it]"
          }
        },
        "835dbc2994ee4f3b8fa177fa42b04fdb": {
          "model_module": "@jupyter-widgets/base",
          "model_name": "LayoutModel",
          "model_module_version": "1.2.0",
          "state": {
            "_model_module": "@jupyter-widgets/base",
            "_model_module_version": "1.2.0",
            "_model_name": "LayoutModel",
            "_view_count": null,
            "_view_module": "@jupyter-widgets/base",
            "_view_module_version": "1.2.0",
            "_view_name": "LayoutView",
            "align_content": null,
            "align_items": null,
            "align_self": null,
            "border": null,
            "bottom": null,
            "display": null,
            "flex": null,
            "flex_flow": null,
            "grid_area": null,
            "grid_auto_columns": null,
            "grid_auto_flow": null,
            "grid_auto_rows": null,
            "grid_column": null,
            "grid_gap": null,
            "grid_row": null,
            "grid_template_areas": null,
            "grid_template_columns": null,
            "grid_template_rows": null,
            "height": null,
            "justify_content": null,
            "justify_items": null,
            "left": null,
            "margin": null,
            "max_height": null,
            "max_width": null,
            "min_height": null,
            "min_width": null,
            "object_fit": null,
            "object_position": null,
            "order": null,
            "overflow": null,
            "overflow_x": null,
            "overflow_y": null,
            "padding": null,
            "right": null,
            "top": null,
            "visibility": null,
            "width": null
          }
        },
        "be5abce75d43427daabb44407a48dddb": {
          "model_module": "@jupyter-widgets/base",
          "model_name": "LayoutModel",
          "model_module_version": "1.2.0",
          "state": {
            "_model_module": "@jupyter-widgets/base",
            "_model_module_version": "1.2.0",
            "_model_name": "LayoutModel",
            "_view_count": null,
            "_view_module": "@jupyter-widgets/base",
            "_view_module_version": "1.2.0",
            "_view_name": "LayoutView",
            "align_content": null,
            "align_items": null,
            "align_self": null,
            "border": null,
            "bottom": null,
            "display": null,
            "flex": null,
            "flex_flow": null,
            "grid_area": null,
            "grid_auto_columns": null,
            "grid_auto_flow": null,
            "grid_auto_rows": null,
            "grid_column": null,
            "grid_gap": null,
            "grid_row": null,
            "grid_template_areas": null,
            "grid_template_columns": null,
            "grid_template_rows": null,
            "height": null,
            "justify_content": null,
            "justify_items": null,
            "left": null,
            "margin": null,
            "max_height": null,
            "max_width": null,
            "min_height": null,
            "min_width": null,
            "object_fit": null,
            "object_position": null,
            "order": null,
            "overflow": null,
            "overflow_x": null,
            "overflow_y": null,
            "padding": null,
            "right": null,
            "top": null,
            "visibility": null,
            "width": null
          }
        },
        "87fbd84109ba48b6a633d1763929074e": {
          "model_module": "@jupyter-widgets/controls",
          "model_name": "DescriptionStyleModel",
          "model_module_version": "1.5.0",
          "state": {
            "_model_module": "@jupyter-widgets/controls",
            "_model_module_version": "1.5.0",
            "_model_name": "DescriptionStyleModel",
            "_view_count": null,
            "_view_module": "@jupyter-widgets/base",
            "_view_module_version": "1.2.0",
            "_view_name": "StyleView",
            "description_width": ""
          }
        },
        "89605f9fbf2f463b8c36e5254d1d383d": {
          "model_module": "@jupyter-widgets/base",
          "model_name": "LayoutModel",
          "model_module_version": "1.2.0",
          "state": {
            "_model_module": "@jupyter-widgets/base",
            "_model_module_version": "1.2.0",
            "_model_name": "LayoutModel",
            "_view_count": null,
            "_view_module": "@jupyter-widgets/base",
            "_view_module_version": "1.2.0",
            "_view_name": "LayoutView",
            "align_content": null,
            "align_items": null,
            "align_self": null,
            "border": null,
            "bottom": null,
            "display": null,
            "flex": null,
            "flex_flow": null,
            "grid_area": null,
            "grid_auto_columns": null,
            "grid_auto_flow": null,
            "grid_auto_rows": null,
            "grid_column": null,
            "grid_gap": null,
            "grid_row": null,
            "grid_template_areas": null,
            "grid_template_columns": null,
            "grid_template_rows": null,
            "height": null,
            "justify_content": null,
            "justify_items": null,
            "left": null,
            "margin": null,
            "max_height": null,
            "max_width": null,
            "min_height": null,
            "min_width": null,
            "object_fit": null,
            "object_position": null,
            "order": null,
            "overflow": null,
            "overflow_x": null,
            "overflow_y": null,
            "padding": null,
            "right": null,
            "top": null,
            "visibility": null,
            "width": null
          }
        },
        "58a599b5a7ce42e58c104a7c53f5f5a9": {
          "model_module": "@jupyter-widgets/controls",
          "model_name": "ProgressStyleModel",
          "model_module_version": "1.5.0",
          "state": {
            "_model_module": "@jupyter-widgets/controls",
            "_model_module_version": "1.5.0",
            "_model_name": "ProgressStyleModel",
            "_view_count": null,
            "_view_module": "@jupyter-widgets/base",
            "_view_module_version": "1.2.0",
            "_view_name": "StyleView",
            "bar_color": null,
            "description_width": ""
          }
        },
        "c9777e3a6eef47da9b84886f335ab0de": {
          "model_module": "@jupyter-widgets/base",
          "model_name": "LayoutModel",
          "model_module_version": "1.2.0",
          "state": {
            "_model_module": "@jupyter-widgets/base",
            "_model_module_version": "1.2.0",
            "_model_name": "LayoutModel",
            "_view_count": null,
            "_view_module": "@jupyter-widgets/base",
            "_view_module_version": "1.2.0",
            "_view_name": "LayoutView",
            "align_content": null,
            "align_items": null,
            "align_self": null,
            "border": null,
            "bottom": null,
            "display": null,
            "flex": null,
            "flex_flow": null,
            "grid_area": null,
            "grid_auto_columns": null,
            "grid_auto_flow": null,
            "grid_auto_rows": null,
            "grid_column": null,
            "grid_gap": null,
            "grid_row": null,
            "grid_template_areas": null,
            "grid_template_columns": null,
            "grid_template_rows": null,
            "height": null,
            "justify_content": null,
            "justify_items": null,
            "left": null,
            "margin": null,
            "max_height": null,
            "max_width": null,
            "min_height": null,
            "min_width": null,
            "object_fit": null,
            "object_position": null,
            "order": null,
            "overflow": null,
            "overflow_x": null,
            "overflow_y": null,
            "padding": null,
            "right": null,
            "top": null,
            "visibility": null,
            "width": null
          }
        },
        "6fdb7f7827af46b2beb1c82debb3044d": {
          "model_module": "@jupyter-widgets/controls",
          "model_name": "DescriptionStyleModel",
          "model_module_version": "1.5.0",
          "state": {
            "_model_module": "@jupyter-widgets/controls",
            "_model_module_version": "1.5.0",
            "_model_name": "DescriptionStyleModel",
            "_view_count": null,
            "_view_module": "@jupyter-widgets/base",
            "_view_module_version": "1.2.0",
            "_view_name": "StyleView",
            "description_width": ""
          }
        }
      }
    }
  },
  "nbformat": 4,
  "nbformat_minor": 0
}