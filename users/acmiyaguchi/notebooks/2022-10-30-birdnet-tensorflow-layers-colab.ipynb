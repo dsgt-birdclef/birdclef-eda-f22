{
 "nbformat": 4,
 "nbformat_minor": 0,
 "metadata": {
  "colab": {
   "provenance": [],
   "collapsed_sections": []
  },
  "kernelspec": {
   "name": "python3",
   "display_name": "Python 3"
  },
  "language_info": {
   "name": "python"
  }
 },
 "cells": [
  {
   "cell_type": "markdown",
   "source": [
    "# accessing last layer of birdnet model\n",
    "\n",
    "- colab link: https://colab.research.google.com/drive/1d9u93LJQQRTgAmzFMeCaFP0U22dUJOl-?usp=sharing"
   ],
   "metadata": {
    "id": "tK_JMD-lOhOx"
   }
  },
  {
   "cell_type": "code",
   "execution_count": 4,
   "metadata": {
    "colab": {
     "base_uri": "https://localhost:8080/"
    },
    "id": "BWKwzkwuERPL",
    "outputId": "35353d66-91db-45f0-9eeb-1bda1c808137"
   },
   "outputs": [
    {
     "output_type": "stream",
     "name": "stdout",
     "text": [
      "['data/raw/birdnet/v2.2/checkpoint/variables', 'data/raw/birdnet/v2.2/checkpoint/saved_model.pb', 'data/raw/birdnet/v2.2/checkpoint/variables/variables.index', 'data/raw/birdnet/v2.2/checkpoint/variables/variables.data-00000-of-00001']\n"
     ]
    }
   ],
   "source": [
    "from pathlib import Path\n",
    "import requests\n",
    "\n",
    "checkpoint_path = Path(\"data/raw/birdnet/v2.2/checkpoint\")\n",
    "\n",
    "checkpoint_base_url = \"https://github.com/kahst/BirdNET-Analyzer/raw/main/checkpoints/V2.2/BirdNET_GLOBAL_3K_V2.2_Model\"\n",
    "for part in [\n",
    "    \"saved_model.pb\",\n",
    "    \"variables/variables.index\",\n",
    "    \"variables/variables.data-00000-of-00001\",\n",
    "]:\n",
    "    # get response content and save to disk in checkpoint path\n",
    "    content = requests.get(f\"{checkpoint_base_url}/{part}\").content\n",
    "    p = checkpoint_path / part\n",
    "    p.parent.mkdir(parents=True, exist_ok=True)\n",
    "    p.write_bytes(content)\n",
    "\n",
    "print([p.as_posix() for p in checkpoint_path.glob(\"**/*\")])"
   ]
  },
  {
   "cell_type": "code",
   "source": [
    "import tensorflow as tf\n",
    "\n",
    "model = tf.saved_model.load(checkpoint_path, tags=[\"serve\"])"
   ],
   "metadata": {
    "colab": {
     "base_uri": "https://localhost:8080/"
    },
    "id": "th6m_yEKESkb",
    "outputId": "61aed15d-da02-492d-cf13-f51b07133596"
   },
   "execution_count": 5,
   "outputs": [
    {
     "output_type": "stream",
     "name": "stderr",
     "text": [
      "WARNING:absl:Importing a function (__inference_BLOCK_4-2_ACT_1_layer_call_and_return_conditional_losses_15267) with ops with unsaved custom gradients. Will likely fail if a gradient is requested.\n",
      "WARNING:absl:Importing a function (__inference_BLOCK_4-3_ACT_1_layer_call_and_return_conditional_losses_33161) with ops with unsaved custom gradients. Will likely fail if a gradient is requested.\n",
      "WARNING:absl:Importing a function (__inference_BLOCK_3-3_ACT_2_layer_call_and_return_conditional_losses_14525) with ops with unsaved custom gradients. Will likely fail if a gradient is requested.\n",
      "WARNING:absl:Importing a function (__inference_BLOCK_3-4_ACT_1_layer_call_and_return_conditional_losses_14681) with ops with unsaved custom gradients. Will likely fail if a gradient is requested.\n",
      "WARNING:absl:Importing a function (__inference_BLOCK_3-4_ACT_2_layer_call_and_return_conditional_losses_14723) with ops with unsaved custom gradients. Will likely fail if a gradient is requested.\n",
      "WARNING:absl:Importing a function (__inference_BLOCK_3-2_ACT_2_layer_call_and_return_conditional_losses_14327) with ops with unsaved custom gradients. Will likely fail if a gradient is requested.\n",
      "WARNING:absl:Importing a function (__inference_BLOCK_4-2_ACT_2_layer_call_and_return_conditional_losses_32783) with ops with unsaved custom gradients. Will likely fail if a gradient is requested.\n",
      "WARNING:absl:Importing a function (__inference_BLOCK_2-4_ACT_1_layer_call_and_return_conditional_losses_13993) with ops with unsaved custom gradients. Will likely fail if a gradient is requested.\n",
      "WARNING:absl:Importing a function (__inference_BLOCK_3-3_ACT_2_layer_call_and_return_conditional_losses_30727) with ops with unsaved custom gradients. Will likely fail if a gradient is requested.\n",
      "WARNING:absl:Importing a function (__inference_BLOCK_3-5_SE_CONV_1_layer_call_and_return_conditional_losses_14953) with ops with unsaved custom gradients. Will likely fail if a gradient is requested.\n",
      "WARNING:absl:Importing a function (__inference_BLOCK_1-3_ACT_1_layer_call_and_return_conditional_losses_28018) with ops with unsaved custom gradients. Will likely fail if a gradient is requested.\n",
      "WARNING:absl:Importing a function (__inference_BLOCK_3-2_ACT_2_layer_call_and_return_conditional_losses_30210) with ops with unsaved custom gradients. Will likely fail if a gradient is requested.\n",
      "WARNING:absl:Importing a function (__inference_BLOCK_2-1_ACT_1_layer_call_and_return_conditional_losses_13695) with ops with unsaved custom gradients. Will likely fail if a gradient is requested.\n",
      "WARNING:absl:Importing a function (__inference_BLOCK_4-3_ACT_2_layer_call_and_return_conditional_losses_15507) with ops with unsaved custom gradients. Will likely fail if a gradient is requested.\n",
      "WARNING:absl:Importing a function (__inference_BLOCK_3-2_SE_CONV_1_layer_call_and_return_conditional_losses_14359) with ops with unsaved custom gradients. Will likely fail if a gradient is requested.\n",
      "WARNING:absl:Importing a function (__inference_model_layer_call_and_return_conditional_losses_25336) with ops with unsaved custom gradients. Will likely fail if a gradient is requested.\n",
      "WARNING:absl:Importing a function (__inference_BLOCK_3-1_SE_CONV_1_layer_call_and_return_conditional_losses_29744) with ops with unsaved custom gradients. Will likely fail if a gradient is requested.\n",
      "WARNING:absl:Importing a function (__inference_BLOCK_4-1_ACT_1_layer_call_and_return_conditional_losses_15077) with ops with unsaved custom gradients. Will likely fail if a gradient is requested.\n",
      "WARNING:absl:Importing a function (__inference_basic_5289) with ops with unsaved custom gradients. Will likely fail if a gradient is requested.\n",
      "WARNING:absl:Importing a function (__inference_BLOCK_4-4_ACT_1_layer_call_and_return_conditional_losses_33678) with ops with unsaved custom gradients. Will likely fail if a gradient is requested.\n",
      "WARNING:absl:Importing a function (__inference_BLOCK_4-4_ACT_2_layer_call_and_return_conditional_losses_15705) with ops with unsaved custom gradients. Will likely fail if a gradient is requested.\n",
      "WARNING:absl:Importing a function (__inference_BLOCK_4-4_SE_CONV_1_layer_call_and_return_conditional_losses_33856) with ops with unsaved custom gradients. Will likely fail if a gradient is requested.\n",
      "WARNING:absl:Importing a function (__inference_BLOCK_4-2_SE_CONV_1_layer_call_and_return_conditional_losses_15341) with ops with unsaved custom gradients. Will likely fail if a gradient is requested.\n",
      "WARNING:absl:Importing a function (__inference_BLOCK_1-3_ACT_1_layer_call_and_return_conditional_losses_13593) with ops with unsaved custom gradients. Will likely fail if a gradient is requested.\n",
      "WARNING:absl:Importing a function (__inference_BLOCK_4-3_SE_CONV_1_layer_call_and_return_conditional_losses_15539) with ops with unsaved custom gradients. Will likely fail if a gradient is requested.\n",
      "WARNING:absl:Importing a function (__inference__wrapped_model_7115) with ops with unsaved custom gradients. Will likely fail if a gradient is requested.\n",
      "WARNING:absl:Importing a function (__inference_BLOCK_2-3_ACT_1_layer_call_and_return_conditional_losses_13891) with ops with unsaved custom gradients. Will likely fail if a gradient is requested.\n",
      "WARNING:absl:Importing a function (__inference_BLOCK_4-1_ACT_2_layer_call_and_return_conditional_losses_32278) with ops with unsaved custom gradients. Will likely fail if a gradient is requested.\n",
      "WARNING:absl:Importing a function (__inference_BLOCK_3-5_ACT_1_layer_call_and_return_conditional_losses_14879) with ops with unsaved custom gradients. Will likely fail if a gradient is requested.\n",
      "WARNING:absl:Importing a function (__inference_BLOCK_4-3_ACT_1_layer_call_and_return_conditional_losses_15465) with ops with unsaved custom gradients. Will likely fail if a gradient is requested.\n",
      "WARNING:absl:Importing a function (__inference_BLOCK_3-1_ACT_1_layer_call_and_return_conditional_losses_29566) with ops with unsaved custom gradients. Will likely fail if a gradient is requested.\n",
      "WARNING:absl:Importing a function (__inference_BLOCK_1-2_ACT_1_layer_call_and_return_conditional_losses_27706) with ops with unsaved custom gradients. Will likely fail if a gradient is requested.\n",
      "WARNING:absl:Importing a function (__inference_BLOCK_2-1_ACT_1_layer_call_and_return_conditional_losses_28330) with ops with unsaved custom gradients. Will likely fail if a gradient is requested.\n",
      "WARNING:absl:Importing a function (__inference_BLOCK_4-1_ACT_2_layer_call_and_return_conditional_losses_15119) with ops with unsaved custom gradients. Will likely fail if a gradient is requested.\n",
      "WARNING:absl:Importing a function (__inference_BLOCK_4-3_SE_CONV_1_layer_call_and_return_conditional_losses_33339) with ops with unsaved custom gradients. Will likely fail if a gradient is requested.\n",
      "WARNING:absl:Importing a function (__inference_BLOCK_1-1_ACT_1_layer_call_and_return_conditional_losses_13397) with ops with unsaved custom gradients. Will likely fail if a gradient is requested.\n",
      "WARNING:absl:Importing a function (__inference_BLOCK_4-1_ACT_1_layer_call_and_return_conditional_losses_32139) with ops with unsaved custom gradients. Will likely fail if a gradient is requested.\n",
      "WARNING:absl:Importing a function (__inference_BLOCK_3-2_SE_CONV_1_layer_call_and_return_conditional_losses_30249) with ops with unsaved custom gradients. Will likely fail if a gradient is requested.\n",
      "WARNING:absl:Importing a function (__inference_BLOCK_3-1_ACT_2_layer_call_and_return_conditional_losses_29705) with ops with unsaved custom gradients. Will likely fail if a gradient is requested.\n",
      "WARNING:absl:Importing a function (__inference_BLOCK_3-1_SE_CONV_1_layer_call_and_return_conditional_losses_14169) with ops with unsaved custom gradients. Will likely fail if a gradient is requested.\n",
      "WARNING:absl:Importing a function (__inference_BLOCK_3-5_ACT_2_layer_call_and_return_conditional_losses_31761) with ops with unsaved custom gradients. Will likely fail if a gradient is requested.\n",
      "WARNING:absl:Importing a function (__inference_BLOCK_3-4_ACT_1_layer_call_and_return_conditional_losses_31105) with ops with unsaved custom gradients. Will likely fail if a gradient is requested.\n",
      "WARNING:absl:Importing a function (__inference_BLOCK_2-2_ACT_1_layer_call_and_return_conditional_losses_28630) with ops with unsaved custom gradients. Will likely fail if a gradient is requested.\n",
      "WARNING:absl:Importing a function (__inference_BLOCK_1-1_ACT_1_layer_call_and_return_conditional_losses_27406) with ops with unsaved custom gradients. Will likely fail if a gradient is requested.\n",
      "WARNING:absl:Importing a function (__inference_BLOCK_3-2_ACT_1_layer_call_and_return_conditional_losses_30071) with ops with unsaved custom gradients. Will likely fail if a gradient is requested.\n",
      "WARNING:absl:Importing a function (__inference_BLOCK_3-5_SE_CONV_1_layer_call_and_return_conditional_losses_31800) with ops with unsaved custom gradients. Will likely fail if a gradient is requested.\n",
      "WARNING:absl:Importing a function (__inference_BLOCK_3-3_SE_CONV_1_layer_call_and_return_conditional_losses_14557) with ops with unsaved custom gradients. Will likely fail if a gradient is requested.\n",
      "WARNING:absl:Importing a function (__inference_BLOCK_3-4_SE_CONV_1_layer_call_and_return_conditional_losses_14755) with ops with unsaved custom gradients. Will likely fail if a gradient is requested.\n",
      "WARNING:absl:Importing a function (__inference_BLOCK_3-3_ACT_1_layer_call_and_return_conditional_losses_14483) with ops with unsaved custom gradients. Will likely fail if a gradient is requested.\n",
      "WARNING:absl:Importing a function (__inference_BLOCK_4-4_ACT_1_layer_call_and_return_conditional_losses_15663) with ops with unsaved custom gradients. Will likely fail if a gradient is requested.\n",
      "WARNING:absl:Importing a function (__inference_model_layer_call_and_return_conditional_losses_26662) with ops with unsaved custom gradients. Will likely fail if a gradient is requested.\n",
      "WARNING:absl:Importing a function (__inference_BLOCK_4-2_ACT_1_layer_call_and_return_conditional_losses_32644) with ops with unsaved custom gradients. Will likely fail if a gradient is requested.\n",
      "WARNING:absl:Importing a function (__inference_BLOCK_4-2_ACT_2_layer_call_and_return_conditional_losses_15309) with ops with unsaved custom gradients. Will likely fail if a gradient is requested.\n",
      "WARNING:absl:Importing a function (__inference_BLOCK_3-3_ACT_1_layer_call_and_return_conditional_losses_30588) with ops with unsaved custom gradients. Will likely fail if a gradient is requested.\n",
      "WARNING:absl:Importing a function (__inference_BLOCK_3-2_ACT_1_layer_call_and_return_conditional_losses_14285) with ops with unsaved custom gradients. Will likely fail if a gradient is requested.\n",
      "WARNING:absl:Importing a function (__inference_BLOCK_3-4_ACT_2_layer_call_and_return_conditional_losses_31244) with ops with unsaved custom gradients. Will likely fail if a gradient is requested.\n",
      "WARNING:absl:Importing a function (__inference_BLOCK_4-1_SE_CONV_1_layer_call_and_return_conditional_losses_15151) with ops with unsaved custom gradients. Will likely fail if a gradient is requested.\n",
      "WARNING:absl:Importing a function (__inference_BLOCK_3-5_ACT_1_layer_call_and_return_conditional_losses_31622) with ops with unsaved custom gradients. Will likely fail if a gradient is requested.\n",
      "WARNING:absl:Importing a function (__inference_BLOCK_1-2_ACT_1_layer_call_and_return_conditional_losses_13491) with ops with unsaved custom gradients. Will likely fail if a gradient is requested.\n",
      "WARNING:absl:Importing a function (__inference_BLOCK_2-3_ACT_1_layer_call_and_return_conditional_losses_28942) with ops with unsaved custom gradients. Will likely fail if a gradient is requested.\n",
      "WARNING:absl:Importing a function (__inference_BLOCK_2-4_ACT_1_layer_call_and_return_conditional_losses_29254) with ops with unsaved custom gradients. Will likely fail if a gradient is requested.\n",
      "WARNING:absl:Importing a function (__inference_BLOCK_4-4_ACT_2_layer_call_and_return_conditional_losses_33817) with ops with unsaved custom gradients. Will likely fail if a gradient is requested.\n",
      "WARNING:absl:Importing a function (__inference_BLOCK_4-3_ACT_2_layer_call_and_return_conditional_losses_33300) with ops with unsaved custom gradients. Will likely fail if a gradient is requested.\n",
      "WARNING:absl:Importing a function (__inference_BLOCK_3-3_SE_CONV_1_layer_call_and_return_conditional_losses_30766) with ops with unsaved custom gradients. Will likely fail if a gradient is requested.\n",
      "WARNING:absl:Importing a function (__inference_BLOCK_4-1_SE_CONV_1_layer_call_and_return_conditional_losses_32317) with ops with unsaved custom gradients. Will likely fail if a gradient is requested.\n",
      "WARNING:absl:Importing a function (__inference_BLOCK_3-4_SE_CONV_1_layer_call_and_return_conditional_losses_31283) with ops with unsaved custom gradients. Will likely fail if a gradient is requested.\n",
      "WARNING:absl:Importing a function (__inference_BLOCK_3-5_ACT_2_layer_call_and_return_conditional_losses_14921) with ops with unsaved custom gradients. Will likely fail if a gradient is requested.\n",
      "WARNING:absl:Importing a function (__inference_BLOCK_2-2_ACT_1_layer_call_and_return_conditional_losses_13789) with ops with unsaved custom gradients. Will likely fail if a gradient is requested.\n",
      "WARNING:absl:Importing a function (__inference_BLOCK_3-1_ACT_1_layer_call_and_return_conditional_losses_14095) with ops with unsaved custom gradients. Will likely fail if a gradient is requested.\n",
      "WARNING:absl:Importing a function (__inference_BLOCK_3-1_ACT_2_layer_call_and_return_conditional_losses_14137) with ops with unsaved custom gradients. Will likely fail if a gradient is requested.\n",
      "WARNING:absl:Importing a function (__inference_BLOCK_4-4_SE_CONV_1_layer_call_and_return_conditional_losses_15737) with ops with unsaved custom gradients. Will likely fail if a gradient is requested.\n",
      "WARNING:absl:Importing a function (__inference_BLOCK_4-2_SE_CONV_1_layer_call_and_return_conditional_losses_32822) with ops with unsaved custom gradients. Will likely fail if a gradient is requested.\n"
     ]
    }
   ]
  },
  {
   "cell_type": "code",
   "source": [
    "from tensorflow import keras\n",
    "\n",
    "pb_model = keras.models.load_model(checkpoint_path)\n",
    "pb_model"
   ],
   "metadata": {
    "colab": {
     "base_uri": "https://localhost:8080/"
    },
    "id": "HrzFk0uJJaK7",
    "outputId": "1cbbe17b-4087-4b1f-f191-7267b3330ca5"
   },
   "execution_count": 6,
   "outputs": [
    {
     "output_type": "stream",
     "name": "stderr",
     "text": [
      "WARNING:tensorflow:SavedModel saved prior to TF 2.5 detected when loading Keras model. Please ensure that you are saving the model with model.save() or tf.keras.models.save_model(), *NOT* tf.saved_model.save(). To confirm, there should be a file named \"keras_metadata.pb\" in the SavedModel directory.\n",
      "WARNING:absl:Importing a function (__inference_BLOCK_4-2_ACT_1_layer_call_and_return_conditional_losses_15267) with ops with unsaved custom gradients. Will likely fail if a gradient is requested.\n",
      "WARNING:absl:Importing a function (__inference_BLOCK_4-3_ACT_1_layer_call_and_return_conditional_losses_33161) with ops with unsaved custom gradients. Will likely fail if a gradient is requested.\n",
      "WARNING:absl:Importing a function (__inference_BLOCK_3-3_ACT_2_layer_call_and_return_conditional_losses_14525) with ops with unsaved custom gradients. Will likely fail if a gradient is requested.\n",
      "WARNING:absl:Importing a function (__inference_BLOCK_3-4_ACT_1_layer_call_and_return_conditional_losses_14681) with ops with unsaved custom gradients. Will likely fail if a gradient is requested.\n",
      "WARNING:absl:Importing a function (__inference_BLOCK_3-4_ACT_2_layer_call_and_return_conditional_losses_14723) with ops with unsaved custom gradients. Will likely fail if a gradient is requested.\n",
      "WARNING:absl:Importing a function (__inference_BLOCK_3-2_ACT_2_layer_call_and_return_conditional_losses_14327) with ops with unsaved custom gradients. Will likely fail if a gradient is requested.\n",
      "WARNING:absl:Importing a function (__inference_BLOCK_4-2_ACT_2_layer_call_and_return_conditional_losses_32783) with ops with unsaved custom gradients. Will likely fail if a gradient is requested.\n",
      "WARNING:absl:Importing a function (__inference_BLOCK_2-4_ACT_1_layer_call_and_return_conditional_losses_13993) with ops with unsaved custom gradients. Will likely fail if a gradient is requested.\n",
      "WARNING:absl:Importing a function (__inference_BLOCK_3-3_ACT_2_layer_call_and_return_conditional_losses_30727) with ops with unsaved custom gradients. Will likely fail if a gradient is requested.\n",
      "WARNING:absl:Importing a function (__inference_BLOCK_3-5_SE_CONV_1_layer_call_and_return_conditional_losses_14953) with ops with unsaved custom gradients. Will likely fail if a gradient is requested.\n",
      "WARNING:absl:Importing a function (__inference_BLOCK_1-3_ACT_1_layer_call_and_return_conditional_losses_28018) with ops with unsaved custom gradients. Will likely fail if a gradient is requested.\n",
      "WARNING:absl:Importing a function (__inference_BLOCK_3-2_ACT_2_layer_call_and_return_conditional_losses_30210) with ops with unsaved custom gradients. Will likely fail if a gradient is requested.\n",
      "WARNING:absl:Importing a function (__inference_BLOCK_2-1_ACT_1_layer_call_and_return_conditional_losses_13695) with ops with unsaved custom gradients. Will likely fail if a gradient is requested.\n",
      "WARNING:absl:Importing a function (__inference_BLOCK_4-3_ACT_2_layer_call_and_return_conditional_losses_15507) with ops with unsaved custom gradients. Will likely fail if a gradient is requested.\n",
      "WARNING:absl:Importing a function (__inference_BLOCK_3-2_SE_CONV_1_layer_call_and_return_conditional_losses_14359) with ops with unsaved custom gradients. Will likely fail if a gradient is requested.\n",
      "WARNING:absl:Importing a function (__inference_model_layer_call_and_return_conditional_losses_25336) with ops with unsaved custom gradients. Will likely fail if a gradient is requested.\n",
      "WARNING:absl:Importing a function (__inference_BLOCK_3-1_SE_CONV_1_layer_call_and_return_conditional_losses_29744) with ops with unsaved custom gradients. Will likely fail if a gradient is requested.\n",
      "WARNING:absl:Importing a function (__inference_BLOCK_4-1_ACT_1_layer_call_and_return_conditional_losses_15077) with ops with unsaved custom gradients. Will likely fail if a gradient is requested.\n",
      "WARNING:absl:Importing a function (__inference_basic_5289) with ops with unsaved custom gradients. Will likely fail if a gradient is requested.\n",
      "WARNING:absl:Importing a function (__inference_BLOCK_4-4_ACT_1_layer_call_and_return_conditional_losses_33678) with ops with unsaved custom gradients. Will likely fail if a gradient is requested.\n",
      "WARNING:absl:Importing a function (__inference_BLOCK_4-4_ACT_2_layer_call_and_return_conditional_losses_15705) with ops with unsaved custom gradients. Will likely fail if a gradient is requested.\n",
      "WARNING:absl:Importing a function (__inference_BLOCK_4-4_SE_CONV_1_layer_call_and_return_conditional_losses_33856) with ops with unsaved custom gradients. Will likely fail if a gradient is requested.\n",
      "WARNING:absl:Importing a function (__inference_BLOCK_4-2_SE_CONV_1_layer_call_and_return_conditional_losses_15341) with ops with unsaved custom gradients. Will likely fail if a gradient is requested.\n",
      "WARNING:absl:Importing a function (__inference_BLOCK_1-3_ACT_1_layer_call_and_return_conditional_losses_13593) with ops with unsaved custom gradients. Will likely fail if a gradient is requested.\n",
      "WARNING:absl:Importing a function (__inference_BLOCK_4-3_SE_CONV_1_layer_call_and_return_conditional_losses_15539) with ops with unsaved custom gradients. Will likely fail if a gradient is requested.\n",
      "WARNING:absl:Importing a function (__inference__wrapped_model_7115) with ops with unsaved custom gradients. Will likely fail if a gradient is requested.\n",
      "WARNING:absl:Importing a function (__inference_BLOCK_2-3_ACT_1_layer_call_and_return_conditional_losses_13891) with ops with unsaved custom gradients. Will likely fail if a gradient is requested.\n",
      "WARNING:absl:Importing a function (__inference_BLOCK_4-1_ACT_2_layer_call_and_return_conditional_losses_32278) with ops with unsaved custom gradients. Will likely fail if a gradient is requested.\n",
      "WARNING:absl:Importing a function (__inference_BLOCK_3-5_ACT_1_layer_call_and_return_conditional_losses_14879) with ops with unsaved custom gradients. Will likely fail if a gradient is requested.\n",
      "WARNING:absl:Importing a function (__inference_BLOCK_4-3_ACT_1_layer_call_and_return_conditional_losses_15465) with ops with unsaved custom gradients. Will likely fail if a gradient is requested.\n",
      "WARNING:absl:Importing a function (__inference_BLOCK_3-1_ACT_1_layer_call_and_return_conditional_losses_29566) with ops with unsaved custom gradients. Will likely fail if a gradient is requested.\n",
      "WARNING:absl:Importing a function (__inference_BLOCK_1-2_ACT_1_layer_call_and_return_conditional_losses_27706) with ops with unsaved custom gradients. Will likely fail if a gradient is requested.\n",
      "WARNING:absl:Importing a function (__inference_BLOCK_2-1_ACT_1_layer_call_and_return_conditional_losses_28330) with ops with unsaved custom gradients. Will likely fail if a gradient is requested.\n",
      "WARNING:absl:Importing a function (__inference_BLOCK_4-1_ACT_2_layer_call_and_return_conditional_losses_15119) with ops with unsaved custom gradients. Will likely fail if a gradient is requested.\n",
      "WARNING:absl:Importing a function (__inference_BLOCK_4-3_SE_CONV_1_layer_call_and_return_conditional_losses_33339) with ops with unsaved custom gradients. Will likely fail if a gradient is requested.\n",
      "WARNING:absl:Importing a function (__inference_BLOCK_1-1_ACT_1_layer_call_and_return_conditional_losses_13397) with ops with unsaved custom gradients. Will likely fail if a gradient is requested.\n",
      "WARNING:absl:Importing a function (__inference_BLOCK_4-1_ACT_1_layer_call_and_return_conditional_losses_32139) with ops with unsaved custom gradients. Will likely fail if a gradient is requested.\n",
      "WARNING:absl:Importing a function (__inference_BLOCK_3-2_SE_CONV_1_layer_call_and_return_conditional_losses_30249) with ops with unsaved custom gradients. Will likely fail if a gradient is requested.\n",
      "WARNING:absl:Importing a function (__inference_BLOCK_3-1_ACT_2_layer_call_and_return_conditional_losses_29705) with ops with unsaved custom gradients. Will likely fail if a gradient is requested.\n",
      "WARNING:absl:Importing a function (__inference_BLOCK_3-1_SE_CONV_1_layer_call_and_return_conditional_losses_14169) with ops with unsaved custom gradients. Will likely fail if a gradient is requested.\n",
      "WARNING:absl:Importing a function (__inference_BLOCK_3-5_ACT_2_layer_call_and_return_conditional_losses_31761) with ops with unsaved custom gradients. Will likely fail if a gradient is requested.\n",
      "WARNING:absl:Importing a function (__inference_BLOCK_3-4_ACT_1_layer_call_and_return_conditional_losses_31105) with ops with unsaved custom gradients. Will likely fail if a gradient is requested.\n",
      "WARNING:absl:Importing a function (__inference_BLOCK_2-2_ACT_1_layer_call_and_return_conditional_losses_28630) with ops with unsaved custom gradients. Will likely fail if a gradient is requested.\n",
      "WARNING:absl:Importing a function (__inference_BLOCK_1-1_ACT_1_layer_call_and_return_conditional_losses_27406) with ops with unsaved custom gradients. Will likely fail if a gradient is requested.\n",
      "WARNING:absl:Importing a function (__inference_BLOCK_3-2_ACT_1_layer_call_and_return_conditional_losses_30071) with ops with unsaved custom gradients. Will likely fail if a gradient is requested.\n",
      "WARNING:absl:Importing a function (__inference_BLOCK_3-5_SE_CONV_1_layer_call_and_return_conditional_losses_31800) with ops with unsaved custom gradients. Will likely fail if a gradient is requested.\n",
      "WARNING:absl:Importing a function (__inference_BLOCK_3-3_SE_CONV_1_layer_call_and_return_conditional_losses_14557) with ops with unsaved custom gradients. Will likely fail if a gradient is requested.\n",
      "WARNING:absl:Importing a function (__inference_BLOCK_3-4_SE_CONV_1_layer_call_and_return_conditional_losses_14755) with ops with unsaved custom gradients. Will likely fail if a gradient is requested.\n",
      "WARNING:absl:Importing a function (__inference_BLOCK_3-3_ACT_1_layer_call_and_return_conditional_losses_14483) with ops with unsaved custom gradients. Will likely fail if a gradient is requested.\n",
      "WARNING:absl:Importing a function (__inference_BLOCK_4-4_ACT_1_layer_call_and_return_conditional_losses_15663) with ops with unsaved custom gradients. Will likely fail if a gradient is requested.\n",
      "WARNING:absl:Importing a function (__inference_model_layer_call_and_return_conditional_losses_26662) with ops with unsaved custom gradients. Will likely fail if a gradient is requested.\n",
      "WARNING:absl:Importing a function (__inference_BLOCK_4-2_ACT_1_layer_call_and_return_conditional_losses_32644) with ops with unsaved custom gradients. Will likely fail if a gradient is requested.\n",
      "WARNING:absl:Importing a function (__inference_BLOCK_4-2_ACT_2_layer_call_and_return_conditional_losses_15309) with ops with unsaved custom gradients. Will likely fail if a gradient is requested.\n",
      "WARNING:absl:Importing a function (__inference_BLOCK_3-3_ACT_1_layer_call_and_return_conditional_losses_30588) with ops with unsaved custom gradients. Will likely fail if a gradient is requested.\n",
      "WARNING:absl:Importing a function (__inference_BLOCK_3-2_ACT_1_layer_call_and_return_conditional_losses_14285) with ops with unsaved custom gradients. Will likely fail if a gradient is requested.\n",
      "WARNING:absl:Importing a function (__inference_BLOCK_3-4_ACT_2_layer_call_and_return_conditional_losses_31244) with ops with unsaved custom gradients. Will likely fail if a gradient is requested.\n",
      "WARNING:absl:Importing a function (__inference_BLOCK_4-1_SE_CONV_1_layer_call_and_return_conditional_losses_15151) with ops with unsaved custom gradients. Will likely fail if a gradient is requested.\n",
      "WARNING:absl:Importing a function (__inference_BLOCK_3-5_ACT_1_layer_call_and_return_conditional_losses_31622) with ops with unsaved custom gradients. Will likely fail if a gradient is requested.\n",
      "WARNING:absl:Importing a function (__inference_BLOCK_1-2_ACT_1_layer_call_and_return_conditional_losses_13491) with ops with unsaved custom gradients. Will likely fail if a gradient is requested.\n",
      "WARNING:absl:Importing a function (__inference_BLOCK_2-3_ACT_1_layer_call_and_return_conditional_losses_28942) with ops with unsaved custom gradients. Will likely fail if a gradient is requested.\n",
      "WARNING:absl:Importing a function (__inference_BLOCK_2-4_ACT_1_layer_call_and_return_conditional_losses_29254) with ops with unsaved custom gradients. Will likely fail if a gradient is requested.\n",
      "WARNING:absl:Importing a function (__inference_BLOCK_4-4_ACT_2_layer_call_and_return_conditional_losses_33817) with ops with unsaved custom gradients. Will likely fail if a gradient is requested.\n",
      "WARNING:absl:Importing a function (__inference_BLOCK_4-3_ACT_2_layer_call_and_return_conditional_losses_33300) with ops with unsaved custom gradients. Will likely fail if a gradient is requested.\n",
      "WARNING:absl:Importing a function (__inference_BLOCK_3-3_SE_CONV_1_layer_call_and_return_conditional_losses_30766) with ops with unsaved custom gradients. Will likely fail if a gradient is requested.\n",
      "WARNING:absl:Importing a function (__inference_BLOCK_4-1_SE_CONV_1_layer_call_and_return_conditional_losses_32317) with ops with unsaved custom gradients. Will likely fail if a gradient is requested.\n",
      "WARNING:absl:Importing a function (__inference_BLOCK_3-4_SE_CONV_1_layer_call_and_return_conditional_losses_31283) with ops with unsaved custom gradients. Will likely fail if a gradient is requested.\n",
      "WARNING:absl:Importing a function (__inference_BLOCK_3-5_ACT_2_layer_call_and_return_conditional_losses_14921) with ops with unsaved custom gradients. Will likely fail if a gradient is requested.\n",
      "WARNING:absl:Importing a function (__inference_BLOCK_2-2_ACT_1_layer_call_and_return_conditional_losses_13789) with ops with unsaved custom gradients. Will likely fail if a gradient is requested.\n",
      "WARNING:absl:Importing a function (__inference_BLOCK_3-1_ACT_1_layer_call_and_return_conditional_losses_14095) with ops with unsaved custom gradients. Will likely fail if a gradient is requested.\n",
      "WARNING:absl:Importing a function (__inference_BLOCK_3-1_ACT_2_layer_call_and_return_conditional_losses_14137) with ops with unsaved custom gradients. Will likely fail if a gradient is requested.\n",
      "WARNING:absl:Importing a function (__inference_BLOCK_4-4_SE_CONV_1_layer_call_and_return_conditional_losses_15737) with ops with unsaved custom gradients. Will likely fail if a gradient is requested.\n",
      "WARNING:absl:Importing a function (__inference_BLOCK_4-2_SE_CONV_1_layer_call_and_return_conditional_losses_32822) with ops with unsaved custom gradients. Will likely fail if a gradient is requested.\n"
     ]
    },
    {
     "output_type": "execute_result",
     "data": {
      "text/plain": [
       "<tensorflow.python.saved_model.load.Loader._recreate_base_user_object.<locals>._UserObject at 0x7fb3ee853d10>"
      ]
     },
     "metadata": {},
     "execution_count": 6
    }
   ]
  },
  {
   "cell_type": "code",
   "source": [
    "import numpy as np\n",
    "\n",
    "\n",
    "input_shape = pb_model.model.layers[0].get_config()[\"batch_input_shape\"][1]\n",
    "sample = np.random.rand(1, input_shape)\n",
    "\n",
    "z = pb_model.model.predict(sample)\n",
    "z.shape"
   ],
   "metadata": {
    "colab": {
     "base_uri": "https://localhost:8080/"
    },
    "id": "5W-u-YRuJbSQ",
    "outputId": "f87236d5-4aaf-48db-b7a0-3fb3aee28a4c"
   },
   "execution_count": 13,
   "outputs": [
    {
     "output_type": "stream",
     "name": "stdout",
     "text": [
      "1/1 [==============================] - 0s 230ms/step\n"
     ]
    },
    {
     "output_type": "execute_result",
     "data": {
      "text/plain": [
       "(1, 3337)"
      ]
     },
     "metadata": {},
     "execution_count": 13
    }
   ]
  },
  {
   "cell_type": "markdown",
   "source": [
    "- https://stackoverflow.com/questions/41711190/keras-how-to-get-the-output-of-each-layer/41712013\n",
    "- https://stackoverflow.com/questions/52444175/get-the-before-last-feature-of-network-for-embedding-is-not-working"
   ],
   "metadata": {
    "id": "RwKhq7BOK1WG"
   }
  },
  {
   "cell_type": "code",
   "source": [
    "[layer.name for layer in pb_model.model.layers]"
   ],
   "metadata": {
    "colab": {
     "base_uri": "https://localhost:8080/"
    },
    "id": "SnIMMaDlK-OD",
    "outputId": "dd86ee3b-d69f-474d-a2c4-59cad0fdf66e"
   },
   "execution_count": 32,
   "outputs": [
    {
     "output_type": "execute_result",
     "data": {
      "text/plain": [
       "['INPUT',\n",
       " 'ADVANCED_SPEC1',\n",
       " 'BNORM_SPEC_NOQUANT',\n",
       " 'CONV_0',\n",
       " 'BNORM_0',\n",
       " 'ACT_0',\n",
       " 'pool_0_MAX',\n",
       " 'pool_0_AVG',\n",
       " 'pool_0_CONCAT',\n",
       " 'pool_0_ACT_QUANT',\n",
       " 'pool_0_CONV',\n",
       " 'BLOCK_1-1_CONV_1',\n",
       " 'BLOCK_1-1_BN_1',\n",
       " 'BLOCK_1-1_ACT_1',\n",
       " 'BLOCK_1-1_ACT_QUANT',\n",
       " 'BLOCK_1-1_CONV_3',\n",
       " 'BLOCK_1-1_BN_3',\n",
       " 'BLOCK_1-2_CONV_1',\n",
       " 'BLOCK_1-2_BN_1',\n",
       " 'BLOCK_1-2_ACT_1',\n",
       " 'BLOCK_1-2_ACT_QUANT',\n",
       " 'BLOCK_1-2_CONV_3',\n",
       " 'BLOCK_1-2_BN_3',\n",
       " 'BLOCK_1-2_ADD',\n",
       " 'BLOCK_1-3_CONV_1',\n",
       " 'BLOCK_1-3_BN_1',\n",
       " 'BLOCK_1-3_ACT_1',\n",
       " 'BLOCK_1-3_ACT_QUANT',\n",
       " 'BLOCK_1-3_CONV_3',\n",
       " 'BLOCK_1-3_BN_3',\n",
       " 'BLOCK_1-3_ADD',\n",
       " 'BLOCK_2-1_CONV_1',\n",
       " 'BLOCK_2-1_BN_1',\n",
       " 'BLOCK_2-1_ACT_1',\n",
       " 'BLOCK_2-1_ACT_QUANT',\n",
       " 'BLOCK_2-1_CONV_3',\n",
       " 'BLOCK_2-1_BN_3',\n",
       " 'BLOCK_2-2_CONV_1',\n",
       " 'BLOCK_2-2_BN_1',\n",
       " 'BLOCK_2-2_ACT_1',\n",
       " 'BLOCK_2-2_ACT_QUANT',\n",
       " 'BLOCK_2-2_CONV_3',\n",
       " 'BLOCK_2-2_BN_3',\n",
       " 'BLOCK_2-2_ADD',\n",
       " 'BLOCK_2-3_CONV_1',\n",
       " 'BLOCK_2-3_BN_1',\n",
       " 'BLOCK_2-3_ACT_1',\n",
       " 'BLOCK_2-3_ACT_QUANT',\n",
       " 'BLOCK_2-3_CONV_3',\n",
       " 'BLOCK_2-3_BN_3',\n",
       " 'BLOCK_2-3_ADD',\n",
       " 'BLOCK_2-4_CONV_1',\n",
       " 'BLOCK_2-4_BN_1',\n",
       " 'BLOCK_2-4_ACT_1',\n",
       " 'BLOCK_2-4_ACT_QUANT',\n",
       " 'BLOCK_2-4_CONV_3',\n",
       " 'BLOCK_2-4_BN_3',\n",
       " 'BLOCK_2-4_ADD',\n",
       " 'BLOCK_3-1_CONV_1',\n",
       " 'BLOCK_3-1_BN_1',\n",
       " 'BLOCK_3-1_ACT_1',\n",
       " 'BLOCK_3-1_CONV_2',\n",
       " 'BLOCK_3-1_BN_2_NOQUANT',\n",
       " 'BLOCK_3-1_ACT_2',\n",
       " 'BLOCK_3-1_SE_AVG_POOL_1',\n",
       " 'BLOCK_3-1_SE_RESHAPE',\n",
       " 'BLOCK_3-1_SE_CONV_1',\n",
       " 'BLOCK_3-1_SE_CONV_2',\n",
       " 'BLOCK_3-1_MULTIPLY',\n",
       " 'BLOCK_3-1_ACT_QUANT',\n",
       " 'BLOCK_3-1_CONV_3',\n",
       " 'BLOCK_3-1_BN_3',\n",
       " 'BLOCK_3-2_CONV_1',\n",
       " 'BLOCK_3-2_BN_1',\n",
       " 'BLOCK_3-2_ACT_1',\n",
       " 'BLOCK_3-2_CONV_2',\n",
       " 'BLOCK_3-2_BN_2_NOQUANT',\n",
       " 'BLOCK_3-2_ACT_2',\n",
       " 'BLOCK_3-2_SE_AVG_POOL_1',\n",
       " 'BLOCK_3-2_SE_RESHAPE',\n",
       " 'BLOCK_3-2_SE_CONV_1',\n",
       " 'BLOCK_3-2_SE_CONV_2',\n",
       " 'BLOCK_3-2_MULTIPLY',\n",
       " 'BLOCK_3-2_ACT_QUANT',\n",
       " 'BLOCK_3-2_CONV_3',\n",
       " 'BLOCK_3-2_BN_3',\n",
       " 'BLOCK_3-2_ADD',\n",
       " 'BLOCK_3-3_CONV_1',\n",
       " 'BLOCK_3-3_BN_1',\n",
       " 'BLOCK_3-3_ACT_1',\n",
       " 'BLOCK_3-3_CONV_2',\n",
       " 'BLOCK_3-3_BN_2_NOQUANT',\n",
       " 'BLOCK_3-3_ACT_2',\n",
       " 'BLOCK_3-3_SE_AVG_POOL_1',\n",
       " 'BLOCK_3-3_SE_RESHAPE',\n",
       " 'BLOCK_3-3_SE_CONV_1',\n",
       " 'BLOCK_3-3_SE_CONV_2',\n",
       " 'BLOCK_3-3_MULTIPLY',\n",
       " 'BLOCK_3-3_ACT_QUANT',\n",
       " 'BLOCK_3-3_CONV_3',\n",
       " 'BLOCK_3-3_BN_3',\n",
       " 'BLOCK_3-3_ADD',\n",
       " 'BLOCK_3-4_CONV_1',\n",
       " 'BLOCK_3-4_BN_1',\n",
       " 'BLOCK_3-4_ACT_1',\n",
       " 'BLOCK_3-4_CONV_2',\n",
       " 'BLOCK_3-4_BN_2_NOQUANT',\n",
       " 'BLOCK_3-4_ACT_2',\n",
       " 'BLOCK_3-4_SE_AVG_POOL_1',\n",
       " 'BLOCK_3-4_SE_RESHAPE',\n",
       " 'BLOCK_3-4_SE_CONV_1',\n",
       " 'BLOCK_3-4_SE_CONV_2',\n",
       " 'BLOCK_3-4_MULTIPLY',\n",
       " 'BLOCK_3-4_ACT_QUANT',\n",
       " 'BLOCK_3-4_CONV_3',\n",
       " 'BLOCK_3-4_BN_3',\n",
       " 'BLOCK_3-4_ADD',\n",
       " 'BLOCK_3-5_CONV_1',\n",
       " 'BLOCK_3-5_BN_1',\n",
       " 'BLOCK_3-5_ACT_1',\n",
       " 'BLOCK_3-5_CONV_2',\n",
       " 'BLOCK_3-5_BN_2_NOQUANT',\n",
       " 'BLOCK_3-5_ACT_2',\n",
       " 'BLOCK_3-5_SE_AVG_POOL_1',\n",
       " 'BLOCK_3-5_SE_RESHAPE',\n",
       " 'BLOCK_3-5_SE_CONV_1',\n",
       " 'BLOCK_3-5_SE_CONV_2',\n",
       " 'BLOCK_3-5_MULTIPLY',\n",
       " 'BLOCK_3-5_ACT_QUANT',\n",
       " 'BLOCK_3-5_CONV_3',\n",
       " 'BLOCK_3-5_BN_3',\n",
       " 'BLOCK_3-5_ADD',\n",
       " 'BLOCK_4-1_CONV_1',\n",
       " 'BLOCK_4-1_BN_1',\n",
       " 'BLOCK_4-1_ACT_1',\n",
       " 'BLOCK_4-1_CONV_2',\n",
       " 'BLOCK_4-1_BN_2_NOQUANT',\n",
       " 'BLOCK_4-1_ACT_2',\n",
       " 'BLOCK_4-1_SE_AVG_POOL_1',\n",
       " 'BLOCK_4-1_SE_RESHAPE',\n",
       " 'BLOCK_4-1_SE_CONV_1',\n",
       " 'BLOCK_4-1_SE_CONV_2',\n",
       " 'BLOCK_4-1_MULTIPLY',\n",
       " 'BLOCK_4-1_ACT_QUANT',\n",
       " 'BLOCK_4-1_CONV_3',\n",
       " 'BLOCK_4-1_BN_3',\n",
       " 'BLOCK_4-2_CONV_1',\n",
       " 'BLOCK_4-2_BN_1',\n",
       " 'BLOCK_4-2_ACT_1',\n",
       " 'BLOCK_4-2_CONV_2',\n",
       " 'BLOCK_4-2_BN_2_NOQUANT',\n",
       " 'BLOCK_4-2_ACT_2',\n",
       " 'BLOCK_4-2_SE_AVG_POOL_1',\n",
       " 'BLOCK_4-2_SE_RESHAPE',\n",
       " 'BLOCK_4-2_SE_CONV_1',\n",
       " 'BLOCK_4-2_SE_CONV_2',\n",
       " 'BLOCK_4-2_MULTIPLY',\n",
       " 'BLOCK_4-2_ACT_QUANT',\n",
       " 'BLOCK_4-2_CONV_3',\n",
       " 'BLOCK_4-2_BN_3',\n",
       " 'BLOCK_4-2_ADD',\n",
       " 'BLOCK_4-3_CONV_1',\n",
       " 'BLOCK_4-3_BN_1',\n",
       " 'BLOCK_4-3_ACT_1',\n",
       " 'BLOCK_4-3_CONV_2',\n",
       " 'BLOCK_4-3_BN_2_NOQUANT',\n",
       " 'BLOCK_4-3_ACT_2',\n",
       " 'BLOCK_4-3_SE_AVG_POOL_1',\n",
       " 'BLOCK_4-3_SE_RESHAPE',\n",
       " 'BLOCK_4-3_SE_CONV_1',\n",
       " 'BLOCK_4-3_SE_CONV_2',\n",
       " 'BLOCK_4-3_MULTIPLY',\n",
       " 'BLOCK_4-3_ACT_QUANT',\n",
       " 'BLOCK_4-3_CONV_3',\n",
       " 'BLOCK_4-3_BN_3',\n",
       " 'BLOCK_4-3_ADD',\n",
       " 'BLOCK_4-4_CONV_1',\n",
       " 'BLOCK_4-4_BN_1',\n",
       " 'BLOCK_4-4_ACT_1',\n",
       " 'BLOCK_4-4_CONV_2',\n",
       " 'BLOCK_4-4_BN_2_NOQUANT',\n",
       " 'BLOCK_4-4_ACT_2',\n",
       " 'BLOCK_4-4_SE_AVG_POOL_1',\n",
       " 'BLOCK_4-4_SE_RESHAPE',\n",
       " 'BLOCK_4-4_SE_CONV_1',\n",
       " 'BLOCK_4-4_SE_CONV_2',\n",
       " 'BLOCK_4-4_MULTIPLY',\n",
       " 'BLOCK_4-4_ACT_QUANT',\n",
       " 'BLOCK_4-4_CONV_3',\n",
       " 'BLOCK_4-4_BN_3',\n",
       " 'BLOCK_4-4_ADD',\n",
       " 'BNORM_POST_NOQUANT',\n",
       " 'ACT_POST',\n",
       " 'POST_CONV_1',\n",
       " 'POST_BN_1',\n",
       " 'POST_ACT_1',\n",
       " 'GLOBAL_AVG_POOL',\n",
       " 'CLASS_DENSE_1']"
      ]
     },
     "metadata": {},
     "execution_count": 32
    }
   ]
  },
  {
   "cell_type": "code",
   "source": [
    "from keras.models import Model\n",
    "\n",
    "emb_model = Model(\n",
    "    inputs=pb_model.model.input,\n",
    "    outputs=[pb_model.model.get_layer(\"GLOBAL_AVG_POOL\").output],\n",
    ")\n",
    "\n",
    "z = emb_model.predict(sample)\n",
    "z.shape"
   ],
   "metadata": {
    "colab": {
     "base_uri": "https://localhost:8080/"
    },
    "id": "3DDP9FTOKftD",
    "outputId": "e6252ed5-5c53-4693-e56a-4be9baa54836"
   },
   "execution_count": 37,
   "outputs": [
    {
     "output_type": "stream",
     "name": "stdout",
     "text": [
      "1/1 [==============================] - 2s 2s/step\n"
     ]
    },
    {
     "output_type": "execute_result",
     "data": {
      "text/plain": [
       "(1, 320)"
      ]
     },
     "metadata": {},
     "execution_count": 37
    }
   ]
  }
 ]
}
