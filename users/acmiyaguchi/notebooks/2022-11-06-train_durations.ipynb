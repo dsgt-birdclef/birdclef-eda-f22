{
 "cells": [
  {
   "cell_type": "markdown",
   "metadata": {},
   "source": [
    "# Using train_durations.parquet"
   ]
  },
  {
   "cell_type": "code",
   "execution_count": 1,
   "metadata": {},
   "outputs": [
    {
     "data": {
      "text/html": [
       "<div>\n",
       "<style scoped>\n",
       "    .dataframe tbody tr th:only-of-type {\n",
       "        vertical-align: middle;\n",
       "    }\n",
       "\n",
       "    .dataframe tbody tr th {\n",
       "        vertical-align: top;\n",
       "    }\n",
       "\n",
       "    .dataframe thead th {\n",
       "        text-align: right;\n",
       "    }\n",
       "</style>\n",
       "<table border=\"1\" class=\"dataframe\">\n",
       "  <thead>\n",
       "    <tr style=\"text-align: right;\">\n",
       "      <th></th>\n",
       "      <th>filename</th>\n",
       "      <th>duration</th>\n",
       "    </tr>\n",
       "  </thead>\n",
       "  <tbody>\n",
       "    <tr>\n",
       "      <th>0</th>\n",
       "      <td>afrsil1/XC125458.ogg</td>\n",
       "      <td>11.102041</td>\n",
       "    </tr>\n",
       "    <tr>\n",
       "      <th>1</th>\n",
       "      <td>afrsil1/XC175522.ogg</td>\n",
       "      <td>47.020408</td>\n",
       "    </tr>\n",
       "    <tr>\n",
       "      <th>2</th>\n",
       "      <td>afrsil1/XC177993.ogg</td>\n",
       "      <td>53.760000</td>\n",
       "    </tr>\n",
       "    <tr>\n",
       "      <th>3</th>\n",
       "      <td>afrsil1/XC205893.ogg</td>\n",
       "      <td>105.482449</td>\n",
       "    </tr>\n",
       "    <tr>\n",
       "      <th>4</th>\n",
       "      <td>afrsil1/XC207431.ogg</td>\n",
       "      <td>3.395918</td>\n",
       "    </tr>\n",
       "  </tbody>\n",
       "</table>\n",
       "</div>"
      ],
      "text/plain": [
       "               filename    duration\n",
       "0  afrsil1/XC125458.ogg   11.102041\n",
       "1  afrsil1/XC175522.ogg   47.020408\n",
       "2  afrsil1/XC177993.ogg   53.760000\n",
       "3  afrsil1/XC205893.ogg  105.482449\n",
       "4  afrsil1/XC207431.ogg    3.395918"
      ]
     },
     "execution_count": 1,
     "metadata": {},
     "output_type": "execute_result"
    }
   ],
   "source": [
    "import pandas as pd\n",
    "import numpy as np\n",
    "import matplotlib.pyplot as plt\n",
    "\n",
    "df = pd.read_parquet(\n",
    "    \"https://storage.googleapis.com/birdclef-eda-f22/data/processed/train_durations.parquet\"\n",
    ")\n",
    "df.head()"
   ]
  },
  {
   "cell_type": "code",
   "execution_count": 2,
   "metadata": {},
   "outputs": [
    {
     "name": "stdout",
     "output_type": "stream",
     "text": [
      "190.56 hours of audio\n"
     ]
    }
   ],
   "source": [
    "print(f\"{df.duration.sum()/3600:.2f} hours of audio\")"
   ]
  },
  {
   "cell_type": "markdown",
   "metadata": {},
   "source": [
    "## distribution of durations\n",
    "\n",
    "It's usually interesting to plot datasets on a log scale. We often see power-scaling on natural phenomena (e.g. letter distributions). Here, we get something that looks log-normal."
   ]
  },
  {
   "cell_type": "code",
   "execution_count": 3,
   "metadata": {},
   "outputs": [
    {
     "data": {
      "image/png": "[encoded data removed]",
      "text/plain": [
       "<Figure size 640x480 with 1 Axes>"
      ]
     },
     "metadata": {},
     "output_type": "display_data"
    }
   ],
   "source": [
    "X = df.duration.apply(np.log)\n",
    "plt.hist(X, bins=100)\n",
    "plt.xlabel(\"duration (log seconds)\")\n",
    "plt.ylabel(\"log count\")\n",
    "plt.title(\"Distribution of audio durations in log seconds\")\n",
    "plt.show()"
   ]
  },
  {
   "cell_type": "markdown",
   "metadata": {},
   "source": [
    "## merging durations with metadata\n",
    "\n",
    "The `train_metadata` dataset is missing durations, so here's a reference on how to join the two together."
   ]
  },
  {
   "cell_type": "code",
   "execution_count": 4,
   "metadata": {},
   "outputs": [
    {
     "data": {
      "text/html": [
       "<div>\n",
       "<style scoped>\n",
       "    .dataframe tbody tr th:only-of-type {\n",
       "        vertical-align: middle;\n",
       "    }\n",
       "\n",
       "    .dataframe tbody tr th {\n",
       "        vertical-align: top;\n",
       "    }\n",
       "\n",
       "    .dataframe thead th {\n",
       "        text-align: right;\n",
       "    }\n",
       "</style>\n",
       "<table border=\"1\" class=\"dataframe\">\n",
       "  <thead>\n",
       "    <tr style=\"text-align: right;\">\n",
       "      <th></th>\n",
       "      <th>filename</th>\n",
       "      <th>duration</th>\n",
       "      <th>primary_label</th>\n",
       "      <th>secondary_labels</th>\n",
       "      <th>type</th>\n",
       "    </tr>\n",
       "  </thead>\n",
       "  <tbody>\n",
       "    <tr>\n",
       "      <th>0</th>\n",
       "      <td>afrsil1/XC125458.ogg</td>\n",
       "      <td>11.102041</td>\n",
       "      <td>afrsil1</td>\n",
       "      <td>[]</td>\n",
       "      <td>['call', 'flight call']</td>\n",
       "    </tr>\n",
       "    <tr>\n",
       "      <th>1</th>\n",
       "      <td>afrsil1/XC175522.ogg</td>\n",
       "      <td>47.020408</td>\n",
       "      <td>afrsil1</td>\n",
       "      <td>['houspa', 'redava', 'zebdov']</td>\n",
       "      <td>['call']</td>\n",
       "    </tr>\n",
       "    <tr>\n",
       "      <th>2</th>\n",
       "      <td>afrsil1/XC177993.ogg</td>\n",
       "      <td>53.760000</td>\n",
       "      <td>afrsil1</td>\n",
       "      <td>[]</td>\n",
       "      <td>['call', 'song']</td>\n",
       "    </tr>\n",
       "    <tr>\n",
       "      <th>3</th>\n",
       "      <td>afrsil1/XC205893.ogg</td>\n",
       "      <td>105.482449</td>\n",
       "      <td>afrsil1</td>\n",
       "      <td>[]</td>\n",
       "      <td>['alarm call', 'call']</td>\n",
       "    </tr>\n",
       "    <tr>\n",
       "      <th>4</th>\n",
       "      <td>afrsil1/XC207431.ogg</td>\n",
       "      <td>3.395918</td>\n",
       "      <td>afrsil1</td>\n",
       "      <td>[]</td>\n",
       "      <td>['flight call']</td>\n",
       "    </tr>\n",
       "  </tbody>\n",
       "</table>\n",
       "</div>"
      ],
      "text/plain": [
       "               filename    duration primary_label  \\\n",
       "0  afrsil1/XC125458.ogg   11.102041       afrsil1   \n",
       "1  afrsil1/XC175522.ogg   47.020408       afrsil1   \n",
       "2  afrsil1/XC177993.ogg   53.760000       afrsil1   \n",
       "3  afrsil1/XC205893.ogg  105.482449       afrsil1   \n",
       "4  afrsil1/XC207431.ogg    3.395918       afrsil1   \n",
       "\n",
       "                 secondary_labels                     type  \n",
       "0                              []  ['call', 'flight call']  \n",
       "1  ['houspa', 'redava', 'zebdov']                 ['call']  \n",
       "2                              []         ['call', 'song']  \n",
       "3                              []   ['alarm call', 'call']  \n",
       "4                              []          ['flight call']  "
      ]
     },
     "execution_count": 4,
     "metadata": {},
     "output_type": "execute_result"
    }
   ],
   "source": [
    "train_metadata_df = pd.read_csv(\n",
    "    \"https://storage.googleapis.com/birdclef-eda-f22/data/raw/birdclef-2022/train_metadata.csv\"\n",
    ")\n",
    "merged_df = pd.merge(\n",
    "    df,\n",
    "    train_metadata_df[[\"filename\", \"primary_label\", \"secondary_labels\", \"type\"]],\n",
    "    on=\"filename\",\n",
    ")\n",
    "\n",
    "merged_df.head()"
   ]
  }
 ],
 "metadata": {
  "kernelspec": {
   "display_name": "Python 3.10.5 ('venv': venv)",
   "language": "python",
   "name": "python3"
  },
  "language_info": {
   "codemirror_mode": {
    "name": "ipython",
    "version": 3
   },
   "file_extension": ".py",
   "mimetype": "text/x-python",
   "name": "python",
   "nbconvert_exporter": "python",
   "pygments_lexer": "ipython3",
   "version": "3.10.5"
  },
  "orig_nbformat": 4,
  "vscode": {
   "interpreter": {
    "hash": "9704a69c83778d49e485d9487bc0655af982e0e678377ed5351561f0534b9b47"
   }
  }
 },
 "nbformat": 4,
 "nbformat_minor": 2
}
